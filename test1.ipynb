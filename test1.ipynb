{
 "cells": [
  {
   "cell_type": "code",
   "execution_count": 2,
   "id": "a2ba141f",
   "metadata": {},
   "outputs": [],
   "source": [
    "import numpy as np\n",
    "import pandas as pd\n",
    "import matplotlib.pyplot as plt\n",
    "import urllib.request\n",
    "from sklearn.model_selection import train_test_split\n",
    "from tensorflow.keras.preprocessing.text import Tokenizer\n",
    "from tensorflow.keras.preprocessing.sequence import pad_sequences\n",
    "\n",
    "pd.set_option('mode.chained_assignment',  None)"
   ]
  },
  {
   "cell_type": "code",
   "execution_count": 3,
   "id": "f0fe6add",
   "metadata": {},
   "outputs": [],
   "source": [
    "voice_data = pd.read_csv('1and2.csv', encoding='cp949') # 1and2.csv 파일을 읽어온다."
   ]
  },
  {
   "cell_type": "code",
   "execution_count": 4,
   "id": "46452745",
   "metadata": {},
   "outputs": [
    {
     "data": {
      "text/html": [
       "<div>\n",
       "<style scoped>\n",
       "    .dataframe tbody tr th:only-of-type {\n",
       "        vertical-align: middle;\n",
       "    }\n",
       "\n",
       "    .dataframe tbody tr th {\n",
       "        vertical-align: top;\n",
       "    }\n",
       "\n",
       "    .dataframe thead th {\n",
       "        text-align: right;\n",
       "    }\n",
       "</style>\n",
       "<table border=\"1\" class=\"dataframe\">\n",
       "  <thead>\n",
       "    <tr style=\"text-align: right;\">\n",
       "      <th></th>\n",
       "      <th>f1</th>\n",
       "      <th>f2</th>\n",
       "      <th>Unnamed: 2</th>\n",
       "    </tr>\n",
       "  </thead>\n",
       "  <tbody>\n",
       "    <tr>\n",
       "      <th>0</th>\n",
       "      <td>1.0</td>\n",
       "      <td>'여보세요 여보세요 아 예 일단은 상한기간 5년 연이율은 7.8% 이세요 그리고 한...</td>\n",
       "      <td>NaN</td>\n",
       "    </tr>\n",
       "    <tr>\n",
       "      <th>1</th>\n",
       "      <td>1.0</td>\n",
       "      <td>그리고 공증 비용 50만 2000원이시구요 공증 비용은 세달동안 연체 안했을시에 환...</td>\n",
       "      <td>NaN</td>\n",
       "    </tr>\n",
       "    <tr>\n",
       "      <th>2</th>\n",
       "      <td>1.0</td>\n",
       "      <td>지금은 안되는데</td>\n",
       "      <td>NaN</td>\n",
       "    </tr>\n",
       "    <tr>\n",
       "      <th>3</th>\n",
       "      <td>1.0</td>\n",
       "      <td>언제쯤 하실 것 같아요</td>\n",
       "      <td>NaN</td>\n",
       "    </tr>\n",
       "    <tr>\n",
       "      <th>4</th>\n",
       "      <td>1.0</td>\n",
       "      <td>먼저 내고 받는거에요?</td>\n",
       "      <td>NaN</td>\n",
       "    </tr>\n",
       "    <tr>\n",
       "      <th>...</th>\n",
       "      <td>...</td>\n",
       "      <td>...</td>\n",
       "      <td>...</td>\n",
       "    </tr>\n",
       "    <tr>\n",
       "      <th>3916</th>\n",
       "      <td>0.0</td>\n",
       "      <td>그래서 할인도 많이 받고 더 낫더라</td>\n",
       "      <td>NaN</td>\n",
       "    </tr>\n",
       "    <tr>\n",
       "      <th>3917</th>\n",
       "      <td>0.0</td>\n",
       "      <td>대용량으로 사서 오래 오래 두고 먹어야겠다</td>\n",
       "      <td>NaN</td>\n",
       "    </tr>\n",
       "    <tr>\n",
       "      <th>3918</th>\n",
       "      <td>0.0</td>\n",
       "      <td>응 그래   내가 사보고 괜찮으면 알려줄게</td>\n",
       "      <td>NaN</td>\n",
       "    </tr>\n",
       "    <tr>\n",
       "      <th>3919</th>\n",
       "      <td>0.0</td>\n",
       "      <td>진짜 라면 없인 못살아요 내 뽀글이</td>\n",
       "      <td>NaN</td>\n",
       "    </tr>\n",
       "    <tr>\n",
       "      <th>3920</th>\n",
       "      <td>NaN</td>\n",
       "      <td>NaN</td>\n",
       "      <td>NaN</td>\n",
       "    </tr>\n",
       "  </tbody>\n",
       "</table>\n",
       "<p>3921 rows × 3 columns</p>\n",
       "</div>"
      ],
      "text/plain": [
       "       f1                                                 f2  Unnamed: 2\n",
       "0     1.0  '여보세요 여보세요 아 예 일단은 상한기간 5년 연이율은 7.8% 이세요 그리고 한...         NaN\n",
       "1     1.0  그리고 공증 비용 50만 2000원이시구요 공증 비용은 세달동안 연체 안했을시에 환...         NaN\n",
       "2     1.0                                           지금은 안되는데         NaN\n",
       "3     1.0                                       언제쯤 하실 것 같아요         NaN\n",
       "4     1.0                                       먼저 내고 받는거에요?         NaN\n",
       "...   ...                                                ...         ...\n",
       "3916  0.0                                그래서 할인도 많이 받고 더 낫더라         NaN\n",
       "3917  0.0                            대용량으로 사서 오래 오래 두고 먹어야겠다         NaN\n",
       "3918  0.0                            응 그래   내가 사보고 괜찮으면 알려줄게         NaN\n",
       "3919  0.0                                진짜 라면 없인 못살아요 내 뽀글이         NaN\n",
       "3920  NaN                                                NaN         NaN\n",
       "\n",
       "[3921 rows x 3 columns]"
      ]
     },
     "execution_count": 4,
     "metadata": {},
     "output_type": "execute_result"
    }
   ],
   "source": [
    "voice_data"
   ]
  },
  {
   "cell_type": "code",
   "execution_count": 6,
   "id": "c5f85f44",
   "metadata": {},
   "outputs": [
    {
     "name": "stdout",
     "output_type": "stream",
     "text": [
      "총 샘플의 수 : 3921\n"
     ]
    }
   ],
   "source": [
    "print('총 샘플의 수 :',len(voice_data))  # 0번부터 3920까지 총 3921개"
   ]
  },
  {
   "cell_type": "code",
   "execution_count": 7,
   "id": "ee162d0c",
   "metadata": {},
   "outputs": [],
   "source": [
    "del voice_data['Unnamed: 2'] # Feature 중 필요없는 부분 Unnamed:2 Feature를 delete"
   ]
  },
  {
   "cell_type": "code",
   "execution_count": 9,
   "id": "5947edda",
   "metadata": {
    "scrolled": true
   },
   "outputs": [
    {
     "data": {
      "text/html": [
       "<div>\n",
       "<style scoped>\n",
       "    .dataframe tbody tr th:only-of-type {\n",
       "        vertical-align: middle;\n",
       "    }\n",
       "\n",
       "    .dataframe tbody tr th {\n",
       "        vertical-align: top;\n",
       "    }\n",
       "\n",
       "    .dataframe thead th {\n",
       "        text-align: right;\n",
       "    }\n",
       "</style>\n",
       "<table border=\"1\" class=\"dataframe\">\n",
       "  <thead>\n",
       "    <tr style=\"text-align: right;\">\n",
       "      <th></th>\n",
       "      <th>f1</th>\n",
       "      <th>f2</th>\n",
       "    </tr>\n",
       "  </thead>\n",
       "  <tbody>\n",
       "    <tr>\n",
       "      <th>0</th>\n",
       "      <td>1.0</td>\n",
       "      <td>'여보세요 여보세요 아 예 일단은 상한기간 5년 연이율은 7.8% 이세요 그리고 한...</td>\n",
       "    </tr>\n",
       "    <tr>\n",
       "      <th>1</th>\n",
       "      <td>1.0</td>\n",
       "      <td>그리고 공증 비용 50만 2000원이시구요 공증 비용은 세달동안 연체 안했을시에 환...</td>\n",
       "    </tr>\n",
       "    <tr>\n",
       "      <th>2</th>\n",
       "      <td>1.0</td>\n",
       "      <td>지금은 안되는데</td>\n",
       "    </tr>\n",
       "    <tr>\n",
       "      <th>3</th>\n",
       "      <td>1.0</td>\n",
       "      <td>언제쯤 하실 것 같아요</td>\n",
       "    </tr>\n",
       "    <tr>\n",
       "      <th>4</th>\n",
       "      <td>1.0</td>\n",
       "      <td>먼저 내고 받는거에요?</td>\n",
       "    </tr>\n",
       "  </tbody>\n",
       "</table>\n",
       "</div>"
      ],
      "text/plain": [
       "    f1                                                 f2\n",
       "0  1.0  '여보세요 여보세요 아 예 일단은 상한기간 5년 연이율은 7.8% 이세요 그리고 한...\n",
       "1  1.0  그리고 공증 비용 50만 2000원이시구요 공증 비용은 세달동안 연체 안했을시에 환...\n",
       "2  1.0                                           지금은 안되는데\n",
       "3  1.0                                       언제쯤 하실 것 같아요\n",
       "4  1.0                                       먼저 내고 받는거에요?"
      ]
     },
     "execution_count": 9,
     "metadata": {},
     "output_type": "execute_result"
    }
   ],
   "source": [
    "voice_data[0:5] # f1과 f2만 남은걸 볼 수 있음"
   ]
  },
  {
   "cell_type": "code",
   "execution_count": 10,
   "id": "492a9ec9",
   "metadata": {
    "scrolled": false
   },
   "outputs": [
    {
     "name": "stdout",
     "output_type": "stream",
     "text": [
      "<class 'pandas.core.frame.DataFrame'>\n",
      "RangeIndex: 3921 entries, 0 to 3920\n",
      "Data columns (total 2 columns):\n",
      " #   Column  Non-Null Count  Dtype  \n",
      "---  ------  --------------  -----  \n",
      " 0   f1      3920 non-null   float64\n",
      " 1   f2      3920 non-null   object \n",
      "dtypes: float64(1), object(1)\n",
      "memory usage: 61.4+ KB\n"
     ]
    }
   ],
   "source": [
    "voice_data.info()"
   ]
  },
  {
   "cell_type": "code",
   "execution_count": 12,
   "id": "737693ab",
   "metadata": {},
   "outputs": [
    {
     "name": "stdout",
     "output_type": "stream",
     "text": [
      "결측값 여부 : True\n"
     ]
    }
   ],
   "source": [
    "print('결측값 여부 :',voice_data.isnull().values.any())"
   ]
  },
  {
   "cell_type": "code",
   "execution_count": 13,
   "id": "d769174a",
   "metadata": {},
   "outputs": [
    {
     "name": "stdout",
     "output_type": "stream",
     "text": [
      "결측값 여부 : False\n"
     ]
    }
   ],
   "source": [
    "voice_data = voice_data.dropna() # 결측치제거\n",
    "print('결측값 여부 :',voice_data.isnull().values.any())"
   ]
  },
  {
   "cell_type": "code",
   "execution_count": 14,
   "id": "50c013dd",
   "metadata": {},
   "outputs": [
    {
     "name": "stdout",
     "output_type": "stream",
     "text": [
      "f2열의 유니크한 값 : 3680\n"
     ]
    }
   ],
   "source": [
    "print('f2열의 유니크한 값 :',voice_data['f2'].nunique()) # 중복값이 240개가 있었음 "
   ]
  },
  {
   "cell_type": "code",
   "execution_count": 16,
   "id": "cdc9b3d9",
   "metadata": {},
   "outputs": [
    {
     "name": "stdout",
     "output_type": "stream",
     "text": [
      "총 샘플의 수 : 3680\n"
     ]
    }
   ],
   "source": [
    "voice_data.drop_duplicates(subset=['f2'], inplace=True) # 중복행 제거\n",
    "print('총 샘플의 수 :',len(voice_data))"
   ]
  },
  {
   "cell_type": "code",
   "execution_count": 17,
   "id": "a23c36fb",
   "metadata": {},
   "outputs": [
    {
     "data": {
      "text/html": [
       "<div>\n",
       "<style scoped>\n",
       "    .dataframe tbody tr th:only-of-type {\n",
       "        vertical-align: middle;\n",
       "    }\n",
       "\n",
       "    .dataframe tbody tr th {\n",
       "        vertical-align: top;\n",
       "    }\n",
       "\n",
       "    .dataframe thead th {\n",
       "        text-align: right;\n",
       "    }\n",
       "</style>\n",
       "<table border=\"1\" class=\"dataframe\">\n",
       "  <thead>\n",
       "    <tr style=\"text-align: right;\">\n",
       "      <th></th>\n",
       "      <th>f1</th>\n",
       "      <th>f2</th>\n",
       "    </tr>\n",
       "  </thead>\n",
       "  <tbody>\n",
       "    <tr>\n",
       "      <th>0</th>\n",
       "      <td>1</td>\n",
       "      <td>'여보세요 여보세요 아 예 일단은 상한기간 5년 연이율은 7.8% 이세요 그리고 한...</td>\n",
       "    </tr>\n",
       "    <tr>\n",
       "      <th>1</th>\n",
       "      <td>1</td>\n",
       "      <td>그리고 공증 비용 50만 2000원이시구요 공증 비용은 세달동안 연체 안했을시에 환...</td>\n",
       "    </tr>\n",
       "    <tr>\n",
       "      <th>2</th>\n",
       "      <td>1</td>\n",
       "      <td>지금은 안되는데</td>\n",
       "    </tr>\n",
       "    <tr>\n",
       "      <th>3</th>\n",
       "      <td>1</td>\n",
       "      <td>언제쯤 하실 것 같아요</td>\n",
       "    </tr>\n",
       "    <tr>\n",
       "      <th>4</th>\n",
       "      <td>1</td>\n",
       "      <td>먼저 내고 받는거에요?</td>\n",
       "    </tr>\n",
       "    <tr>\n",
       "      <th>...</th>\n",
       "      <td>...</td>\n",
       "      <td>...</td>\n",
       "    </tr>\n",
       "    <tr>\n",
       "      <th>3914</th>\n",
       "      <td>0</td>\n",
       "      <td>진짜 조금이라도 저렴하게 사 먹게</td>\n",
       "    </tr>\n",
       "    <tr>\n",
       "      <th>3916</th>\n",
       "      <td>0</td>\n",
       "      <td>그래서 할인도 많이 받고 더 낫더라</td>\n",
       "    </tr>\n",
       "    <tr>\n",
       "      <th>3917</th>\n",
       "      <td>0</td>\n",
       "      <td>대용량으로 사서 오래 오래 두고 먹어야겠다</td>\n",
       "    </tr>\n",
       "    <tr>\n",
       "      <th>3918</th>\n",
       "      <td>0</td>\n",
       "      <td>응 그래   내가 사보고 괜찮으면 알려줄게</td>\n",
       "    </tr>\n",
       "    <tr>\n",
       "      <th>3919</th>\n",
       "      <td>0</td>\n",
       "      <td>진짜 라면 없인 못살아요 내 뽀글이</td>\n",
       "    </tr>\n",
       "  </tbody>\n",
       "</table>\n",
       "<p>3680 rows × 2 columns</p>\n",
       "</div>"
      ],
      "text/plain": [
       "      f1                                                 f2\n",
       "0      1  '여보세요 여보세요 아 예 일단은 상한기간 5년 연이율은 7.8% 이세요 그리고 한...\n",
       "1      1  그리고 공증 비용 50만 2000원이시구요 공증 비용은 세달동안 연체 안했을시에 환...\n",
       "2      1                                           지금은 안되는데\n",
       "3      1                                       언제쯤 하실 것 같아요\n",
       "4      1                                       먼저 내고 받는거에요?\n",
       "...   ..                                                ...\n",
       "3914   0                                 진짜 조금이라도 저렴하게 사 먹게\n",
       "3916   0                                그래서 할인도 많이 받고 더 낫더라\n",
       "3917   0                            대용량으로 사서 오래 오래 두고 먹어야겠다\n",
       "3918   0                            응 그래   내가 사보고 괜찮으면 알려줄게\n",
       "3919   0                                진짜 라면 없인 못살아요 내 뽀글이\n",
       "\n",
       "[3680 rows x 2 columns]"
      ]
     },
     "execution_count": 17,
     "metadata": {},
     "output_type": "execute_result"
    }
   ],
   "source": [
    "voice_data.astype({\"f1\" : np.int64}) # f1 feature의 value를 float에서 int로 바꿈"
   ]
  },
  {
   "cell_type": "code",
   "execution_count": 19,
   "id": "2244ee5b",
   "metadata": {},
   "outputs": [
    {
     "data": {
      "text/plain": [
       "<AxesSubplot:>"
      ]
     },
     "execution_count": 19,
     "metadata": {},
     "output_type": "execute_result"
    },
    {
     "data": {
      "image/png": "[encoded data removed]",
      "text/plain": [
       "<Figure size 432x288 with 1 Axes>"
      ]
     },
     "metadata": {
      "needs_background": "light"
     },
     "output_type": "display_data"
    }
   ],
   "source": [
    "voice_data['f1'].value_counts().plot(kind='bar') # 비율 확인 (현재 1차 학습의 데이터 현황기록)"
   ]
  },
  {
   "cell_type": "code",
   "execution_count": 20,
   "id": "04448fa0",
   "metadata": {},
   "outputs": [
    {
     "name": "stdout",
     "output_type": "stream",
     "text": [
      "보이스피싱 corpus와 일상어 corpus의 개수\n",
      "    f1  count\n",
      "0  0.0   2691\n",
      "1  1.0    989\n"
     ]
    }
   ],
   "source": [
    "print('보이스피싱 corpus와 일상어 corpus의 개수') #(현재 1차 학습의 데이터 현황기록)\n",
    "print(voice_data.groupby('f1').size().reset_index(name='count'))\n"
   ]
  },
  {
   "cell_type": "code",
   "execution_count": 23,
   "id": "df9171fd",
   "metadata": {},
   "outputs": [
    {
     "name": "stdout",
     "output_type": "stream",
     "text": [
      "보이스피싱의 비율 = 73.125%\n",
      "일상어의 비율 = 26.875%\n"
     ]
    }
   ],
   "source": [
    "#(현재 1차 학습의 데이터 현황기록)\n",
    "print(f'보이스피싱의 비율 = {round(voice_data[\"f1\"].value_counts()[0]/len(voice_data) * 100,3)}%')\n",
    "print(f'일상어의 비율 = {round(voice_data[\"f1\"].value_counts()[1]/len(voice_data) * 100,3)}%')"
   ]
  },
  {
   "cell_type": "code",
   "execution_count": 24,
   "id": "ea1c9605",
   "metadata": {},
   "outputs": [
    {
     "name": "stdout",
     "output_type": "stream",
     "text": [
      "본문의 개수: 3680\n",
      "레이블의 개수: 3680\n"
     ]
    }
   ],
   "source": [
    "# X_data에는 본문을 넣고 Y_data는 정답값을 넣고 다 들어갔나 확인\n",
    "X_data = voice_data['f2']\n",
    "y_data = voice_data['f1']\n",
    "print('본문의 개수: {}'.format(len(X_data)))\n",
    "print('레이블의 개수: {}'.format(len(y_data)))"
   ]
  },
  {
   "cell_type": "code",
   "execution_count": 25,
   "id": "6a9443fd",
   "metadata": {},
   "outputs": [
    {
     "name": "stdout",
     "output_type": "stream",
     "text": [
      "--------훈련 데이터의 비율-----------\n",
      "정상 메일 = 73.132%\n",
      "스팸 메일 = 26.868%\n"
     ]
    }
   ],
   "source": [
    "# from sklearn.model_selection 라이브러리에서 train_test_split이라는 함수 사용하여 학습과 테스트데이터셋 8:2로 나누고\n",
    "# random_state에 고정값 0(임의의수 가능) 을 넣어 같은 학습/테스트 데이터셋을 생성하기 위한 수를 넣었음\n",
    "# random_state에 값을 넣지 않을시 실행할때마다 무작위로 분리되어 결과값이 달라짐\n",
    "# stratify=y_data Stratified 기반 분할, train 데이터의 20%를 평가 데이터 셋으로 사용. (80% 데이터 학습에 사용)\n",
    "# stratify 값을 target으로 지정해주면 각각의 class 비율(ratio)을 train / validation에 유지해줌\n",
    "X_train, X_test, y_train, y_test = train_test_split(X_data, y_data, test_size=0.2, random_state=0, stratify=y_data)\n",
    "print('--------훈련 데이터의 비율-----------')\n",
    "print(f'정상 메일 = {round(y_train.value_counts()[0]/len(y_train) * 100,3)}%')\n",
    "print(f'스팸 메일 = {round(y_train.value_counts()[1]/len(y_train) * 100,3)}%')"
   ]
  },
  {
   "cell_type": "code",
   "execution_count": 45,
   "id": "614f2e06",
   "metadata": {
    "scrolled": true
   },
   "outputs": [
    {
     "data": {
      "text/plain": [
       "'2944'"
      ]
     },
     "execution_count": 45,
     "metadata": {},
     "output_type": "execute_result"
    }
   ],
   "source": [
    "format(len(y_train))# y_train f1, 즉 본문의 데이터중 train셋에 들어간 데이터 (80%)"
   ]
  },
  {
   "cell_type": "code",
   "execution_count": 53,
   "id": "23a8face",
   "metadata": {},
   "outputs": [
    {
     "data": {
      "text/plain": [
       "'736'"
      ]
     },
     "execution_count": 53,
     "metadata": {},
     "output_type": "execute_result"
    }
   ],
   "source": [
    "format(len(y_test))# y_train f1, 즉 본문의 데이터중 test셋에 들어간 데이터 (200%)"
   ]
  },
  {
   "cell_type": "code",
   "execution_count": 46,
   "id": "847f9753",
   "metadata": {
    "scrolled": true
   },
   "outputs": [
    {
     "data": {
      "text/plain": [
       "0.0    2153\n",
       "1.0     791\n",
       "Name: f1, dtype: int64"
      ]
     },
     "execution_count": 46,
     "metadata": {},
     "output_type": "execute_result"
    }
   ],
   "source": [
    "y_train.value_counts() # y_train의 value가 전체 훈련데이터의 비율(73%,26%)을 따라간것을 알 수 있음 (stratify=y_data)"
   ]
  },
  {
   "cell_type": "code",
   "execution_count": 52,
   "id": "0c82970f",
   "metadata": {},
   "outputs": [
    {
     "data": {
      "text/plain": [
       "0.0    538\n",
       "1.0    198\n",
       "Name: f1, dtype: int64"
      ]
     },
     "execution_count": 52,
     "metadata": {},
     "output_type": "execute_result"
    }
   ],
   "source": [
    "y_test.value_counts()"
   ]
  },
  {
   "cell_type": "code",
   "execution_count": 29,
   "id": "538eac82",
   "metadata": {},
   "outputs": [
    {
     "name": "stdout",
     "output_type": "stream",
     "text": [
      "--------테스트 데이터의 비율-----------\n",
      "정상 메일 = 73.098%\n",
      "스팸 메일 = 26.902%\n"
     ]
    }
   ],
   "source": [
    "print('--------테스트 데이터의 비율-----------')\n",
    "print(f'정상 메일 = {round(y_test.value_counts()[0]/len(y_test) * 100,3)}%')\n",
    "print(f'스팸 메일 = {round(y_test.value_counts()[1]/len(y_test) * 100,3)}%')"
   ]
  },
  {
   "cell_type": "code",
   "execution_count": 30,
   "id": "03d71635",
   "metadata": {},
   "outputs": [],
   "source": [
    "tokenizer = Tokenizer() # tokenizer 객체생성\n",
    "tokenizer.fit_on_texts(X_train) # 단어 인덱스를 구축 (문자 데이터를 받아 리스트로 변환)\n",
    "X_train_encoded = tokenizer.texts_to_sequences(X_train) #문자열을 정수 인덱스의 리스트로 변환\n"
   ]
  },
  {
   "cell_type": "code",
   "execution_count": 32,
   "id": "1c2b560d",
   "metadata": {},
   "outputs": [
    {
     "name": "stdout",
     "output_type": "stream",
     "text": [
      "[[869, 1332, 91, 3, 186, 2513], [2514], [73, 14, 636, 2515, 222, 2516], [11, 53, 2517, 153, 870], [871, 247, 505, 70, 2518, 2519, 102, 2520, 2521, 31, 872, 1333, 172, 223, 63, 1334, 64, 2522]]\n"
     ]
    }
   ],
   "source": [
    "print(X_train_encoded[:5]) # encoding된 X_train의 5번째까지의 리스트를 출력"
   ]
  },
  {
   "cell_type": "code",
   "execution_count": 33,
   "id": "2a050d87",
   "metadata": {},
   "outputs": [
    {
     "data": {
      "text/plain": [
       "2502                                   크게 해줘야 되는 거 아냐? 부담\n",
       "2945                                                 명의여!\n",
       "3281                            오 이제 오복이 안부는 거기서 확인해야겠다  \n",
       "2181                                   나는 바로  옆동네인 줄 알았어!\n",
       "812       쉽게 말씀 드리면 하나 카드에서 카드론으로 해서 백만원이 됐든 이 백만원 삼백만...\n",
       "Name: f2, dtype: object"
      ]
     },
     "execution_count": 33,
     "metadata": {},
     "output_type": "execute_result"
    }
   ],
   "source": [
    "X_train.head() # 2502 부터 X_train 데이터의 1번임 위에 매핑이 되는것을 알 수 있음"
   ]
  },
  {
   "cell_type": "code",
   "execution_count": 34,
   "id": "ef31a99d",
   "metadata": {
    "scrolled": false
   },
   "outputs": [
    {
     "name": "stdout",
     "output_type": "stream",
     "text": [
      "{'진짜': 1, '아': 2, '거': 3, '지금': 4, '그': 5, '안': 6, '고객님': 7, '나': 8, '근데': 9, '네': 10, '나는': 11, '제가': 12, '좀': 13, '이제': 14, '어': 15, '뭐': 16, '저희가': 17, '나도': 18, '맞아': 19, '그러면': 20, '저희': 21, '다': 22, '그래서': 23, '해': 24, '그거': 25, '있어': 26, '한': 27, '때문에': 28, '와': 29, '수': 30, '이': 31, '그럼': 32, '잘': 33, '너무': 34, '같아': 35, '많이': 36, '그냥': 37, '왜': 38, '헐': 39, '때': 40, '그리고': 41, '그런': 42, '한번': 43, '있는': 44, '거야': 45, '일단': 46, '고객님께서': 47, '혹시': 48, '어떤': 49, '본인': 50, '또': 51, '하는': 52, '바로': 53, '엄청': 54, '아니': 55, '더': 56, '언니': 57, '하고': 58, '게': 59, '응': 60, '어떻게': 61, '웅': 62, '오늘': 63, '거예요': 64, '못': 65, '이렇게': 66, '그렇게': 67, '할': 68, '내가': 69, '하나': 70, '대출': 71, '전화': 72, '오': 73, '봐': 74, '대박': 75, '무슨': 76, '가서': 77, '난': 78, '언니는': 79, '너': 80, '같이': 81, '알아': 82, '내': 83, '그게': 84, '우리': 85, '아니야': 86, '은행': 87, '예': 88, '좋아': 89, '전에': 90, '되는': 91, '하면': 92, '다른': 93, '몇': 94, '그래': 95, '좋아해': 96, '요즘에': 97, '정도': 98, '같은': 99, '제일': 100, '받고': 101, '해서': 102, '거기': 103, '다시': 104, '확인': 105, '봤어': 106, '이게': 107, '대해서': 108, '보고': 109, '건': 110, '음': 111, '통장': 112, '자금': 113, '아니면': 114, '없어': 115, '이번에': 116, '있는데': 117, '얼마': 118, '직접': 119, '계속': 120, '연락': 121, '그러시면': 122, '저한테': 123, '본인이': 124, '하는데': 125, '요즘': 126, '이거': 127, '본인께서': 128, '부분': 129, '일단은': 130, '같은데': 131, '좋지': 132, '아직': 133, '나중에': 134, '꼭': 135, '했어': 136, '이런': 137, '가': 138, '하지': 139, '겁니다': 140, '맨날': 141, '없는': 142, '알고': 143, '통장이': 144, '될': 145, '알겠습니다': 146, '그래도': 147, '진행을': 148, '연락을': 149, '그때': 150, '않아': 151, '뭐야': 152, '줄': 153, '언제': 154, '가면': 155, '앞으로': 156, '두': 157, '수도': 158, '것': 159, '보내': 160, '먹고': 161, '적': 162, '너는': 163, '먼저': 164, '싶어': 165, '있고': 166, '좋은': 167, '고객님이': 168, '되세요': 169, '전화를': 170, '시켜': 171, '원': 172, '받아': 173, '어디': 174, '다음에': 175, '완전': 176, '오빠': 177, '그건': 178, '서류': 179, '아니고': 180, '하더라': 181, '만약에': 182, '그니까': 183, '쪽으로': 184, '돈': 185, '아냐': 186, '됩니다': 187, '이번': 188, '말씀을': 189, '했는데': 190, '해야': 191, '그러니까': 192, '있어서': 193, '그거는': 194, '있을': 195, '쪽에서': 196, '대출금': 197, '거고요': 198, '드릴': 199, '하시는': 200, '가지고': 201, '거래': 202, '하게': 203, '되면': 204, '그렇구나': 205, '모': 206, '것도': 207, '저희는': 208, '중에': 209, '거에요': 210, '우리는': 211, '지금은': 212, '통장을': 213, '싶다': 214, '공증': 215, '저도': 216, '시간': 217, '잠시만요': 218, '가고': 219, '제': 220, '드린': 221, '거기서': 222, '대출을': 223, '서울': 224, '살': 225, '현재': 226, '거는': 227, '된': 228, '갈': 229, '하루': 230, '거지': 231, '먹었어': 232, '진행이': 233, '공증서': 234, '내일': 235, '통화': 236, '간': 237, '인제': 238, '상환': 239, '갔어': 240, '처리': 241, '나서': 242, '사람': 243, '사람이': 244, '위해서': 245, '열심히': 246, '말씀': 247, '애들': 248, '하시면': 249, '역시': 250, '본인의': 251, '일': 252, '듯': 253, '중': 254, '걸로': 255, '비': 256, '쪽': 257, '어느': 258, '보니까': 259, '있으십니까': 260, '개': 261, '저': 262, '얼마나': 263, '있어요': 264, '돼': 265, '몇가지': 266, '해주셔야': 267, '자주': 268, '그걸': 269, '코로나': 270, '빨리': 271, '조사를': 272, '녹취': 273, '저는': 274, '주세요': 275, '통장에': 276, '계좌': 277, '농협': 278, '봤는데': 279, '알바': 280, '그러시면은': 281, '건데': 282, '걸': 283, '부럽다': 284, '되게': 285, '항상': 286, '아니라': 287, '그런가': 288, '거고': 289, '차': 290, '되는데': 291, '장난': 292, '처리가': 293, '거잖아요': 294, '고객님한테': 295, '하시고': 296, '마이너스': 297, '저희쪽에서': 298, '부분은': 299, '되요': 300, '좋겠다': 301, '국민은행': 302, '이자': 303, '여행': 304, '요새': 305, '혼자': 306, '부분이': 307, '처리를': 308, '전혀': 309, '해당': 310, '아마': 311, '경우에는': 312, '나랑': 313, '무서워': 314, '받으신': 315, '날': 316, '간단하게': 317, '드리는': 318, '집': 319, '정말': 320, '갔다': 321, '알지': 322, '너도': 323, '당일': 324, '싶은데': 325, '안에': 326, '드리겠습니다': 327, '먹는': 328, '그러시고': 329, '없이': 330, '명의로': 331, '군대': 332, '시간이': 333, '게임': 334, '해드릴': 335, '상환을': 336, '했나': 337, '채권': 338, '있으세요': 339, '그렇죠': 340, '몰라': 341, '백신': 342, '신분증': 343, '아시는': 344, '텐데': 345, '분': 346, '가는': 347, '낚시': 348, '사건': 349, '집에': 350, '그치': 351, '보면': 352, '담당자': 353, '질문을': 354, '다만': 355, '가지': 356, '수가': 357, '동결처리': 358, '있습니다': 359, '있다고': 360, '아닌': 361, '경기도': 362, '패딩': 363, '그쪽으로': 364, '처음': 365, '둘': 366, '아는': 367, '맞고': 368, '때는': 369, '타고': 370, '밥': 371, '놀러': 372, '단소': 373, '오래': 374, '따로': 375, '되시면': 376, '주시면': 377, '돼요': 378, '많은': 379, '저희도': 380, '조금': 381, '없고': 382, '예예': 383, '하잖아': 384, '거의': 385, '없어서': 386, '많아': 387, '대박이다': 388, '납부': 389, '중국': 390, '고양이': 391, '네네': 392, '받는': 393, '현장에서': 394, '대량의': 395, '생각을': 396, '배웠어': 397, '그러게': 398, '문제가': 399, '방법이': 400, '있으시면': 401, '사용': 402, '환급': 403, '불법': 404, '가야지': 405, '먹어': 406, '당연하지': 407, '얼른': 408, '발생이': 409, '말고': 410, '있지': 411, '별로': 412, '아니에요': 413, '나온': 414, '이미': 415, '병원': 416, '사진': 417, '사는': 418, '절대': 419, '수사관입니다': 420, '큰': 421, '드릴게요': 422, '달에': 423, '나와': 424, '있기': 425, '납부를': 426, '최근': 427, '있습니까': 428, '못해': 429, '왔어': 430, '부분에': 431, '안녕하세요': 432, '여름에': 433, '거기에': 434, '어차피': 435, '있었어': 436, '평점이': 437, '본': 438, '진행': 439, '번호': 440, '어때': 441, '다니고': 442, '기본': 443, '금액': 444, '라면': 445, '사람들이': 446, '머리': 447, '통해서': 448, '잠시': 449, '경우는': 450, '그러면은': 451, '최대한': 452, '화장실': 453, '되고': 454, '친구': 455, '왜냐면': 456, '예전에': 457, '있다': 458, '최소': 459, '다음': 460, '하실': 461, '교육': 462, '해봐': 463, '인정': 464, '온': 465, '5': 466, '먹을': 467, '많아서': 468, '비용은': 469, '뭐가': 470, '재밌어': 471, '이해가': 472, '않을까': 473, '데리고': 474, '하신': 475, '승인': 476, '사람들은': 477, '정도가': 478, '애들은': 479, '편이야': 480, '하기': 481, '어제': 482, '영화': 483, '얘기': 484, '식으로': 485, '주셔야': 486, '종일': 487, '달': 488, '점': 489, '대한': 490, '거라': 491, '요청을': 492, '아직도': 493, '확인이': 494, '하겠습니다': 495, '피해자': 496, '그때는': 497, '일주일': 498, '아파': 499, '오셔서': 500, '있으니까': 501, '돈이': 502, '되기': 503, '확인을': 504, '드리면': 505, '보시면': 506, '지금도': 507, '이천': 508, '첨단범죄수사': 509, '않도록': 510, '되어': 511, '우리은행': 512, '확인해': 513, '가시면': 514, '그쪽': 515, '하던데': 516, '버스': 517, '번': 518, '받을': 519, '맛있는': 520, '잡고': 521, '금융권': 522, '처음에': 523, '월요일날': 524, '여기는': 525, '돈을': 526, '여기': 527, '가장': 528, '생각해': 529, '보통': 530, '생긴': 531, '주시구요': 532, '부탁': 533, '나왔어': 534, '같아요': 535, '필요': 536, '한도': 537, '콘서트': 538, '번도': 539, '거를': 540, '있는데요': 541, '여기서': 542, '빠르게': 543, '비용': 544, '치킨': 545, '곧': 546, '메모': 547, '20': 548, '일이': 549, '결제': 550, '카드를': 551, '늦게': 552, '좋아하는데': 553, '통장으로': 554, '건가': 555, '올해': 556, '중도': 557, '어디서': 558, '출금': 559, '산와머니': 560, '담당': 561, '녹취를': 562, '가봐': 563, '다녀': 564, '그렇지': 565, '본점에서': 566, '여자친구': 567, '아침에': 568, '아무': 569, '되지': 570, '사용하시는': 571, '안경': 572, '입니다': 573, '와서': 574, '줘': 575, '자금을': 576, '유튜브로': 577, '볼': 578, '술': 579, '캠핑': 580, '드렸습니다': 581, '국민': 582, '주고': 583, '캐피탈': 584, '너가': 585, '언니가': 586, '남친': 587, '이력서': 588, '있으신가요': 589, '이쪽으로': 590, '무조건': 591, '바다': 592, '좋아하는': 593, '눈': 594, '없으세요': 595, '뭔가': 596, '원래': 597, '분이': 598, '3': 599, '전자': 600, '어렸을': 601, '샀어': 602, '아니고요': 603, '그것도': 604, '심지어': 605, '살고': 606, '열어': 607, '마시고': 608, '운동': 609, '친구들이랑': 610, '곳이': 611, '아님': 612, '보실': 613, '괜찮아': 614, '들어': 615, '별': 616, '대포통장이': 617, '그렇기': 618, '최근에': 619, '하셔가지고': 620, '딱': 621, '보는': 622, '중이야': 623, '주시고': 624, '위임': 625, '채무': 626, '주에': 627, '적은': 628, '있잖아': 629, '박스': 630, '지금부터': 631, '기업': 632, '오빠는': 633, '누가': 634, '모르는': 635, '오복이': 636, '그러고': 637, '곳': 638, '사건에': 639, '계좌번호': 640, '수사': 641, '경우': 642, '피해': 643, '설명을': 644, '계십니까': 645, '지점에서': 646, '발급': 647, '통장은': 648, '피해자가': 649, '받아서': 650, '부분이기': 651, '02': 652, '고객님도': 653, '만들어': 654, '하세요': 655, '만화': 656, '대형': 657, '2': 658, '3년': 659, '사이에': 660, '배': 661, '주변에': 662, '사람도': 663, '나올': 664, '때부터': 665, '보내드릴': 666, '부탁드릴게요': 667, '가봤어': 668, '금감원에': 669, '참': 670, '수원': 671, '왕갈비': 672, '대해서는': 673, '대환': 674, '입력을': 675, '해주세요': 676, '모더나': 677, '했던': 678, '오고': 679, '안내해': 680, '상환하시고': 681, '재밌겠다': 682, '분들도': 683, '3개월': 684, '동생이': 685, '다들': 686, '남자': 687, '실제': 688, '거주하시는': 689, '봐야겠다': 690, '빨래': 691, '요렇게': 692, '사람들': 693, '알': 694, '좋았어': 695, '어디로': 696, '개설한': 697, '사용하고': 698, '거래내역을': 699, '입금을': 700, '약간': 701, '노래': 702, '방방': 703, '계셔': 704, '연차': 705, '그만': 706, '여자친구랑': 707, '맛있어': 708, '따라서': 709, '했지': 710, '금액이': 711, '주식': 712, '모바일': 713, '말을': 714, '주택에서': 715, '살면': 716, '현대저축은행': 717, '저번에': 718, '환갑': 719, '태국': 720, '아닌데': 721, '가능하세요': 722, '받으시면': 723, '음식': 724, '진행하실': 725, '은행이요': 726, '입금': 727, '볼게요': 728, '동물': 729, '말씀드리면': 730, '계시구요': 731, '체크카드': 732, '맞지': 733, '연락이': 734, '건가요': 735, '분들이': 736, '본인에게': 737, '들었어': 738, '하시는게': 739, '그런데': 740, '정도로': 741, '거에': 742, '써': 743, '말이야': 744, '되시는': 745, '가는데': 746, '얼마정도': 747, '힘들어': 748, '요청': 749, '맞는': 750, '관리를': 751, '올라가는': 752, '아니요': 753, '초밥': 754, '라멘': 755, '해드리고': 756, '때가': 757, '어느정도': 758, '했대': 759, '곳으로': 760, '술을': 761, '자기': 762, '계좌에': 763, '은행에': 764, '계좌가': 765, '서울중앙지검으로': 766, '있게': 767, '행복': 768, '자금으로': 769, '일을': 770, '비엔케이': 771, '놓고': 772, '비용이': 773, '주로': 774, '명의로된': 775, '비싼': 776, '하러': 777, '있나': 778, '오오': 779, '일본': 780, '주시고요': 781, '주시겠어요': 782, '지점': 783, '걔': 784, '비싸': 785, '통화를': 786, '드리도록': 787, '오랜만에': 788, '간다': 789, '아니죠': 790, '개인': 791, '드리고': 792, '저녁에': 793, '입고': 794, '과정에서': 795, '볼링': 796, '아앗': 797, '케이블카': 798, '혹시라도': 799, '수수료는': 800, '이유는': 801, '공문': 802, '쓰고': 803, '갔대': 804, '우리도': 805, '있다가': 806, '수술': 807, '말씀드리는': 808, '접수를': 809, '아파트에서': 810, '공문을': 811, '공증이': 812, '충치': 813, '추워': 814, '최대': 815, '간략하게': 816, '했습니다': 817, '작년에': 818, '개설': 819, '받으셔야': 820, '그러니깐': 821, '않았어': 822, '오는': 823, '시간은': 824, '같애요': 825, '방법으로': 826, '공부': 827, '거기는': 828, '주': 829, '말씀해주시면': 830, '해도': 831, '검거': 832, '남성': 833, '본인도': 834, '받으셨다가': 835, '여친이랑': 836, '그죠': 837, '원금': 838, '없는데': 839, '데': 840, '대표': 841, '서류를': 842, '여자가': 843, '은행으로': 844, '키키': 845, '들고': 846, '피해자인지': 847, '있었는데': 848, '거니까': 849, '레미': 850, '해야지': 851, '있게끔': 852, '다녀야': 853, '부탁을': 854, '끝나': 855, '그렇긴': 856, '서울이야': 857, '당장': 858, '되시면은': 859, '학원': 860, '총': 861, '비용도': 862, '자체를': 863, '있으신': 864, '악기': 865, '되시구요': 866, '계좌를': 867, '솔직히': 868, '크게': 869, '알았어': 870, '쉽게': 871, '백만원': 872, '금방': 873, '의사': 874, '군대에서': 875, '젊은': 876, '칠백만': 877, '연관성이': 878, '없다는': 879, '것에': 880, '위해': 881, '자금이': 882, '사실이': 883, '100만': 884, '범죄에': 885, '광명시': 886, '철산': 887, '가셔서': 888, '대포통장': 889, '있었습니까': 890, '추가적인': 891, '마약': 892, '고민': 893, '달라고': 894, '소득': 895, '빨간': 896, '보는데': 897, '신경': 898, '있겠다': 899, '친구가': 900, '본인께서는': 901, '인도': 902, '생각': 903, '가야겠다': 904, '버리실만한': 905, '내용을': 906, '제대로': 907, '고객님께': 908, '됐어': 909, '싶은': 910, '니가': 911, '통닭': 912, '벌써': 913, '계란': 914, '중요하게': 915, '물': 916, '않나': 917, '쓰면': 918, '욕': 919, '해주시면': 920, '좋은데': 921, '그래요': 922, '해봤어': 923, '사': 924, '김선호': 925, '이상': 926, '넣어': 927, '필요하신': 928, '얘기해': 929, '이동': 930, '마카오': 931, '그러는': 932, '침': 933, '놔': 934, '전에는': 935, '그러기': 936, '서울에': 937, '거주하는': 938, '자리': 939, '전산': 940, '전산에서': 941, '봤지': 942, '개는': 943, '신용도가': 944, '되셨다고': 945, '아시는게': 946, '오늘은': 947, '같지': 948, '보다': 949, '맛': 950, '코끼리가': 951, '상아': 952, '아따맘마': 953, '해달라고': 954, '같기도': 955, '오늘부터': 956, '해주시고': 957, '두가지': 958, '잠깐': 959, '정상적으로': 960, '맞으시죠': 961, '계약서': 962, '즐기고': 963, '잡아': 964, '이사': 965, '갔을': 966, '발권이': 967, '연대': 968, '가능하십니까': 969, '납부하실': 970, '나갈': 971, '동의하십니까': 972, '만약': 973, '그렇다고': 974, '보네': 975, '같던데': 976, '오셨다고': 977, '하시는데요': 978, '곳은': 979, '저랑': 980, '네이버': 981, '관심': 982, '도와드릴까요': 983, '불': 984, '하려면': 985, '셋쇼마루': 986, '오전에': 987, '요거트': 988, '먹었는데': 989, '내년': 990, '이유': 991, '제주도': 992, '되시죠': 993, '다닐': 994, '24시간': 995, '조금만': 996, '멋있다': 997, '공증을': 998, '논산': 999, '없다': 1000, '방식으로': 1001, '했었던': 1002, '보시고': 1003, '기다려': 1004, '많다': 1005, '접수가': 1006, '본사': 1007, '타인에게': 1008, '신용카드와': 1009, '대포통장을': 1010, '1': 1011, '해요': 1012, '상관없어요': 1013, '가능하신': 1014, '받으시고': 1015, '빙수': 1016, '내기': 1017, '인터넷으로': 1018, '싫어': 1019, '언능': 1020, '벚꽃': 1021, '사용이': 1022, '당연히': 1023, '명의도용당하신': 1024, '됐어요': 1025, '모든': 1026, '장기카드론': 1027, '한도가': 1028, '문의를': 1029, '해보시고': 1030, '대출신청을': 1031, '아니구요': 1032, '내고': 1033, '싸이': 1034, '싶네': 1035, '오신': 1036, '하거든요': 1037, '새벽까지': 1038, '저희쪽으로': 1039, '놀': 1040, '거임': 1041, '도와드릴': 1042, '학교': 1043, '신청하신': 1044, '거죠': 1045, '해드릴게요': 1046, '통장도': 1047, '층간': 1048, '기억이': 1049, '밑에': 1050, '사람은': 1051, '설치': 1052, '홍콩': 1053, '땀': 1054, '청소년': 1055, '분실하신': 1056, '적이': 1057, '개인정보가': 1058, '분이세요': 1059, '저하고': 1060, '금요일': 1061, '장작': 1062, '하잖아요': 1063, '알려줘': 1064, '나오셔서': 1065, '합니다': 1066, '사줘': 1067, '너네는': 1068, '싸': 1069, '다름이': 1070, '월': 1071, '12월에': 1072, '가야': 1073, '매입': 1074, '뭘': 1075, '수납담당자분이': 1076, '우리집': 1077, '후': 1078, '태권도': 1079, '앞에': 1080, '친인척': 1081, '되구요': 1082, '베놈이': 1083, '나가실': 1084, '뭐하고': 1085, '없으시고요': 1086, '은행에서': 1087, '하십니까': 1088, '우리가': 1089, '봄': 1090, '치킨은': 1091, '모르겠어': 1092, '일주일에': 1093, '번씩': 1094, '막': 1095, '롯데월드': 1096, '발라': 1097, '알기론': 1098, '것처럼': 1099, '갖고': 1100, '수수료': 1101, '남았어': 1102, '오빠가': 1103, '힘들다': 1104, '곳에': 1105, '이체': 1106, '먹지': 1107, '못하고': 1108, '동안': 1109, '해드릴까요': 1110, '그럴': 1111, '올': 1112, '계좌는': 1113, '계좌로': 1114, '아까': 1115, '30분': 1116, '퇴사': 1117, '아니시고': 1118, '땜에': 1119, '우린': 1120, '사장님': 1121, '한소희': 1122, '맞을': 1123, '꽤': 1124, '정도는': 1125, '맞은': 1126, '웃겨': 1127, '친구네': 1128, '고양이가': 1129, '마리': 1130, '휴대폰': 1131, '싼': 1132, '터졌어': 1133, '색': 1134, '아까워': 1135, '발목에': 1136, '아파트는': 1137, '말이에요': 1138, '얼굴': 1139, '하사': 1140, '중앙': 1141, '머리가': 1142, '추락': 1143, '이름으로': 1144, '봐도': 1145, '재밌었어': 1146, '시에': 1147, '싫어해': 1148, '조사': 1149, '있고요': 1150, '언제쯤': 1151, '가능': 1152, '장갑': 1153, '예약': 1154, '일시': 1155, '기록이': 1156, '받으실': 1157, '알겠지': 1158, '이용': 1159, '들어보는데': 1160, '도와': 1161, '괜찮으신가요': 1162, '하면서': 1163, '꺼': 1164, '대략적으로': 1165, '애가': 1166, '친구들도': 1167, '것을': 1168, '비용을': 1169, '스트레스': 1170, '보이는': 1171, '와이프': 1172, '나고': 1173, '말': 1174, '아빠는': 1175, '다니는': 1176, '엄마는': 1177, '주셔서': 1178, '금융범죄사기단을': 1179, '그중에': 1180, '본인은': 1181, '하나은행': 1182, '겁니까': 1183, '혐의점이': 1184, '상황입니다': 1185, '하셔서': 1186, '증거': 1187, '그런게': 1188, '보고가': 1189, '첫': 1190, '믿고': 1191, '면허': 1192, '그런건': 1193, '직원': 1194, '껴': 1195, '1년': 1196, '명의도용': 1197, '생겨서': 1198, '지': 1199, '운전면허증': 1200, '피해를': 1201, '여쭤보는': 1202, '부산은행': 1203, '말씀이시죠': 1204, '은행을': 1205, '사건이': 1206, '자취하고': 1207, '없음': 1208, '날씨': 1209, '남아': 1210, '롤': 1211, '하셔도': 1212, '후에': 1213, '색이': 1214, '있음': 1215, '있긴': 1216, '한데': 1217, '정도면': 1218, '금액은': 1219, '나이': 1220, '가끔': 1221, '운동화': 1222, '이쪽': 1223, '자': 1224, '작은': 1225, '해외': 1226, '고객님은': 1227, '심해서': 1228, '타': 1229, '임플란트': 1230, '왔었어': 1231, '여자친구가': 1232, '프로': 1233, '납부해': 1234, '모르고': 1235, '같더라': 1236, '컴퓨터': 1237, '어쩔': 1238, '상환하시면': 1239, '가해자인지': 1240, '조사과정은': 1241, '친해': 1242, '쓰는': 1243, '있거든': 1244, '이름이': 1245, '상품': 1246, '고향은': 1247, '이상한': 1248, '부산고등검찰청': 1249, '맞으십니까': 1250, '간간히': 1251, '솔직하게': 1252, '있도록': 1253, '평점을': 1254, '되죠': 1255, '잡티': 1256, '거다': 1257, '그다음에': 1258, '건지': 1259, '끝나면': 1260, '지원': 1261, '해명하고': 1262, '바르고': 1263, '하지만': 1264, '신용': 1265, '하나를': 1266, '원은': 1267, '둘이': 1268, '가족': 1269, '마블': 1270, '나머지': 1271, '시력이': 1272, '찍어서': 1273, '없으시죠': 1274, '게임을': 1275, '뭔': 1276, '않을': 1277, '납부하시는': 1278, '그러세요': 1279, '직장': 1280, '놓은': 1281, '거구요': 1282, '마세요': 1283, '들어간': 1284, '연류된': 1285, '햄스터': 1286, '생각하고': 1287, '악세사리': 1288, '비비': 1289, '대신에': 1290, '입증을': 1291, '사용을': 1292, '명의': 1293, '지점에': 1294, '배상': 1295, '확인한번': 1296, '꾸준히': 1297, '메뉴': 1298, '보내드릴게요': 1299, '저희쪽에': 1300, '애들이랑': 1301, '사천만원': 1302, '드려서': 1303, '은행은': 1304, '편법으로': 1305, '있었으면': 1306, '강아지': 1307, '연': 1308, '하신다고': 1309, '있었던': 1310, '기억나': 1311, '유튜브': 1312, '없으면': 1313, '해보고': 1314, '출석': 1315, '명의도용을': 1316, '일부러': 1317, '같구요': 1318, '하니까': 1319, '검색': 1320, '고금리건': 1321, '그대로': 1322, '된다': 1323, '8시': 1324, '고객님꺼': 1325, '엄마가': 1326, '이제는': 1327, '기억': 1328, '되었습니다': 1329, '핸드폰으로': 1330, '애들도': 1331, '해줘야': 1332, '삼백만': 1333, '받으시는': 1334, '선임이': 1335, '정상': 1336, '부결': 1337, '결과': 1338, '100': 1339, '환급처리': 1340, '해드립니다': 1341, '환급이': 1342, '오지': 1343, '보여줘': 1344, '친구들은': 1345, '심해': 1346, '죄를': 1347, '캐피탈에서': 1348, '비밀번호': 1349, '3가지': 1350, '본인께서도': 1351, '일당들과': 1352, '입증': 1353, '서울중앙지검': 1354, '말씀해': 1355, '등록을': 1356, '질문드리겠습니다': 1357, '무고한': 1358, '피해자라는': 1359, '신분을': 1360, '피해가': 1361, '있거든요': 1362, '진술하신': 1363, '아니라고': 1364, '입출금': 1365, '하셨어요': 1366, '나와요': 1367, '사용된': 1368, '할거구요': 1369, '3월': 1370, '하나은행과': 1371, '상관없이': 1372, '집중을': 1373, '공증비용을': 1374, '고객님들이': 1375, '일년': 1376, '좋겠어': 1377, '작년에는': 1378, '있는지': 1379, '작업': 1380, '친절하게': 1381, '되거나': 1382, '내역': 1383, '너한테': 1384, '전화하면': 1385, '준다고': 1386, '되냐': 1387, '보게': 1388, '좋다': 1389, '팔': 1390, '팔점': 1391, '없으시고': 1392, '지갑': 1393, '신분증을': 1394, '부탁드리겠습니다': 1395, '한국': 1396, '좋더라': 1397, '들어가': 1398, '뜨자': 1399, '알바는': 1400, '맞다': 1401, '키워': 1402, '모니터링이': 1403, '의심받지': 1404, '꽉': 1405, '않아요': 1406, '그러지': 1407, '열': 1408, '나더라고': 1409, '인형뽑기': 1410, '회사에서': 1411, '기사님': 1412, '그러면요': 1413, '일도': 1414, '금감원': 1415, '대출받기가': 1416, '쳐야': 1417, '6개월': 1418, '신청': 1419, '대출이라고': 1420, '만': 1421, '떨려': 1422, '요즘은': 1423, '주식으로': 1424, '오더라': 1425, '간장': 1426, '스포츠': 1427, '토토': 1428, '아아': 1429, '늦기': 1430, '그러나': 1431, '해본': 1432, '나면': 1433, '버터': 1434, '뭔데': 1435, '월차': 1436, '된대': 1437, '전액': 1438, '이틀은': 1439, '나이가': 1440, '해보셨던': 1441, '헤매세요': 1442, '테스트': 1443, '결과는': 1444, '3시에서': 1445, '네시': 1446, '애기가': 1447, '먹어야지': 1448, '같은건데': 1449, '기억도': 1450, '터졌잖아': 1451, '가격대가': 1452, '허리는': 1453, '때도': 1454, '하시거든요': 1455, '사업': 1456, '하시면서': 1457, '업무를': 1458, '나오는': 1459, '왜냐하면': 1460, '부분을': 1461, '성함이랑': 1462, '연락처': 1463, '서울이라': 1464, '2년': 1465, '환장하지': 1466, '훈련소': 1467, '정리를': 1468, '울산': 1469, '고모한테': 1470, '승인처리까지는': 1471, '이참에': 1472, '너랑': 1473, '안하고': 1474, 'ㅋㅋ': 1475, '은근': 1476, '헬스': 1477, '발견된': 1478, '추우니까': 1479, '패딩은': 1480, '너무해': 1481, '편리한': 1482, '날짜에': 1483, '환급처리는': 1484, '빼빼로': 1485, '펜션': 1486, '하구요': 1487, '원에': 1488, '근무하고': 1489, '싶다고': 1490, '계약을': 1491, '인스타': 1492, '가본': 1493, '옛날': 1494, '알겠더라': 1495, '진행하기': 1496, '정주행': 1497, '해드리겠습니다': 1498, '7월': 1499, '분들은': 1500, '하시는데': 1501, '고객님께서는': 1502, '지난달에': 1503, '없으십니까': 1504, '보니깐': 1505, '고딩': 1506, '틀고': 1507, '타는': 1508, '다녀와': 1509, '부모님은': 1510, '예전에는': 1511, '홍길동': 1512, '수출을': 1513, '언니네는': 1514, '생각이야': 1515, '받으셨어요': 1516, '성함이': 1517, '되십니까': 1518, '했었어': 1519, '누구인지': 1520, '나와서': 1521, '있던': 1522, '예를': 1523, '들어서': 1524, '열명': 1525, '이상이다': 1526, '9': 1527, '7': 1528, '매달': 1529, '이중에': 1530, '설정': 1531, '대면': 1532, '신고하시면': 1533, '드렸다가': 1534, '그러신가요': 1535, '휴': 1536, '파는': 1537, '괜찮으면': 1538, '그렇겠다': 1539, '더러운': 1540, '있으셔가지고': 1541, '외모에': 1542, 'ars로': 1543, '로면': 1544, '300만원': 1545, '으악': 1546, '주시면은': 1547, '오래걸리세요': 1548, '기르고': 1549, '부작용': 1550, '저희쪽': 1551, '가까운': 1552, '대기하셨다가': 1553, '존맛': 1554, '아빠': 1555, '너넨': 1556, '영': 1557, '맞으시고요': 1558, '않은': 1559, '라식': 1560, '실장': 1561, '홀': 1562, '가실': 1563, '가기로': 1564, '죽을': 1565, '만나서': 1566, '월요일이': 1567, '상향이': 1568, '안되는데': 1569, '돌리고': 1570, '자체가': 1571, '문자': 1572, '연차도': 1573, '추천': 1574, '않고': 1575, '이상은': 1576, '상황이': 1577, '추후에': 1578, '원리금': 1579, '균등': 1580, '하시면은': 1581, '가능하시니까': 1582, '중국을': 1583, '주말': 1584, '있으시기': 1585, '처리해주시고': 1586, '완납': 1587, '이런식으로': 1588, '환불': 1589, '들어가실겁니다': 1590, '숨쉬기': 1591, '보이스': 1592, '저녁': 1593, '전화하셔서': 1594, '가능하신지': 1595, '배고파': 1596, '번호가': 1597, '먹어본': 1598, '쪽에': 1599, '회수팀으로': 1600, '대리입니다': 1601, '보이더라': 1602, '힘들': 1603, '참고로': 1604, '처벌에': 1605, '관한': 1606, '법률에': 1607, '의하면': 1608, '3년이하의': 1609, '징역이나': 1610, '이하의': 1611, '되어있는': 1612, '농협은행': 1613, '저희쪽에서는': 1614, '사실여부를': 1615, '해보세요': 1616, '카드': 1617, '영업소로': 1618, '시제비로': 1619, '틀어': 1620, '계시죠': 1621, '인터넷': 1622, '앱으로': 1623, '해주시는': 1624, '그런거': 1625, '없었던': 1626, '시골': 1627, '불멍': 1628, '가볼려고': 1629, '증거자료로': 1630, '되실거에요': 1631, '검사님': 1632, '피해자분들': 1633, '개설이': 1634, '5번': 1635, '넘게': 1636, '담양': 1637, '쪽이나': 1638, '연락주세요': 1639, '쿠폰이': 1640, '있냐면': 1641, '발급을': 1642, '발권을': 1643, '받았어요': 1644, '호랑이': 1645, '내일은': 1646, '관심이': 1647, '걸릴': 1648, '들어가시면': 1649, '납부가': 1650, '가격은': 1651, '보세요': 1652, '잔고': 1653, '확인하고': 1654, '한가지': 1655, '은행쪽에': 1656, '절때': 1657, '되는거예요': 1658, '동생은': 1659, '능력': 1660, '전체적으로': 1661, '생각하시면': 1662, '아무런': 1663, '이해를': 1664, '하시겠어요': 1665, '영향이': 1666, '레이저': 1667, '소리': 1668, '자꾸': 1669, '힘들지': 1670, '거네': 1671, '기사가': 1672, '말도': 1673, '가림막': 1674, '화장실에': 1675, '생기는': 1676, '해주신': 1677, '거세요': 1678, '어우': 1679, '교정이': 1680, '보지': 1681, '말씀해주세요': 1682, '전': 1683, '키우기': 1684, '높은': 1685, '금리로': 1686, '저금리로': 1687, '방법은': 1688, '등급': 1689, '김준호': 1690, '탁재훈이랑': 1691, '원이야': 1692, '만만치': 1693, '맞았어': 1694, '서울중앙지방검찰청': 1695, '1팀에': 1696, '분이면': 1697, '어떤관계': 1698, '어떤사이십니까': 1699, '일반': 1700, '떨어진': 1701, '운동이': 1702, '힘든': 1703, '도수': 1704, '담긴': 1705, 'a라는': 1706, '곳에서': 1707, '거래하시는': 1708, '가격': 1709, '있다는': 1710, '이거를': 1711, '고객분들이': 1712, '후기': 1713, '나왔대': 1714, '여름이': 1715, '차이': 1716, '배낭': 1717, '소환장': 1718, '작성해서': 1719, '테니깐요': 1720, '사건은': 1721, '되었고요': 1722, '부분들': 1723, '진행하다': 1724, '전부': 1725, '사촌끼리': 1726, '만나': 1727, '승인이': 1728, '건데요': 1729, '찌운': 1730, '사장님께서': 1731, '안쓰시는': 1732, '400에서': 1733, '선지급': 1734, '전화도': 1735, '기금이': 1736, '천오백만원': 1737, '받아요': 1738, '잘못': 1739, '쌤': 1740, '점심': 1741, '중복이': 1742, '업무': 1743, '하기때문에': 1744, '알겠다': 1745, '신청을': 1746, '알아가지고': 1747, '대로': 1748, '달라': 1749, '따라주시면': 1750, '다섯시': 1751, '반': 1752, '환급처리가': 1753, '어릴': 1754, '키워본': 1755, '아침': 1756, '오후': 1757, '어디에': 1758, '한번도': 1759, '경우에는요': 1760, '인해': 1761, '강제로': 1762, '예를들면': 1763, '편': 1764, '삐': 1765, '이길': 1766, '코끼리한테': 1767, '역할을': 1768, '델꼬': 1769, '땐': 1770, '아플': 1771, '우리한테': 1772, '준': 1773, '진봉이': 1774, '요건이': 1775, '아실': 1776, '했는지': 1777, '소개': 1778, '처음엔': 1779, '많을': 1780, '먹으러': 1781, '나왔을': 1782, '요즘에는': 1783, '초딩': 1784, '여친': 1785, '울었잖아': 1786, '현금': 1787, '관련': 1788, '카드가': 1789, '사보고': 1790, '알려줄게': 1791, '있었음': 1792, '특히': 1793, '잔액': 1794, '있으시면요': 1795, '제작을': 1796, '준비': 1797, '준비해': 1798, '입': 1799, '휴지는': 1800, '옆에서': 1801, '맛있게': 1802, '먹더라': 1803, '초반에만': 1804, '그랬는데': 1805, '먼': 1806, '매월': 1807, '상환하시는': 1808, '아주': 1809, '개인적으로': 1810, '천뚱': 1811, '편이': 1812, '맞으시고': 1813, '한통': 1814, '일찍': 1815, '오빠랑': 1816, '들어가실거에요': 1817, '디저트는': 1818, '청소': 1819, '담보': 1820, '백': 1821, '나오면': 1822, '설명': 1823, '뒤에': 1824, '통통배': 1825, '타본': 1826, '커': 1827, '전산이관요청': 1828, '다섯': 1829, '카톡': 1830, '왔으면': 1831, '무서워서': 1832, '예뻐': 1833, '소문': 1834, '친척들이랑': 1835, '거짓말': 1836, '모르는데': 1837, '얼마인지만': 1838, '주사': 1839, '결국에는': 1840, '초에': 1841, '됐는데': 1842, '파란띠': 1843, '입을': 1844, '반절': 1845, '까지': 1846, '마사지': 1847, '업소에서': 1848, '300만': 1849, '가시는': 1850, '카드사': 1851, '여러': 1852, '같더라고': 1853, '풀': 1854, '경제난이': 1855, '방금': 1856, '딱지': 1857, '올려': 1858, '6시': 1859, '벙어리': 1860, '끼는': 1861, '10만': 1862, '먹으면': 1863, '죽는': 1864, '사니까': 1865, '어무니는': 1866, '많더라': 1867, '일은': 1868, '전화하셔가지고': 1869, '김선호가': 1870, '트렌스젠더': 1871, '카지노': 1872, '수원에서': 1873, '타야': 1874, '갑자기': 1875, '고추잡채': 1876, '한의원': 1877, '공문서': 1878, '보내드리고': 1879, '못살아': 1880, '아니지': 1881, '한번에': 1882, '없나': 1883, '연체': 1884, '보려고': 1885, '최근에는': 1886, '은행앞에서': 1887, '들어가시기': 1888, '전화좀': 1889, '할아버지가': 1890, '한건을': 1891, '방법이에요': 1892, '삼십': 1893, '넘어서': 1894, '동결': 1895, '농협은행에서': 1896, '합쳐서': 1897, '발견된다면': 1898, '김순철': 1899, '오빠네': 1900, '위에': 1901, '구타가': 1902, '서현아': 1903, '방문': 1904, '이고요': 1905, '송달받아서': 1906, '언니도': 1907, '달콤한': 1908, '할아버지는': 1909, '자기는': 1910, '쓰지': 1911, '편지를': 1912, '없다고': 1913, '생각하는데': 1914, '7단계까지': 1915, '쓰지는': 1916, '상환하신': 1917, '감옥에': 1918, '끝나고': 1919, '짖어': 1920, '간식': 1921, '지면': 1922, '시키고': 1923, '교배': 1924, '시킬': 1925, '다음에도': 1926, '드려보겠습니다': 1927, '인천': 1928, '맛있겠다': 1929, '챙겨': 1930, '택시비': 1931, '어려워': 1932, '무통장': 1933, '카드로': 1934, '한도와': 1935, '가능하다고': 1936, '전산으로': 1937, '승인을': 1938, '만드는': 1939, '굉장히': 1940, '우선은': 1941, '드리려고': 1942, '되신다고': 1943, '사촌한테': 1944, '사업자금': 1945, '보내는거다': 1946, '빠져': 1947, '맞을래': 1948, '가능하십니다': 1949, '있어서는': 1950, '주시라고': 1951, '드릴까요': 1952, '편해': 1953, '대신': 1954, '목요일날': 1955, '알바하고': 1956, '그렇더라': 1957, '음…': 1958, '안타깝다': 1959, '운동이야': 1960, '곳인데': 1961, '하시구요': 1962, '주실': 1963, '대체': 1964, '주십시오': 1965, '들어가겠습니다': 1966, '개인정보': 1967, '관련해서': 1968, '검거했습니다': 1969, '검거현장에서': 1970, '체크카드와': 1971, '압수를': 1972, '광명시에서': 1973, '발급이': 1974, '통장입니다': 1975, '1팀에서': 1976, '2015년': 1977, '검찰청으로': 1978, '전반적인': 1979, '않으세요': 1980, '출석을': 1981, '되는게': 1982, '본인을': 1983, '주의': 1984, '3자의': 1985, '어려운': 1986, '공증은': 1987, '없잖아요': 1988, '알바하는': 1989, '11월': 1990, '오키오키': 1991, '그전에는': 1992, '2가지': 1993, '국민은행에': 1994, '서로': 1995, '필요한': 1996, '에이': 1997, '싫은데': 1998, '새로': 1999, '대기': 2000, '저금리': 2001, '먹음': 2002, '어깨가': 2003, '짱': 2004, '한국사': 2005, '귀찮을': 2006, '신규': 2007, '발생시키시고': 2008, '눈물': 2009, '버릇': 2010, '가능하실까요': 2011, '우회적인': 2012, '방법을': 2013, '햇살론': 2014, '저축': 2015, '수사관': 2016, '서류가': 2017, '들어가서': 2018, '소희': 2019, '멀미': 2020, '결국에': 2021, '유럽': 2022, '가거든': 2023, '샀는데': 2024, '공문이': 2025, '그렇겠지': 2026, '심사과랑': 2027, '오거리': 2028, '만들어서': 2029, '죽은': 2030, '다녔어': 2031, '만요': 2032, '눌러주시면은': 2033, '성함': 2034, '집에서': 2035, '시켜야겠다': 2036, '그거를': 2037, '으': 2038, '본점으로': 2039, '모른다고': 2040, '주민등록증을': 2041, '사줬어': 2042, '주민등록증이나': 2043, '그걸로': 2044, '보신': 2045, '압수한': 2046, '진술에': 2047, '따르면': 2048, '샀다고': 2049, '내용': 2050, '않습니까': 2051, '아닙니다': 2052, '전국에': 2053, '연락된': 2054, '계셔서': 2055, '언제부터': 2056, '까먹고': 2057, '소음': 2058, '보증': 2059, '이후에는': 2060, '젤': 2061, '쉽구요': 2062, '쿠팡': 2063, '있겠어': 2064, '제도가': 2065, '기존에': 2066, '전산에는': 2067, '신고가': 2068, '빼고': 2069, '3시간': 2070, '시': 2071, '불러주세요': 2072, '잘해': 2073, '주는': 2074, '점점': 2075, '사기': 2076, '60개월': 2077, '괜찮으세요': 2078, '나오시면': 2079, '검거한': 2080, '압수했는데': 2081, '가능하시고요': 2082, '동남아': 2083, '카톡하는': 2084, '나갔다': 2085, '협곡': 2086, '카카오톡으로': 2087, '피해자라고': 2088, '서울지검검찰청으로': 2089, '했다고': 2090, '우도': 2091, '조회': 2092, '해지': 2093, '드렸는데': 2094, '동결처리가': 2095, '창구': 2096, '베트남': 2097, '보면서': 2098, '모르겠네': 2099, '사촌': 2100, '영화관에서': 2101, '요샌': 2102, '손절한': 2103, '제재를': 2104, '주면서': 2105, '그전에': 2106, '번호로': 2107, '노래를': 2108, '만들었대': 2109, '고객님들의': 2110, '신용등급에': 2111, '이동할': 2112, '타봤어': 2113, '같네': 2114, '맞잖아요': 2115, '십오': 2116, '번에': 2117, '넣고': 2118, '딱히': 2119, '다음주': 2120, '아예': 2121, '해가지고': 2122, '줘요': 2123, '경찰서': 2124, '마피아': 2125, '시민': 2126, '외가가': 2127, '났어': 2128, '대출이기': 2129, '왜캐': 2130, '해봤는데': 2131, '낳은': 2132, '애기야': 2133, '상태를': 2134, '하시거나': 2135, '되시고요': 2136, '모르시는': 2137, '왜그냐면': 2138, '있구나': 2139, '비쌌어': 2140, '생각은': 2141, '전통': 2142, '친가랑': 2143, '군부대': 2144, '감사합니다': 2145, '과외비': 2146, '더웠어': 2147, '죽었대': 2148, '검사': 2149, '미리': 2150, '맞다고': 2151, '생각이': 2152, '한단': 2153, '어디야': 2154, '감고': 2155, '냥냥이': 2156, '소름': 2157, '중간에': 2158, '희망이': 2159, '그분': 2160, '이불': 2161, '주린이야': 2162, '11월부터': 2163, '자금회수팀에': 2164, '한다고': 2165, '없어요': 2166, '비용만': 2167, '겨울에도': 2168, '상환처리를': 2169, '의사가': 2170, '브랜드': 2171, '들어왔다': 2172, '나가면': 2173, '내년에': 2174, '기미': 2175, '하루에': 2176, 'ㅡㅡ': 2177, '대표번호로': 2178, '물어보면': 2179, '찾으면': 2180, 'ㅎ': 2181, '그대신': 2182, '맛있잖아': 2183, '물어봤어': 2184, '받고요': 2185, '걸려요': 2186, '친가가': 2187, '단': 2188, '완납을': 2189, '같으세요': 2190, '나한테': 2191, '완료': 2192, '연락드리겠습니다': 2193, '않았을까': 2194, '사고': 2195, '한판': 2196, '군대에': 2197, '아프다': 2198, '이틀': 2199, '남자친구': 2200, '디피': 2201, '녹취가': 2202, '유명한데': 2203, '에어팟은': 2204, '땀이': 2205, '쿠폰': 2206, '논산에': 2207, '상관이': 2208, '모르겠는데': 2209, '어려서': 2210, '애들이': 2211, '볼보': 2212, '여자들은': 2213, '창구직원이': 2214, '하시게': 2215, '고객님이랑': 2216, '샤워할': 2217, '싫어서': 2218, '그렇게는': 2219, '다녔을': 2220, '출퇴근': 2221, '눈치': 2222, '이유가': 2223, '이율은': 2224, '나오셨는데': 2225, '신청은': 2226, '조회를': 2227, '따라': 2228, '남친도': 2229, '체크카드를': 2230, '퀵서비스': 2231, '직원한테': 2232, '쓸': 2233, '예약했어': 2234, '어떤것때문에': 2235, '어플리케이션': 2236, '상황에': 2237, '변동': 2238, '되실': 2239, '20살': 2240, '비싸잖아': 2241, '생활': 2242, '그다음': 2243, '나은': 2244, '메세지를': 2245, '상사': 2246, '앞에서': 2247, '금액의': 2248, '를': 2249, '수납': 2250, '사무실': 2251, '급여': 2252, '건이': 2253, '걱정하지': 2254, '높히는': 2255, '소요': 2256, '마포': 2257, '되잖아요': 2258, '선호하는': 2259, '처갓집': 2260, '치킨이': 2261, '낱개': 2262, '좋아하지': 2263, '남친이랑': 2264, '싸웠대': 2265, '가봐야겠어': 2266, '멀리': 2267, '보여': 2268, '전산이관을': 2269, '보러': 2270, '있단': 2271, '다사랑': 2272, '부를': 2273, '오전': 2274, '중으로': 2275, 'id카드': 2276, '일하는': 2277, '철': 2278, '집이': 2279, '되겠습니다': 2280, '아시겠죠': 2281, '연루가': 2282, '2차': 2283, '분들': 2284, '계시는': 2285, '평점': 2286, '진행하는': 2287, '해라': 2288, '방식의': 2289, '인출': 2290, '1월': 2291, '인해서': 2292, '주셨는데': 2293, '본인명의로': 2294, '건에': 2295, '통신사는': 2296, '통신사': 2297, '은행권': 2298, '이내에': 2299, '정보가': 2300, '또는': 2301, '판매를': 2302, '드린거구요': 2303, '이용하는': 2304, '드릴거에요': 2305, '카톡으로': 2306, '연동을': 2307, '기존': 2308, '이용이': 2309, '아반떼': 2310, '똑같이': 2311, '했다': 2312, '싸워': 2313, '점이': 2314, '우리나라도': 2315, '노출': 2316, '시작': 2317, '대출은': 2318, '2만': 2319, '없었잖아': 2320, '3번': 2321, '해볼게요': 2322, '있으시죠': 2323, '나가서': 2324, '있는게': 2325, '주말에': 2326, '일정을': 2327, '근무': 2328, '되나': 2329, '하셔야': 2330, '될지': 2331, '먹게': 2332, '당한': 2333, '거라고요': 2334, '그러십니까': 2335, '들어와서': 2336, '열기': 2337, '하다': 2338, '보니': 2339, '베테랑': 2340, '얘기를': 2341, '어렵지': 2342, '덜덜': 2343, '쳐': 2344, '후쿠오카': 2345, '상환이': 2346, '내방': 2347, '친구한테': 2348, '훈련': 2349, '회': 2350, '감': 2351, '춥겠다': 2352, '다섯개': 2353, '그분은': 2354, '한도체크': 2355, '맛있더라': 2356, '인기잖아': 2357, '개설했어': 2358, '나으시겠습니까': 2359, '냄새': 2360, '에': 2361, '하': 2362, '잠': 2363, '자는': 2364, '갔는데': 2365, '많고': 2366, '기사': 2367, '배민': 2368, '국내': 2369, '배워봤어': 2370, '흡입': 2371, '수익이': 2372, '차이나': 2373, '친구랑': 2374, '생겼어': 2375, '아니잖아': 2376, '하려고': 2377, '금리는': 2378, '한게임': 2379, '전기장판이': 2380, '누구는': 2381, '훨': 2382, '마침': 2383, '이동하셔서': 2384, '아닌가': 2385, '대학교': 2386, '전기장판': 2387, '고향도': 2388, '사람입니까': 2389, '남성인데': 2390, '신한은행': 2391, '연락드립니다': 2392, '상태입니다': 2393, '신분증이나': 2394, '진술을': 2395, '두고': 2396, '상관': 2397, '어저께': 2398, '해드려야': 2399, '그렇습니다': 2400, '언제까지': 2401, '가능하겠습니까': 2402, '간장새우': 2403, '아부지가': 2404, '혐의가': 2405, '간단한': 2406, '개설해서': 2407, '팔아': 2408, '있잖아요': 2409, '거였거든': 2410, '가늠이': 2411, '있대': 2412, '주신': 2413, '요즘엔': 2414, '나오는데': 2415, '드려야': 2416, '가자': 2417, '할부': 2418, '이용중이신': 2419, '10': 2420, '없습니다': 2421, '테이프로': 2422, '포장은': 2423, '태권도에서': 2424, '알바가': 2425, '게임은': 2426, '월요일에': 2427, '친구들': 2428, '배가': 2429, '상호명만': 2430, '악의적으로': 2431, '걱정': 2432, '엔케이': 2433, '관리계좌': 2434, '들어가는': 2435, '대용량으로': 2436, '50분쯤에': 2437, '사줬대': 2438, '안돼요': 2439, '아무튼': 2440, '성전환': 2441, '대단하다': 2442, '그러다': 2443, '되니깐요': 2444, '바르면': 2445, '가봐야지': 2446, '상품으로': 2447, '진행해': 2448, '있으신데요': 2449, '받아보실': 2450, '눌러주시구요': 2451, '연애는': 2452, '안된다고': 2453, '거랑': 2454, '연루된': 2455, '부분이고요': 2456, '1차': 2457, '모르신다고': 2458, '금융감독원의': 2459, '제조일': 2460, '일치하지': 2461, '진술해': 2462, '대조': 2463, '작업을': 2464, '자동': 2465, '휴가': 2466, '안하시면': 2467, '저렇게': 2468, '먹어봤어': 2469, '확정': 2470, '생각하는': 2471, '어디어디': 2472, '충분히': 2473, '자동이체': 2474, '사주고': 2475, '온수': 2476, '해야겠다': 2477, '번호에요': 2478, '목': 2479, '최고야': 2480, '요새는': 2481, '넣어서': 2482, '상환하신거': 2483, '배에서': 2484, '짬뽕': 2485, '이슈였던': 2486, '해볼까': 2487, '사서': 2488, '현대': 2489, '이불을': 2490, '깔면': 2491, '누구': 2492, '노는': 2493, '극장판도': 2494, '진행하시면': 2495, '번호는': 2496, '부분이구요': 2497, '4명이서': 2498, '하기에는': 2499, '피아노': 2500, '거기다가': 2501, '필수로': 2502, '누군가가': 2503, '불법으로': 2504, '사실이에요': 2505, '명의가': 2506, '맛있음': 2507, '적당히': 2508, '친구들이': 2509, '치킨도': 2510, '출석요구서': 2511, '탄두리': 2512, '부담': 2513, '명의여': 2514, '안부는': 2515, '확인해야겠다': 2516, '옆동네인': 2517, '카드에서': 2518, '카드론으로': 2519, '백만원이': 2520, '됐든': 2521, '당사에': 2522, '여자라서': 2523, '포기할까': 2524, '갈군대': 2525, '승인이나': 2526, '단순': 2527, '변심': 2528, '취소하시면': 2529, '깐족거려': 2530, '겨울은': 2531, '김민철입니다': 2532, '나보다': 2533, '룸메랑': 2534, '계약일은': 2535, '언제야': 2536, '진거야': 2537, '많겠네': 2538, '엄두도': 2539, '냄': 2540, '비엠케이': 2541, '상가주택': 2542, '수사관은': 2543, '개인정보보호법에': 2544, '의거하여': 2545, '주민번호': 2546, '은행권의': 2547, '등은': 2548, '묻지않는다는점': 2549, '알아두시고': 2550, '마찬가지로': 2551, '중에는': 2552, '발설': 2553, '용의자': 2554, '시작하겠습니다': 2555, '1부에': 2556, '엄재훈': 2557, '성함과': 2558, '생년월일': 2559, '예금자': 2560, '보호': 2561, '운영': 2562, '합법적이고': 2563, '사건을': 2564, '이상민일당과': 2565, '공모': 2566, '해명받으셔야지만': 2567, '금전적으로나': 2568, '재산적으로': 2569, '안전조치로': 2570, '기준이에요': 2571, '기준으로': 2572, '냐고': 2573, '기재가': 2574, '있어야': 2575, '정상적이고': 2576, '합법적인': 2577, '재산입니다': 2578, '계좌상의': 2579, '증명이': 2580, '오차가': 2581, '정상계좌가': 2582, '간주하고': 2583, '방지차': 2584, '및': 2585, '체포영장이': 2586, '발부가': 2587, '될수': 2588, '민감한': 2589, '부분이깐': 2590, '계좌추적을': 2591, '조사결과': 2592, '100만원이': 2593, '천만원이': 2594, '생각하겠습니까': 2595, '통장이다생각하고': 2596, '출신': 2597, '38세': 2598, '오명철': 2599, '2017년': 2600, '경에': 2601, '되었는데': 2602, '발급받은거': 2603, '맞습니까': 2604, '개설되어': 2605, '형식으로': 2606, '사실을': 2607, '사용되서': 2608, '발생하지': 2609, '의사와': 2610, '시켰습니다': 2611, '드리는데': 2612, '같다고요': 2613, '아빠랑': 2614, '내주냐면': 2615, '대': 2616, '과외라': 2617, '사십': 2618, '넘었던': 2619, '햄버거': 2620, '규제는': 2621, '빡세게': 2622, '했으면': 2623, '계약직이라': 2624, '개씩': 2625, '토속촌도': 2626, '함': 2627, '기업은행': 2628, '제주도나': 2629, '사야': 2630, '뭘로': 2631, '살까': 2632, '가시는중이세요': 2633, '강제상환이라는거를': 2634, '일시상환이라는거를': 2635, '개인이': 2636, '저희쪽이랑': 2637, '파고들': 2638, '접수': 2639, '들어온': 2640, '나오네요': 2641, '전화번호': 2642, '몰라요': 2643, '줄까요': 2644, '1670': 2645, '3877': 2646, '담당자가': 2647, '정지웅씨로': 2648, '나오세요': 2649, '전화해서': 2650, '부탁하는': 2651, '입장이고': 2652, '물어보는': 2653, '답변해서': 2654, '부탁한다고': 2655, '같으니까': 2656, '전화해서요': 2657, '물어보세요': 2658, '상황을': 2659, '공증받아야': 2660, '증빙': 2661, '통': 2662, '간장새우도': 2663, '듣는': 2664, '소리야': 2665, '그쪽에다': 2666, '다하시면은': 2667, '납부증명서가': 2668, '되거든요': 2669, '치료': 2670, '통장거래요': 2671, '줬어요': 2672, '궁금하신': 2673, '근처에': 2674, '시장있어서': 2675, '시장에서': 2676, '사왔어': 2677, '상승세래': 2678, '분위기도': 2679, '좋잖아': 2680, '면허는': 2681, '경찰': 2682, '준비하는': 2683, '딸': 2684, '핸드폰이나': 2685, '도난당하시거나': 2686, '분실하신적': 2687, '포장하신': 2688, '한통화만': 2689, '카레보다': 2690, '카레가': 2691, '낚시나': 2692, '아하': 2693, '동물을': 2694, '키우게': 2695, '하하': 2696, '강화가': 2697, '무게가': 2698, '가볍지': 2699, '상자안': 2700, '빈': 2701, '공간에': 2702, '신문지를': 2703, '넣으시거나': 2704, '책자나': 2705, '물건': 2706, '걸레나': 2707, '옷도': 2708, '좋쿠요': 2709, '채워주시면은': 2710, '이명이': 2711, '들리는데': 2712, '이차': 2713, '오다가': 2714, '지하철': 2715, '오더라고': 2716, '주소지': 2717, '들어갔을': 2718, '노란띠였나': 2719, '보자': 2720, '조건은': 2721, '등제가': 2722, '대출받으실': 2723, '많으실': 2724, '얘기가': 2725, '들어가면': 2726, '힘드니깐': 2727, '미용실': 2728, '간지': 2729, '했네': 2730, '빨개': 2731, '원조인데': 2732, '오빠한테': 2733, '빌렸다': 2734, '사황에': 2735, '1키로인가': 2736, '10키로에': 2737, '원이래': 2738, '싸이트인데요': 2739, '난리지': 2740, '숙소를': 2741, '남자친구랑': 2742, '간다고': 2743, '아는데': 2744, '학원이': 2745, '시원했어': 2746, '특기': 2747, '적성': 2748, '도전해봐': 2749, '콘서트면': 2750, '뿌리고': 2751, '서핑': 2752, '춥지': 2753, '물이': 2754, '새': 2755, '추가': 2756, '만기상환제도': 2757, '잘했네': 2758, '5개': 2759, '월금월금월': 2760, '박히겠지': 2761, '은근히': 2762, '운동도': 2763, '지더라고': 2764, '단기로': 2765, '해주실거면': 2766, '돈은': 2767, '되실거구요': 2768, '구슬': 2769, '막상': 2770, '헤매요': 2771, '적건': 2772, '많건': 2773, '반복업무에요': 2774, '예정이구요': 2775, '햄버거집에서': 2776, '활발해서': 2777, '자기가': 2778, '주의를': 2779, '줘도': 2780, '계소': 2781, '뛰었대': 2782, '부위에': 2783, '리코더': 2784, '안난다': 2785, '1인분에': 2786, '3만': 2787, '논산에도': 2788, '졸리다': 2789, '괜찮은데': 2790, '등이': 2791, '굽어서': 2792, '길렀다가': 2793, '자름': 2794, '오르긴': 2795, '합니다만': 2796, '500만원': 2797, '목돈': 2798, '두시고': 2799, '기다리셔야': 2800, '대출이시잖아요': 2801, '자금이다': 2802, '먹을라고': 2803, '은행이': 2804, '지역으로': 2805, '보시는거에요': 2806, '못하는데': 2807, '도둑들에': 2808, '마카오박': 2809, '조다': 2810, '구상권': 2811, '초성을': 2812, '내면': 2813, '환급을': 2814, '고속버스': 2815, '빌리면': 2816, '트렁크에': 2817, '태워줘': 2818, '머리에': 2819, '실내낚시가': 2820, '유행이었잖아': 2821, '일식': 2822, '사기를': 2823, '당했다구요': 2824, '사기요': 2825, '어르신들': 2826, '뿐이지': 2827, '심사자료': 2828, '도와드리겠습니다': 2829, '지역은': 2830, '남구': 2831, '고객님같은면': 2832, '고객님보다': 2833, '많은시기때문에': 2834, '고모부': 2835, '고모': 2836, '뻘': 2837, '대시잖아요': 2838, '일전에': 2839, '빌린': 2840, '주민': 2841, '앞자리': 2842, '여섯': 2843, '초반': 2844, '몸에': 2845, '문신': 2846, '확인해보니까': 2847, '심사과': 2848, '나오셨더라구요': 2849, '식단': 2850, '조절': 2851, '해보는': 2852, '알았으면': 2853, '일본도': 2854, '춥더라고': 2855, '평이': 2856, '좋으면': 2857, '하락원인이': 2858, '종목': 2859, '운동은': 2860, '통화하시는': 2861, '발견됐어요': 2862, '범죄현장에서': 2863, '우동': 2864, '한사바리': 2865, '땡기더라': 2866, '오버다': 2867, '방법': 2868, '다음날': 2869, '금액에': 2870, '환급처리에': 2871, '나갑니다': 2872, '크런치도': 2873, '파야': 2874, '고기': 2875, '꾸워': 2876, '알기로': 2877, '5천일': 2878, '친애저축은행': 2879, '법인': 2880, '콜센터입니다': 2881, '그쪽에다가': 2882, '납부까지': 2883, '다하신': 2884, '전화주시면': 2885, '금액에다가는': 2886, '9800만': 2887, '만원': 2888, '단위시기': 2889, '9800': 2890, '당연한': 2891, '아니겠어': 2892, '강남이라': 2893, '비싼가': 2894, '여군으로서': 2895, '세상이': 2896, '바뀌었으면': 2897, '좋겠어서': 2898, '총대': 2899, '매고': 2900, '지역별로': 2901, '태어나면': 2902, '태어난대': 2903, '전산이관요청하고': 2904, '빨리좀': 2905, '내일이': 2906, '금요일이잖아요': 2907, '농협이랑': 2908, '신한은행에': 2909, '개설정보': 2910, '확인하면': 2911, '가능한건가요': 2912, '값을': 2913, '올렸대': 2914, '하네': 2915, '상투를': 2916, '틀었는지': 2917, '옛날에는': 2918, '하드랜즈도': 2919, '인기였는데': 2920, '있었지': 2921, '봐주면': 2922, '30분은': 2923, '놀아줘야': 2924, '한가지만': 2925, '여쭤볼게있는데요': 2926, '해외에서': 2927, '은행계좌가': 2928, '로그인된': 2929, '흔적이': 2930, '롯데월드는': 2931, '안간지': 2932, '오래된거': 2933, '가드를': 2934, '이율하고': 2935, '알아봐': 2936, '드리구요': 2937, '좋다는': 2938, '할꺼야': 2939, '매점에서': 2940, '일한': 2941, '예정이야': 2942, '작업하는': 2943, '명시를': 2944, '농협통장에': 2945, '대해서도': 2946, '지급정지를': 2947, '고객님앞으로': 2948, '확인할게': 2949, '농협통장은': 2950, '2014년': 2951, '10일': 2952, '통장인데요': 2953, '개설하신점': 2954, '농협통장을': 2955, '개설해': 2956, '놓으시고': 2957, '사용하신적': 2958, '없으시다고': 2959, '계시다는거': 2960, '그렇다면은': 2961, '여성분이': 2962, '농협계좌로': 2963, '하셨는데요': 2964, '입금하신분': 2965, '아십니까': 2966, '관악부였음': 2967, '느낌인데': 2968, '곳이야': 2969, '사촌동생이랑': 2970, '초딩이야': 2971, '지금이': 2972, '두분': 2973, '고객앞으로': 2974, '차량을': 2975, '보낸다고': 2976, '받아오시면': 2977, '이름만': 2978, '홍길동으로': 2979, '바꿔서': 2980, '영업서로': 2981, '해줬어요': 2982, '운동복': 2983, '챙겨와': 2984, '좀전에': 2985, '광고하는': 2986, '액션장면': 2987, '아니던데': 2988, '독서실': 2989, '주인이': 2990, '이상하네': 2991, '예약했는데': 2992, '서울은': 2993, '우중충': 2994, '이과야': 2995, '주인공': 2996, '예약으로': 2997, '우선으로': 2998, '놓을': 2999, '테니까요': 3000, '견적만': 3001, '20만': 3002, '재계약했어': 3003, '요즘에도': 3004, '오락실이라는': 3005, '대기인이': 3006, '아홉명': 3007, '기다릴': 3008, '같다라고': 3009, '살짝': 3010, '가시면서': 3011, '주셔도': 3012, '슈프림': 3013, '봤고': 3014, '들어갔어': 3015, '쉬우세요': 3016, '예전': 3017, '에는': 3018, '알다시피': 3019, '보증이라는': 3020, '있었잖아요': 3021, '그랬다고': 3022, '처리하시게': 3023, '되면은요': 3024, '2살이야': 3025, '3000만원에': 3026, '20개월로': 3027, '심사': 3028, '나오셨어요': 3029, '정확히': 3030, '63만': 3031, '2천9백9십2원': 3032, '이시구요': 3033, '원금은': 3034, '39만': 3035, '이자는': 3036, '24만': 3037, '2천': 3038, '5백원': 3039, '씩': 3040, '예정이십니다': 3041, '잡아드릴건데': 3042, '대잖아요': 3043, '모가': 3044, '문제에요': 3045, '도망가는': 3046, '드릴수가': 3047, '없죠': 3048, '3500': 3049, '4000만원': 3050, '고객한테': 3051, '무턱대고': 3052, '그분들이': 3053, '먹튀해버리면': 3054, '난감해지거든요': 3055, '설마': 3056, '극단적으로': 3057, '그러신건가': 3058, '샵에서': 3059, '떨어지고': 3060, '인터넷에서도': 3061, '김태원씨가': 3062, '부탁으로': 3063, '1달': 3064, '끊어봤는데': 3065, '3달씩': 3066, '끊으려고': 3067, '스타렉스를': 3068, '빌려야': 3069, '1종이여야': 3070, '청소년에게': 3071, '심근염을': 3072, '유발할': 3073, '한국에서': 3074, '나쁘지는': 3075, '않지': 3076, '접속': 3077, '통화해봤어요': 3078, '기다리고': 3079, '인대': 3080, '300만까지': 3081, '댄다는': 3082, '번화가': 3083, '있을걸': 3084, '문자는': 3085, '8월에': 3086, '만나는': 3087, '거였는데': 3088, '심사를': 3089, '보죠': 3090, '기르면': 3091, '없지': 3092, '고등학교': 3093, '소풍으로': 3094, '마지막이었어': 3095, '있으면': 3096, '각': 3097, '나라에서': 3098, '중국한테': 3099, '뭐라': 3100, '손가락이': 3101, '움직여': 3102, '가시는데': 3103, '볼꺼야': 3104, '값까지': 3105, '올르면': 3106, '먹고살지': 3107, '밭': 3108, '생각나서': 3109, '자주가': 3110, '심하다고': 3111, '오덕이라능': 3112, '어떻게요': 3113, '교본은': 3114, '전철역에서': 3115, '택배가': 3116, '오실수도': 3117, '고객한테서': 3118, '수령할수도': 3119, '아이스크림에': 3120, '과자': 3121, '끝났어': 3122, '입어야지': 3123, '여친은': 3124, '착해': 3125, '무섭지': 3126, '인들': 3127, '연결해주는': 3128, '전화는': 3129, '있지만': 3130, '가망성이': 3131, '클': 3132, '연말이다': 3133, '이부분을': 3134, '녹취기록으로': 3135, '남겨': 3136, '녹취테이프를': 3137, '증거자료롤': 3138, '제출': 3139, '해드릴거에요': 3140, '간대': 3141, '지었나': 3142, '벼': 3143, '놀기로': 3144, '비밀번호는': 3145, '아니었지': 3146, '되어야지': 3147, '하시는거지': 3148, '굳이': 3149, '필요가': 3150, '없으신거잖아요': 3151, '피티': 3152, '집중하실': 3153, '환풍구': 3154, '봐야겠어': 3155, '계시지': 3156, '밖에': 3157, '나가는': 3158, '스트레스야': 3159, '일식류': 3160, '찾아가서': 3161, '사과하는': 3162, '언제받으셨어요': 3163, '담보물이': 3164, '케이블카만': 3165, '21만': 3166, '명이': 3167, '이용했대': 3168, '미스터': 3169, '선샤인': 3170, '재밌게': 3171, '봤으면': 3172, '와도': 3173, '써가지고': 3174, '젖지': 3175, '기간이': 3176, '걸리니까': 3177, '드리지': 3178, '좋아하던': 3179, '모더나가': 3180, '아니였어': 3181, '롯데리아': 3182, '무슨…': 3183, '따로따로': 3184, '남학생들': 3185, '공부가': 3186, '된다고': 3187, '찍어': 3188, '놨긴': 3189, '사진첩': 3190, '뒤져야': 3191, '고딩이라고': 3192, '2년부터는': 3193, '변경': 3194, '2년이': 3195, '되셔가지고': 3196, '싶으시다라고': 3197, '승인받으신지는': 3198, '중국인이': 3199, '기대': 3200, '거만큼': 3201, '실망도': 3202, '크겠다': 3203, '배우로': 3204, '전향하신': 3205, '화요일까지는': 3206, '완납하셨다는': 3207, '증명서': 3208, '보내주셔야시고요': 3209, '개인생활자금이라던가': 3210, '어필을': 3211, 'pt를': 3212, '신청해서': 3213, '입금받으시는': 3214, '입금계좌부분을': 3215, '말해주셨잖아요': 3216, '그쪽계좌로해서': 3217, '7주년임': 3218, '전에도': 3219, '운동만': 3220, '한다며': 3221, '피싱이에요': 3222, '봐요': 3223, '여건이': 3224, '카드에': 3225, '백만원이든': 3226, '이백만원이든': 3227, '원이든': 3228, '대출금을': 3229, '갚으시는': 3230, '여친이': 3231, '준거야': 3232, '지금어': 3233, '고생이': 3234, '맛있는거야': 3235, '아메리칸': 3236, '숏헤어라고': 3237, '재미있었는데': 3238, 'ㅇㅇ저축은행이': 3239, '들어가셨죠': 3240, '올라간': 3241, '입금하신쪽': 3242, '입금하신': 3243, '보': 3244, '콜센터': 3245, '잠깐만요': 3246, '도와드려': 3247, '지역이': 3248, '울산이세요': 3249, '개씩이': 3250, '러시아산': 3251, '보드카': 3252, '뭐해': 3253, '연락주셨구요': 3254, '김진아': 3255, '전기차가': 3256, '들어본': 3257, '월급을': 3258, '죄다': 3259, '버스비로': 3260, '쓰는구만': 3261, '여기엔': 3262, '이어폰을': 3263, '써야': 3264, '직업이긴': 3265, '하거든': 3266, '만성': 3267, '비염이라': 3268, '키우긴': 3269, '판매하면': 3270, '3000만원': 3271, '벌금형에': 3272, '처하게': 3273, '되는거': 3274, '어휴': 3275, '질리지도': 3276, '압수했구요': 3277, '그과정에서': 3278, '발견된겁니다': 3279, '확인차': 3280, '본인앞으로': 3281, '연락드렸구요': 3282, 'ㅇㅇ씨가': 3283, '갖고계시잖아요': 3284, '출금액이': 3285, '2000만원이에요': 3286, '했을때': 3287, '금일': 3288, '수당이': 3289, '30만원이면': 3290, '2000만원은': 3291, '무통장입금은': 3292, '쏴주는거는': 3293, '1950정도로': 3294, '50이': 3295, '주머니에': 3296, '있을거라고': 3297, '저녁때': 3298, '50남은거에서': 3299, '30만원은': 3300, '수당으로': 3301, '가져가시고': 3302, '5만원은': 3303, '넘겨서': 3304, '활용하시고': 3305, '환풍기만': 3306, '짜증났어': 3307, '아뇨': 3308, '그런부분은': 3309, '그거랑은': 3310, '손': 3311, '시러': 3312, '쇼핑보다': 3313, '소정의': 3314, '수수료를': 3315, '구매대행을': 3316, '아시겠지만': 3317, '설빙': 3318, '구분을': 3319, '하겠더라': 3320, '1500만원에': 3321, '제이원': 3322, '2500만': 3323, '남아계시잖아요': 3324, '기억하는데': 3325, '부모님': 3326, '모시고': 3327, '장작을': 3328, '사긴': 3329, '구경하고': 3330, '제출하면은': 3331, '채택이되면': 3332, '되시겠죠': 3333, '재판장에': 3334, '수사관인데': 3335, '녹취테이프': 3336, '작성해드리면': 3337, '사건맡고계신': 3338, '검사님께': 3339, '이관이': 3340, '검찰청사이트': 3341, '접속하셔서': 3342, '부여된': 3343, '사건공문': 3344, '육안으로': 3345, '확인하시고요': 3346, '주의하에': 3347, '피해자입증을': 3348, '받으실텐데': 3349, '여쭤볼게요': 3350, '회피나': 3351, '거부를': 3352, '부분이신가요': 3353, '피해자분들이': 3354, '연류가': 3355, '돼있어요': 3356, '신상정보만으로도': 3357, '위조신분증으로': 3358, '업무선상': 3359, '조작으로': 3360, '가능하게': 3361, '되신건데요': 3362, '일반계좌가': 3363, '법인계좌로': 3364, '동일하게': 3365, '법인계좌': 3366, '이용해': 3367, '보신적': 3368, '드라마': 3369, '재밌데': 3370, '후쿠오카만': 3371, '아는구만': 3372, '작년이': 3373, '끝인': 3374, 'ns농협': 3375, '유연경': 3376, '팀장입니다': 3377, '삥처리': 3378, '고속': 3379, '버스를': 3380, '빌리는': 3381, '자취를': 3382, '선택': 3383, '얼마인지': 3384, '시티카드': 3385, '신한카드': 3386, '두군데': 3387, '한도확인만': 3388, 'ooo고객님으로': 3389, '확인되시는데요': 3390, '남자밖에': 3391, '회사': 3392, '올영은': 3393, '세일이랑': 3394, '견종은': 3395, '마티즈야': 3396, '내줬어요': 3397, '받은': 3398, '택시타고': 3399, '가다가': 3400, '안하겠다는': 3401, '있었어요': 3402, '빵꾸날': 3403, '신었어': 3404, '외워서': 3405, '문구를': 3406, '전략': 3407, '협곡에': 3408, '환영합니다': 3409, '알아보고': 3410, '2시에요': 3411, '2시에': 3412, '가능하시겠어요': 3413, '안되는게': 3414, '대가리가': 3415, 'xx라서': 3416, '다행히도': 3417, '따뜻하다네': 3418, '녹취한단': 3419, '얘기도': 3420, '그쪽에서도': 3421, '긍정적으로': 3422, '맞아서': 3423, '다행이야': 3424, '해준다던데': 3425, '진짜야': 3426, '생일': 3427, '파티도': 3428, '10분': 3429, '20일짜로': 3430, '해드릴거고': 3431, '연동이자': 3432, '할겁니다': 3433, '연말이기때문에': 3434, '지연이': 3435, '되가지고': 3436, '몇십분정도': 3437, '예정인데': 3438, '연동이자가': 3439, '계좌에서': 3440, '가능하신겁니까': 3441, '효년': 3442, '펜션마다': 3443, '다르긴': 3444, '샤워하기': 3445, '청소하는': 3446, '보이면': 3447, '박박': 3448, '닦음': 3449, '네이버나': 3450, '다음에요': 3451, '검색을': 3452, '누구냐면…': 3453, '가능하시다': 3454, '현금서비스': 3455, '백오십정도': 3456, '수는': 3457, '부탁말씀드리는거는': 3458, '얘기하시면': 3459, '틴트도': 3460, '좋으신': 3461, '분이시다': 3462, '어떡해': 3463, '1800만원': 3464, '보겠습니까': 3465, '보셨어요': 3466, '여행할': 3467, '패스': 3468, '도입했다더라': 3469, '30점': 3470, '오르신다': 3471, '800점에': 3472, '들어가시게': 3473, '부분에서': 3474, '조건에': 3475, '없으시게': 3476, '흠': 3477, '죄송합니다': 3478, '대출건땜에': 3479, '다른분꺼': 3480, '안내좀': 3481, '해드리라': 3482, '편하긴': 3483, '하겠다': 3484, '육십': 3485, '내겠네': 3486, '애기들도': 3487, '맞으면': 3488, '크지': 3489, '우울증에': 3490, '시달렸던': 3491, '받아도': 3492, '괜찮을까': 3493, '들려주셈': 3494, '이었으면': 3495, '야간에': 3496, '아니라서': 3497, '꼰대는': 3498, '어플': 3499, '자수성가': 3500, '어디에서': 3501, '그어': 3502, '통장이고': 3503, '소음인데': 3504, '훈훈한': 3505, '떠': 3506, '방문하시는거죠': 3507, '잡혀간': 3508, '구백원': 3509, '탁재훈': 3510, '매력': 3511, '알반데': 3512, '주신거세요': 3513, '곰팡이': 3514, '사촌동생께서': 3515, '시민이': 3516, '꿀잼인데': 3517, '예능만': 3518, '송중기': 3519, '귀여워': 3520, '누르러': 3521, '가야겠네': 3522, '코끼리는': 3523, '취소를': 3524, '하신다구요': 3525, '건물에': 3526, '우리만': 3527, '살아': 3528, '관악기라고': 3529, '공인인증서가': 3530, '로그인되었다는게': 3531, '무슨소립니까': 3532, '총금액': 3533, '연락주시겠습니까': 3534, '당분간': 3535, '쉬어도': 3536, '거긴': 3537, '슬슬': 3538, '맞나': 3539, '이모들이': 3540, '안부': 3541, '전화가': 3542, '담날': 3543, '흡수': 3544, '사겠다': 3545, '봐야지': 3546, '터지기': 3547, '이것도': 3548, '중국술인데': 3549, '향이': 3550, '산뜻해': 3551, '사과향이': 3552, '잔액은': 3553, '빼셨고요': 3554, '마음': 3555, '압니다': 3556, '전화통화로만': 3557, '대출상담하면서': 3558, '얻어먹어요': 3559, '솔직하게요': 3560, '인가': 3561, '타사쪽에': 3562, '채무통합을': 3563, '평점이나': 3564, '등급이': 3565, '받거니': 3566, '된거잖아요': 3567, '아저씨들': 3568, '캐미가': 3569, '쩔어': 3570, '왕복': 3571, '6천': 3572, '여자인데': 3573, '대기래': 3574, '알레르기': 3575, '아닐까': 3576, '와오': 3577, '값도': 3578, '않겠어': 3579, '장만해야': 3580, '방문하시는데': 3581, '소요되세요': 3582, '맛집': 3583, '받는거에요': 3584, '사건번호': 3585, '2017조사': 3586, '8003호': 3587, '직업이': 3588, '3년안에': 3589, '분실신고': 3590, '상태죠': 3591, '사본을': 3592, '분실하거나': 3593, '타인한테': 3594, '빌려준적있어요': 3595, '개인정보유출되었다고': 3596, '업체에서': 3597, '직접적인': 3598, '이메일또는': 3599, '통보를': 3600, '받은적이있습니까': 3601, '생각했을때': 3602, '유출될만한': 3603, '특별한': 3604, '경로나': 3605, '의심되는게': 3606, '김선정이라는': 3607, '여성분': 3608, '통장이시구요': 3609, '유기견': 3610, '키울': 3611, '표적이': 3612, '되려고': 3613, '태어나는': 3614, '진화를': 3615, '헉': 3616, '부산에': 3617, '그럴려면': 3618, '도심에서': 3619, '가야하거든': 3620, '센': 3621, '원해서': 3622, '메탄올': 3623, '성분이': 3624, '마셨대': 3625, '아이디도': 3626, '알려': 3627, '확실히': 3628, '받게': 3629, '금융사라고': 3630, '입금내역이': 3631, '찍히시죠': 3632, '어제가': 3633, '따뜻했지': 3634, '갔네': 3635, '아니겠다': 3636, '아셨어요': 3637, '시키지': 3638, '등록해서': 3639, '상환금을': 3640, '냈는데': 3641, '간혹': 3642, 'ooo하고': 3643, '된다든지': 3644, '크레임도': 3645, '들어오고': 3646, '그랬던': 3647, '잠깐해서': 3648, '육류를': 3649, '안내받기로는': 3650, '5월': 3651, '19일': 3652, '날짜로': 3653, '자금받아보신': 3654, '나무': 3655, '이체가': 3656, '됐는지': 3657, '음…처음': 3658, '듣기만': 3659, '개꿀': 3660, '우체국으로': 3661, '이체를': 3662, '스펀지밥도': 3663, '짱구도': 3664, '코로나가': 3665, '없어져야': 3666, '없어질': 3667, '있다더라': 3668, '늘어가고': 3669, '사망자가': 3670, '18명': 3671, '따듯한': 3672, '좋더라고': 3673, '대학생': 3674, '버켓': 3675, '그거인데': 3676, '부작용이': 3677, '야맹증이라고': 3678, '확인하시고': 3679, '운영된': 3680, '시간까지': 3681, '소환조사': 3682, '보니뿐만': 3683, '전국': 3684, '240만': 3685, '연료': 3686, '열려': 3687, '가운데서': 3688, '찍은': 3689, '동시수사를': 3690, '나오셔야': 3691, '잘해서': 3692, '벌면': 3693, '썰': 3694, '풀어줘': 3695, '낚시해본': 3696, '조명이': 3697, '정육점집': 3698, '났더라구요': 3699, '금전': 3700, '소비': 3701, '대차': 3702, '계약': 3703, '발건으로': 3704, '맞아도': 3705, '재밌다던데': 3706, '할만': 3707, '혀': 3708, '감기': 3709, '조심히': 3710, '애교': 3711, '수준이': 3712, '비린내': 3713, '난다며': 3714, '450만원까지': 3715, '임대하고있어서': 3716, '어려우시잖아요': 3717, '괴롭히는': 3718, '여자니까': 3719, '강하게': 3720, '가긴': 3721, '책임감': 3722, '롤하는': 3723, '없다고요': 3724, '고객님으로': 3725, '채권을': 3726, '처리하게': 3727, '쪽하고': 3728, '고객님하고': 3729, '작업대출로': 3730, '오해를': 3731, '강의실': 3732, '찾아왔던': 3733, '헬스장에서': 3734, '입어볼까': 3735, '이후': 3736, '쯤': 3737, '사와서': 3738, '키웠으면': 3739, '지정해주시는': 3740, '처리해주시면': 3741, '옷': 3742, '정리했는데': 3743, '반팔': 3744, '정리는': 3745, '안걸리게': 3746, '이동하시면서': 3747, '하는거고': 3748, '이동할수밖에': 3749, '없는게': 3750, '영등포역에서': 3751, '시작하셨는데': 3752, '오후에': 3753, '교대역에': 3754, '택배올게있다': 3755, '교대쪽에': 3756, '처리하면서': 3757, '가면서': 3758, '픽업하시고': 3759, '물새고': 3760, '근처': 3761, '학원이랑': 3762, '어어': 3763, '바구니에': 3764, '쌓이면': 3765, '빨래해': 3766, '이유를': 3767, '산와측에서': 3768, '되는거죠': 3769, '지내고': 3770, '우리은행이시고': 3771, '1002': 3772, '귀찮아': 3773, '나오는지': 3774, '지인이다': 3775, 'bnk': 3776, '여쪽에': 3777, '관곈데': 3778, '주시는': 3779, '이동해': 3780, '부탁드리면': 3781, '1기에': 3782, '아들이': 3783, '된다던데': 3784, '남자가': 3785, '그러니깐요': 3786, '여섯시': 3787, '정리해주신': 3788, '시간으로': 3789, '팀에서': 3790, '6월9일날': 3791, '10시부터': 3792, '2시사이에': 3793, '계셨고': 3794, '계셨죠': 3795, '화요일입니다': 3796, '기억안나십니까': 3797, '무슨말인지': 3798, '이해되셨구요': 3799, '통장들이': 3800, '불법적으로': 3801, '사용되었다는': 3802, '말씀드렸습니다': 3803, '계셨습니까': 3804, '금시초문이다': 3805, '이말씀이시죠': 3806, '합법적으로': 3807, '거래하는': 3808, '통장중에': 3809, '부산은행이있으십니까': 3810, '거래한적': 3811, '은행들': 3812, '거래하고': 3813, '거래한다': 3814, '이말이십니까': 3815, '농협도': 3816, '있으니구요': 3817, '국민은행이나': 3818, '농협은행을': 3819, '제외한': 3820, '발견되었을': 3821, '개인정보유출로': 3822, '범죄자': 3823, '들이': 3824, '개설한거': 3825, '인정하고': 3826, '저희들이': 3827, '동결처리되실겁니다': 3828, '제2금융권': 3829, '증권거래를': 3830, '하신적': 3831, '동양증권': 3832, '삼성증권': 3833, '증권사요': 3834, '은행거래하실때요': 3835, '인터넷이나': 3836, '모바일로': 3837, '자주하시는': 3838, '이십니까': 3839, '은행창구로': 3840, '편이십니까': 3841, '뱅킹을': 3842, '사용하셨구요': 3843, '보안설정은': 3844, 'otp로': 3845, '보안카드이십니까': 3846, '귀에서': 3847, '거려': 3848, '장난을': 3849, '치겠습니까': 3850, '작은엄마': 3851, '악에서': 3852, '구하소서': 3853, '시기': 3854, '상조라': 3855, '코로나를': 3856, '강의는': 3857, '웃긴': 3858, '썰만': 3859, '여자친구는': 3860, '다니지': 3861, '효도여행을': 3862, '됐더라고': 3863, '누수': 3864, '탐지': 3865, '불렀어': 3866, '콩깍지': 3867, '낄': 3868, '잘생겼지': 3869, '서럽지': 3870, '만화책이': 3871, '흑백이라': 3872, '추억쓰': 3873, '그러면서': 3874, '꺼낸': 3875, '효도': 3876, '가는구나': 3877, '이거랑': 3878, '도깨비불도': 3879, '신이': 3880, '완벽한': 3881, '선물인': 3882, '자그마치': 3883, '마약만': 3884, '23억': 3885, '원어치래': 3886, '비쌀텐데': 3887, '오늘도': 3888, '사료가': 3889, '도착했어': 3890, '맞을라나': 3891, '그쪽에': 3892, '잘못받은거': 3893, '같다': 3894, '우리쪽에서': 3895, '해줄려고': 3896, '그쪽에서': 3897, '대출한다고': 3898, '얘기안하구요': 3899, '금융사는': 3900, '사태가': 3901, '발생을': 3902, '복잡하게': 3903, '없으셔서요': 3904, '에어로빅': 3905, '뛰면서': 3906, '이동하는게': 3907, '힘드신데': 3908, '대기하는것보단': 3909, '이동하시는게': 3910, '나을거구요': 3911, '코시국이라': 3912, '과외': 3913, '쌤도': 3914, '사라졌을': 3915, '어머': 3916, '휴지': 3917, '드려라': 3918, '도': 3919, '넷플릭스': 3920, '시리즈에도': 3921, '그러잖아': 3922, '물집': 3923, '잡혀서': 3924, '아프다고': 3925, '중요한거는': 3926, '요런': 3927, '작업들을': 3928, '되겠죠': 3929, '사이트요': 3930, '싫다': 3931, '중간에서': 3932, '처리하겠습니다': 3933, '아시다시피': 3934, '카드나': 3935, '통장같이': 3936, '금융': 3937, '물품들은': 3938, '배송금지': 3939, '품목이라': 3940, '보장을': 3941, '해주셔가지고': 3942, '담당자한테': 3943, '보낼': 3944, '자세부터': 3945, '중요하다던데': 3946, '일반통장이십니다': 3947, '들자면': 3948, '뭐네': 3949, '찾았다라고': 3950, '실사': 3951, '직원하고': 3952, '가능하신지요': 3953, '알아봐야겠다': 3954, '그고': 3955, '부조리를': 3956, '끈어줘야지': 3957, '티비에도': 3958, '나왔었잖아': 3959, '올라가고': 3960, '수건': 3961, '존맛탱': 3962, '출력해서': 3963, '한부': 3964, '뽑아': 3965, '본인은행': 3966, '통장이랑': 3967, '연결된': 3968, '카드안에요': 3969, '잔액같은거': 3970, '잔액이': 3971, '많으시면': 3972, '아이디카드': 3973, '2일': 3974, '동안에는': 3975, '사용하시지': 3976, '잖아요': 3977, '쓰시거나': 3978, '빼시라고': 3979, '하실때요': 3980, '봉투': 3981, '봉투안에': 3982, '이력서랑': 3983, '동봉해': 3984, '봉투는': 3985, '밀봉하셔서': 3986, '직원분한테': 3987, '전해': 3988, '낮에는': 3989, '햇빛': 3990, '있던데': 3991, '현장에': 3992, '사람들이랑은': 3993, '다물고': 3994, '일만하다': 3995, '피시방만': 3996, '기다리나봐': 3997, '산와': 3998, '대부': 3999, '계산': 4000, '맞으세요': 4001, '전화해': 4002, '인스타도': 4003, '쇼핑몰이': 4004, '취미가': 4005, '아마도': 4006, '배달이': 4007, '짱임': 4008, '대구': 4009, '원피스': 4010, '옛날에': 4011, '패딩을': 4012, '입으려고': 4013, '날짜는': 4014, '며칠로': 4015, '공부하는': 4016, '영상은': 4017, '신청서': 4018, '작성': 4019, '얼큰하게': 4020, '갔구나': 4021, '전참시': 4022, '웃겼어': 4023, '안물어': 4024, '볼수도': 4025, '올랐지': 4026, '비빌번호': 4027, '지내는': 4028, '네이버에': 4029, '검색란에': 4030, '숫자로': 4031, '공문서에': 4032, '처리까지': 4033, '얻고': 4034, '쳤는데': 4035, '나와버렸지': 4036, '아이가': 4037, '짖고': 4038, '거니': 4039, '하늘나라로': 4040, '논밖에': 4041, '없거든': 4042, '실명': 4043, '팀장이사급들로': 4044, '성함으로': 4045, '들어가실': 4046, '생각보다': 4047, '써클렌즈는': 4048, '두꺼워': 4049, '생길': 4050, '생기지': 4051, '답답해': 4052, '죽겠네': 4053, '괜찮으시냐고요': 4054, '대출이라': 4055, '연체를': 4056, '경우나': 4057, '고의적인': 4058, '회피가': 4059, '있으실': 4060, '그러기때문에': 4061, '처리할': 4062, '치는': 4063, '삼천만원이': 4064, '안되더라도': 4065, '2800만원까지는': 4066, '드린다고': 4067, '말씀드렸잖아요': 4068, '자전거': 4069, '그러다가': 4070, '피부': 4071, '찢어져': 4072, '이상한게': 4073, '자격': 4074, '되시잖아요': 4075, '수단에서도': 4076, '할인해줘': 4077, '궁금하더라고': 4078, '무쌍': 4079, '남자를': 4080, '구나': 4081, '여자로서': 4082, '군인이': 4083, '싶었는데': 4084, '시켰거든': 4085, '아파트가': 4086, '되어서': 4087, '기업부납부증명서하고': 4088, '어…꼭': 4089, '필요한게': 4090, '월요일까지도': 4091, '판단하시면': 4092, '그런데요': 4093, '박스테이프로': 4094, '상자는': 4095, '칭칭': 4096, '감아주세요': 4097, '포장이': 4098, '버리고': 4099, '논': 4100, '엔젤도': 4101, '꺼야': 4102, '마리라고': 4103, '왔나요': 4104, '눈싸움하게': 4105, '스피드': 4106, '고등': 4107, '교사가': 4108, '글을': 4109, '쓴': 4110, '알려줄까': 4111, '털털해': 4112, '소도': 4113, '돼지가': 4114, '나야': 4115, '온라인에서': 4116, '가입하신적은': 4117, '나온다며': 4118, '신용도는': 4119, '상향되시는지는': 4120, '들으셨어요': 4121, '보더라': 4122, '부탁드리겟습니다': 4123, '말티즈는': 4124, '사랑이야': 4125, '필러랑': 4126, '윤곽': 4127, '남자들도': 4128, '다하잖아': 4129, '이걸로': 4130, '이슈였는데': 4131, '조치가': 4132, '이루어졌어': 4133, '백신은': 4134, '텔레파시': 4135, '아니쥬': 4136, '지는': 4137, '구독자': 4138, '15명': 4139, '귀엽잖아': 4140, '겉옷': 4141, '같았는데': 4142, '끝나다니': 4143, '화이자': 4144, '맞는다': 4145, '추가하면': 4146, '환상이지': 4147, '환장해': 4148, '거래를': 4149, '세상': 4150, '마이너스면': 4151, '압축을': 4152, '번이나': 4153, '기다려야': 4154, '한다는': 4155, '궁금하시거나': 4156, '내용이': 4157, '조사하는': 4158, '밝혀진': 4159, '은행이나': 4160, '보험사': 4161, '통신사까지': 4162, '연루되어': 4163, '있더라고요': 4164, '노랜데': 4165, '안쳐봤는데': 4166, '김종현': 4167, '낳아서': 4168, '업무시간이라서': 4169, '못만지는데': 4170, '받겠습니다': 4171, '좋으실': 4172, '깡통만': 4173, '5천이고': 4174, '옵션': 4175, '8천까지': 4176, '부대비용이': 4177, '이러한': 4178, '없으시구요': 4179, '오키': 4180, '롯시에서': 4181, '원인이라고': 4182, '메탄올을': 4183, '마신': 4184, '지그재그': 4185, '걍': 4186, '인스타로': 4187, '브이로그': 4188, '올렸어': 4189, '추천이야': 4190, '전문이야': 4191, '이래': 4192, '편의점': 4193, '가니깐': 4194, '봉지라면': 4195, '400원': 4196, '버림': 4197, '자가용': 4198, '땡': 4199, '사용해도': 4200, '변해': 4201, '사골': 4202, '국에': 4203, '말아': 4204, '으른이': 4205, '최초로': 4206, '입금이': 4207, '가즈아': 4208, '외침': 4209, '중독': 4210, '차비로': 4211, '깨지겠네': 4212, '비싸다': 4213, '배달비도': 4214, '아프대': 4215, '메탄올은': 4216, '주택': 4217, '못살겠어': 4218, '필드까지': 4219, '나가시겠다': 4220, '칼빵': 4221, '없겠더라': 4222, '토박이': 4223, '안되니까': 4224, '괜히': 4225, 'xx': 4226, 'xx가': 4227, '확': 4228, '안되잖아요': 4229, '확인하셨단': 4230, '암에': 4231, '걸렸었어': 4232, '선전하는': 4233, '광고사': 4234, '내렸대': 4235, '매워서': 4236, '피똥': 4237, '쌀': 4238, '뻔': 4239, '앉으세요': 4240, '임의상': 4241, '경찰서에': 4242, '신고를': 4243, '해드렸습니다': 4244, '몰랐는데': 4245, '난방이더라고': 4246, '쇼핑': 4247, '사랑이다': 4248, '총살해야': 4249, '무거워': 4250, '중력의': 4251, '법칙인가': 4252, '크더라': 4253, '가려면': 4254, '중학생들이': 4255, '입던데': 4256, '30미터': 4257, '아래로': 4258, '채권이잖습니까': 4259, '채권이': 4260, '언니네': 4261, '주변': 4262, '밝지': 4263, '차트를': 4264, '아무리': 4265, '고딩이였음': 4266, '귀여웠겠지': 4267, '몬스타엑스인가': 4268, '갚아야지': 4269, '올리도록': 4270, '겨울잠': 4271, '자자': 4272, '따뜻해': 4273, '처음으로': 4274, '우리끼리': 4275, '오픈하는': 4276, '이어서': 4277, '대기라고': 4278, '셋팅': 4279, '열펌이라': 4280, '뭐였지': 4281, '콜라': 4282, '러시에서': 4283, '얼마받았어요': 4284, '동안만': 4285, '없으시면': 4286, '맞췄어': 4287, '됐대': 4288, '점수도': 4289, '잘치지': 4290, '계셨대': 4291, '씨티랑': 4292, '따른쪽은': 4293, '계약하신': 4294, '기간동안': 4295, '사용되셨다고': 4296, '완납처리가': 4297, '됐다고': 4298, '없애드리는': 4299, '명의에': 4300, '발견되었기': 4301, '가해자라는': 4302, '혐의점을': 4303, '벗기': 4304, '번째로': 4305, '하나의': 4306, '계좌만': 4307, '4개의': 4308, '당연히을': 4309, '경로겠죠': 4310, '며칠': 4311, '내내': 4312, '왔잖아': 4313, '롤해': 4314, '미쳐': 4315, '어무님': 4316, '여자': 4317, '형제': 4318, '많으시지': 4319, '살포시': 4320, '막아': 4321, '부여로': 4322, '언니네로': 4323, '슝': 4324, '당시': 4325, '많았지': 4326, '뺀': 4327, '거도': 4328, '흉짐': 4329, '캘로이드로': 4330, '서대문구': 4331, '통일로': 4332, '97': 4333, '서울이구요': 4334, '오시게': 4335, '1층에': 4336, '민원실에': 4337, '그분이': 4338, '3층에': 4339, '오시는게': 4340, '오시라고요': 4341, '하시겠습니까': 4342, '서울지방경찰청': 4343, '사이버수사대': 4344, '지능범죄수사팀': 4345, '계급은': 4346, '경사고요': 4347, '궁금하십니까': 4348, '나시면': 4349, '나가기': 4350, '부서': 4351, '과장님께서': 4352, '전화드린다고': 4353, '말씀드렸지요': 4354, '쩍게는': 4355, '오프로에서': 4356, '사십프로까지': 4357, '나오더라고요': 4358, '핑크': 4359, '손난로': 4360, '크기였던': 4361, '캐피탈에': 4362, '금액은요': 4363, '다달이': 4364, '회원비': 4365, '내서': 4366, '러시아인들이': 4367, '독한': 4368, '마시는': 4369, '문화가': 4370, '뛸': 4371, '말라고': 4372, '로카티라고': 4373, '8시에': 4374, '오픈하고': 4375, '그때부터': 4376, '사람들어와': 4377, '시켰다': 4378, '12월로': 4379, '받으시다가': 4380, '남으시잖아요': 4381, '필요해서': 4382, '받긴': 4383, '하셨지만': 4384, '갚을': 4385, '능력이': 4386, '판단되요': 4387, '상향되시는': 4388, '방식인데': 4389, '만든': 4390, '갇혀있대': 4391, '어떤게요': 4392, '웃긴데': 4393, '슬픈': 4394, '사람들이랑': 4395, '치맥하러': 4396, '다녔잖아': 4397, '창문': 4398, '양파랑': 4399, '얹어진': 4400, '죽었지': 4401, '상환하는거다': 4402, '받아주는': 4403, '겨': 4404, '2층이나': 4405, '3층': 4406, '있더라': 4407, '누구야': 4408, '연예인인가': 4409, '메탈블루인가': 4410, '봐주니까': 4411, '줘야지': 4412, '사줘라': 4413, '방문을': 4414, '간단히': 4415, '나가': 4416, '중성화': 4417, '드린다고요': 4418, '사용하신': 4419, '확인해서': 4420, '완납결제서류': 4421, '발송해': 4422, '기회가': 4423, '되신다면은': 4424, '계양구': 4425, '경명대로쪽에': 4426, '있으신거': 4427, '결국': 4428, '여군은': 4429, '강제': 4430, '전역': 4431, '당했네': 4432, '오리': 4433, '눈삽': 4434, '직장도': 4435, '다니면': 4436, '낫지': 4437, '상대방이랑': 4438, '연락해': 4439, '봐야겠네': 4440, '첨': 4441, '아껴서': 4442, '방세': 4443, '내야': 4444, '시켰어야': 4445, '골프': 4446, '베놈2': 4447, '친오빠라고': 4448, '얘기하시고': 4449, '측': 4450, '상환능력': 4451, '평가': 4452, '부분만': 4453, '보셨던': 4454, '금리보다': 4455, '조건으로': 4456, '발급은': 4457, '전산상': 4458, '상환능력평가로': 4459, '미달이': 4460, '되신': 4461, '부결이': 4462, '나신만큼': 4463, '말씀들이': 4464, '그렇지만': 4465, '간단하시긴해요': 4466, '약간의': 4467, '편법이지만': 4468, '상환능력평가만': 4469, '예외심사건으로': 4470, '재접수를': 4471, '관계로해서': 4472, '이모님': 4473, '올영': 4474, '할인하고': 4475, '머선': 4476, '소리인지는': 4477, '모르것지만': 4478, '닫게': 4479, '단잠에': 4480, '건드리는': 4481, '고량주': 4482, '안쎄': 4483, '될지도': 4484, '감정이': 4485, '악세사리는': 4486, '저희요': 4487, '직통': 4488, '알려드렸잖아요': 4489, '판단하기': 4490, '질문은요': 4491, '일차피해자인': 4492, '밝히시는': 4493, '질문이구요': 4494, '전반적으로': 4495, '녹취상태를': 4496, '진행되실겁니다': 4497, '수사과정에서': 4498, '강압수사던지': 4499, '유도심문이라든지': 4500, '허위진술한': 4501, '기관에서도': 4502, '심사가': 4503, '가실거구요': 4504, '거짓말하시거나': 4505, '속이시면': 4506, '안되세요': 4507, '엔': 4508, '에이치': 4509, '중앙회': 4510, '누구누구': 4511, '폰이': 4512, '힘드시다': 4513, '그말씀이시잖아요': 4514, '히어로': 4515, '느낌이': 4516, '난대': 4517, '사년': 4518, '저희한테': 4519, '이자를': 4520, '내잖아요': 4521, '소득이': 4522, '해드렸는데': 4523, '안한다': 4524, '해버리면': 4525, '공증비가': 4526, '붕': 4527, '떠가지고': 4528, '손실로': 4529, '잡힌': 4530, '그부분이': 4531, '수요일이': 4532, '빨간날이였잖아요': 4533, '불빛': 4534, '은행나오셔서': 4535, '똑같아': 4536, '어쩌다': 4537, '마음의': 4538, '편지로': 4539, '신고': 4540, '숨쉬기가': 4541, '생각도': 4542, '싫다고': 4543, '대학은': 4544, '지역에': 4545, '뭐에': 4546, '혹했었나': 4547, '어떤직종이십니까': 4548, 'ㅇㅇ이요': 4549, '되셨구요': 4550, '천이백만원까지': 4551, '가능하시다고': 4552, '드렸네요': 4553, '신청하시면': 4554, '말씀하시는거에요': 4555, '은행창구에서': 4556, '영수증': 4557, '발행되시잖아요': 4558, '녹취라고': 4559, '다른게': 4560, '여쭤봤던': 4561, '질문들을': 4562, '녹취에': 4563, '담을': 4564, '하게되면': 4565, '내선연결': 4566, '공문장도': 4567, '확인하셔야': 4568, '좀더': 4569, '상세하게': 4570, '설명해': 4571, '됐고': 4572, '하실지': 4573, '이해하셨습니까': 4574, '잠깐만': 4575, '자리좀': 4576, '직장인': 4577, '이신거': 4578, '수화기에': 4579, '이상이': 4580, '생길수가있어요': 4581, '여쭤보는게': 4582, '아니니까': 4583, '음성': 4584, '녹음을': 4585, '수고하십니다서울중앙지검': 4586, '이진호': 4587, '수사관이라고': 4588, '유출사건': 4589, '괜찮으십니까': 4590, '사건부터': 4591, '말씀드리겠습니다': 4592, '발견했는데요': 4593, '했을': 4594, '1시간': 4595, '간격으로': 4596, '됐네요': 4597, '문희경을': 4598, '중심으로': 4599, '복사된': 4600, '압수': 4601, '두부를': 4602, '상태에요': 4603, '확인했을때는': 4604, '8월': 4605, '14일날': 4606, '개설되었네요': 4607, '개설하신': 4608, '조사해본': 4609, '결과로는': 4610, '동일': 4611, '전과도': 4612, '신분도': 4613, '확실': 4614, '1차적인': 4615, '보이지': 4616, '검찰': 4617, '수사라는게': 4618, '심증': 4619, '하나만으로는': 4620, '피해자다': 4621, '가해자다': 4622, '분류를': 4623, '입증조사가': 4624, '진행될거에요': 4625, '일차적인': 4626, '없었기': 4627, '지검쪽으로': 4628, '현실입니다': 4629, '과정을': 4630, '녹취로써': 4631, '대신해서': 4632, '법원에서': 4633, '제출될': 4634, '자료이기': 4635, '잡음이나': 4636, '본인아닌': 4637, '목소리가': 4638, '섞이게': 4639, '증거자료로써': 4640, '효력이': 4641, '발생하기': 4642, '고객님같은': 4643, '무직이시고': 4644, '통장상에': 4645, '소득증빙할수있는': 4646, '없으시기때문에': 4647, '받으셔야되거든요': 4648, '구하실수는있으세요': 4649, '하면은': 4650, '증빙할': 4651, '내역을': 4652, '저희쪽을': 4653, '급여라던가': 4654, '받은게': 4655, '오늘이나': 4656, '그제나': 4657, '중이지': 4658, '그러기에': 4659, '금융질서': 4660, '물란죄로': 4661, '힘들죠요': 4662, '말까지': 4663, '프로젝트': 4664, '하시기': 4665, '한번주세요': 4666, '있었구': 4667, '번째는': 4668, '적금이나': 4669, '정기': 4670, '예금': 4671, '상품이나': 4672, '신청하시는': 4673, '보내주셨어': 4674, '시간이네': 4675, '글쎄': 4676, '거까지는': 4677, '말하진': 4678, '올해까지': 4679, '일해서': 4680, '슬프지': 4681, '타면': 4682, '순삭': 4683, '하고는': 4684, '주변에서': 4685, '말리더라고': 4686, '금리가': 4687, '신나게': 4688, '자신': 4689, '문과랑은': 4690, '무조건적으로': 4691, '부위이네': 4692, '되도록': 4693, '근처는': 4694, '포장해': 4695, '오려고': 4696, '잘하진': 4697, '겨울이라': 4698, '똑같네': 4699, '엄두가': 4700, '찾아보는': 4701, '오르는': 4702, '샀구나': 4703, '배우자': 4704, '안해봤어': 4705, '이치란': 4706, '대기하는': 4707, '차에서': 4708, '음악도': 4709, '들으시면서': 4710, '계시고': 4711, '개인적인': 4712, '볼일은': 4713, '이후에': 4714, '미뤄놓으시면': 4715, '좋을': 4716, '농협에서': 4717, '보실려고': 4718, '아니세요': 4719, '탕수육이랑': 4720, '먹는다면': 4721, '짜장면으로': 4722, '전화하세요': 4723, '소득증빙': 4724, \"예'\": 4725, '잠시만': 4726, '은행창구': 4727, '이용하실': 4728, '오픈': 4729, '준비까지': 4730, '해야되니가': 4731, '보미': 4732, '귀엽겠다': 4733, '되시는데로': 4734, '연락좀': 4735, '재밌기도': 4736, '위험하기도': 4737, '50만원으로는': 4738, '안되시구요': 4739, '효력을': 4740, '보유하는': 4741, '과정으로는': 4742, '법무법인이나': 4743, '변호사': 4744, '공중': 4745, '사무실을': 4746, '지정해': 4747, '파견': 4748, '나가시는': 4749, '분을': 4750, '뵙고': 4751, '3자대면을': 4752, '약정서와': 4753, '공증서를': 4754, '작성하게': 4755, '어려우실': 4756, '처리하시는': 4757, '방법도': 4758, '있으시니까': 4759, '구슬도': 4760, '포커도': 4761, '물이라면': 4762, '많구나': 4763, '먹기': 4764, '평가를': 4765, '이야기해서': 4766, '능력은': 4767, '1건': 4768, '매운건': 4769, '먹다가': 4770, '콧물': 4771, '다흘려서': 4772, '안돼': 4773, 'ㅇㅇ': 4774, '심사결과는': 4775, '나오셨는데요': 4776, '따뜻하데': 4777, '흔들리고': 4778, '안해줄': 4779, '남학생들은': 4780, '끓고': 4781, '나이니까': 4782, '도와줘야': 4783, '한대': 4784, '국민카드님한테': 4785, '근무하는': 4786, '고객센터로': 4787, '넘어가는게': 4788, '안되실수도': 4789, '요청하신': 4790, '들어오신': 4791, '싫어할': 4792, '투명렌즈': 4793, '만났는데': 4794, '심한데': 4795, '15개': 4796, '평생': 4797, '쓸듯': 4798, '하늘나라': 4799, '관련한': 4800, '2015': 4801, '한글로': 4802, '3009호': 4803, '임기철': 4804, '사건입니다': 4805, '부탁드려요': 4806, '건의': 4807, '되가지고요': 4808, '만났어': 4809, '죽었는데': 4810, '이것만': 4811, '포인트는': 4812, '페이코가': 4813, '쌓여': 4814, '주기적으로': 4815, '해봐야하니까': 4816, '하실때도': 4817, '외향적인': 4818, '성격이라': 4819, '기온': 4820, '훅': 4821, '떨어지더라': 4822, '가이드는': 4823, '해줬어': 4824, '스마일라식이라고': 4825, '오래하더라': 4826, '살잖아': 4827, '발레': 4828, '피아노만': 4829, 'ooo이고요': 4830, 'ooooooooo': 4831, '여긴': 4832, '서서': 4833, '먹던데': 4834, '공': 4835, '미세': 4836, '먼지도': 4837, '쨍쨍한다더라': 4838, '기재하시는': 4839, '필로폰': 4840, '말만': 4841, '들어봤지': 4842, '롤이나': 4843, '오버워치': 4844, '시켰던': 4845, '거기에서': 4846, '커버해주셔야죠': 4847, '타야겠구만': 4848, '계양점': 4849, '제가요': 4850, '영화관': 4851, '오래야': 4852, '이러시면': 4853, '김재환': 4854, '씨라는': 4855, '부탁받고': 4856, '오호라': 4857, \"'혹시\": 4858, '양도하거나': 4859, '분실': 4860, '유출이': 4861, '되었는데요': 4862, '사례가': 4863, '이를': 4864, '2010년': 4865, '9일': 4866, '날에': 4867, '불법도박': 4868, '금융사기단': 4869, '일당': 4870, '일부를': 4871, '발견되었고': 4872, '불법도박자금': 4873, '8600만원': 4874, '동결시켰는데': 4875, '본인게선': 4876, '대해': 4877, '45세': 4878, '분인데요': 4879, '모르신단': 4880, '강상호씨에': 4881, '돈주고': 4882, '판': 4883, '아시다': 4884, '시피': 4885, '가셔야지만': 4886, '발급되지': 4887, '무마될': 4888, '황당할': 4889, '있겠지만': 4890, '사간이': 4891, '강상호란': 4892, '도박': 4893, '사이트': 4894, '운영하면서': 4895, '필요하니깐': 4896, '포함한': 4897, '130명의': 4898, '명의자들에게': 4899, '구매했다고': 4900, '진술하셔서': 4901, '부분이시구요': 4902, '통화하다보면': 4903, '몇몇': 4904, '돈을받고': 4905, '판매한': 4906, '부분이십니다': 4907, '판매한적': 4908, '이말씀이시지요': 4909, '어땠어': 4910, '비를': 4911, '입장문이': 4912, '어이가': 4913, '없던데': 4914, '제도를': 4915, '폐지된': 4916, '사실은': 4917, '취소하신다면': 4918, '지우셔도': 4919, '배송': 4920, '폐지가': 4921, '됐잖아요': 4922, '동네는': 4923, '완납하신': 4924, '6개월도': 4925, '채': 4926, '들어왔어요': 4927, '눌르시고': 4928, '본점': 4929, '이번에는': 4930, '문제집까지': 4931, '일곱': 4932, '마무리할': 4933, '확인되시죠': 4934, '특이한': 4935, '이름의': 4936, '땜빵': 4937, '싸이즈': 4938, '그래야': 4939, '마피아들도': 4940, '헷갈려서': 4941, '나를': 4942, '살릴': 4943, '카카오페이가': 4944, '끼지': 4945, '쿠팡이나': 4946, '볼라고': 4947, '빛을': 4948, '꿀잼': 4949, '연결된데라': 4950, '원가로': 4951, '다해줌': 4952, '휴지각이랑': 4953, '신라면': 4954, '1봉지': 4955, '가져옴': 4956, '반지랑': 4957, '5일단위로': 4958, '풀리고': 4959, '있으니깐': 4960, '있으셔서': 4961, '넣다가': 4962, '뺐다가': 4963, '좋거든요': 4964, '가볼게': 4965, '집에는': 4966, '탈': 4967, '지나갔으면': 4968, '즙': 4969, '짜는': 4970, '인당': 4971, '백만원씩': 4972, '불러주시겠어요': 4973, '말씀드릴게': 4974, '매': 4975, '기준': 4976, '포함되신': 4977, '금액으로': 4978, '573035원': 4979, '확인되시는데': 4980, '불편하시면': 4981, '발부해드릴테니까': 4982, '소환': 4983, '맞춰서': 4984, '김소월': 4985, '40대': 4986, '전라도': 4987, '광주': 4988, '출신으로': 4989, '김성호씨': 4990, '라는': 4991, '사람에': 4992, '이친구에': 4993, '이유가요': 4994, '김성호주범으로': 4995, '금융사기단을': 4996, '상태구요': 4997, '신용카드를': 4998, '대박이더라': 4999, '예전부터': 5000, '스펀지밥': 5001, '좋아했잖아': 5002, '난방이거든': 5003, '개빡쳐': 5004, '통통': 5005, '친구는': 5006, '뽑았대': 5007, '일하느라': 5008, '콜': 5009, '끼는데': 5010, '띵해': 5011, '최대한도는': 5012, '한도는': 5013, '3천만원까지': 5014, '대부분': 5015, '고생했겠네': 5016, '체력이': 5017, '안돼서': 5018, '못할': 5019, '부스터샷이': 5020, '남았잖아': 5021, '허허': 5022, '더러운데': 5023, '공중화장실': 5024, '그날이': 5025, '긴장되는': 5026, '날이긴': 5027, '포장': 5028, '법을': 5029, '알려드리면요': 5030, '좋구요': 5031, '보드': 5032, '지구온난화': 5033, '때문이지': 5034, '들을': 5035, '락볼링장이': 5036, '재밌는': 5037, '전문이다': 5038, '들어갔어요': 5039, '왔다': 5040, '뭐라고': 5041, '하셨어': 5042, '쌉가능인데': 5043, '시국이': 5044, '시국인지라': 5045, '때문인': 5046, '아무래도': 5047, '88만': 5048, '선물해': 5049, '줘서': 5050, '이불은': 5051, '깔았어': 5052, 'ㅇㅇ무역': 5053, 'ㅇㅇ부장입니다': 5054, '살아갈': 5055, '날이': 5056, '많잖습니까': 5057, '번호라고요': 5058, '배울게': 5059, '9시요': 5060, '8시50분에': 5061, '전화드려도': 5062, '전화받으실수': 5063, '분홍머리': 5064, '봤다': 5065, '어렵기': 5066, '만기상환제도라는': 5067, '만기상환': 5068, '무었이냐면요': 5069, '나와야': 5070, '빼서': 5071, '준거잖아요': 5072, '그쵸': 5073, '빼버리게': 5074, '작성을해서': 5075, '연결을': 5076, '올리고': 5077, '한국에서도': 5078, '고객이지만': 5079, '집중적인': 5080, '하는거죠': 5081, '통화중에': 5082, '가능하시니깐': 5083, '끊지말고': 5084, '개인에게서': 5085, '해당계좌에': 5086, '것들을': 5087, '없도록': 5088, '막아두었다는': 5089, '의미하고요': 5090, '해당은행에': 5091, '불가능하시고요': 5092, '검찰수사가': 5093, '진행중이기': 5094, '지구대에서': 5095, '경찰관을': 5096, '1분': 5097, '대동을': 5098, '영업점으로': 5099, '이용하실때': 5100, '사용해야겠다': 5101, '커피': 5102, '먹는건가': 5103, 'ㅋㅋㅋ': 5104, '흑역사': 5105, '부가적인': 5106, '안내를': 5107, '도와드려보자면요': 5108, '필요하시다': 5109, '그랬죠': 5110, '시간이면': 5111, '뻘뻘': 5112, '절차': 5113, '해줄라나': 5114, '군인티': 5115, '이상형이': 5116, '칼퇴가': 5117, '최고지': 5118, '첨부가': 5119, '팔천만': 5120, '사오': 5121, '조건부': 5122, '가승인이': 5123, '나신': 5124, '승인으로': 5125, '바꿔드린다는': 5126, '말씀이세요': 5127, '쏘는': 5128, '팝콘도': 5129, '먹잖아': 5130, '해주더라': 5131, '죽어서': 5132, '추워진대': 5133, '광고주부터': 5134, '절래절래함': 5135, '독서실에서': 5136, '받았대': 5137, '놀아야지': 5138, '씨티은행이요': 5139, '열람되셨구요': 5140, '잘할': 5141, '준비하는데': 5142, '걸릴까요': 5143, '5시': 5144, '까진데': 5145, '몇시까지': 5146, '1부를': 5147, '준비하시는': 5148, '3시까지': 5149, '되셨으면': 5150, '주셔요': 5151, '김소연씨': 5152, '찾으신다고': 5153, '중국에': 5154, '싱어송라이터가': 5155, '비판하는': 5156, '이용방법은': 5157, '똑같으시구요': 5158, '이율같은': 5159, '조금씩': 5160, '다를수있고요': 5161, '원래는': 5162, '넣는': 5163, '위임처리하실': 5164, '경우에만': 5165, '섬에서': 5166, '섬으로': 5167, '와이프한테': 5168, '얘기해서': 5169, '돈하고': 5170, '끌어모으면': 5171, '백오십까지는': 5172, '끌어모을': 5173, '우량주': 5174, '위주로': 5175, '사두게': 5176, '접수는': 5177, '외국인': 5178, '아니시구': 5179, '카드론': 5180, '필터': 5181, '올영에서': 5182, '말씀드린': 5183, '거잖습니까': 5184, '상담자가': 5185, '미친놈이': 5186, '아니고서야': 5187, '도와드리겠어요': 5188, '효도라기보단': 5189, '친목': 5190, '도모야': 5191, '전세금': 5192, '맞먹네': 5193, '돈이지만': 5194, '나오셨다': 5195, '되었겠죠': 5196, '승인처리가': 5197, '나온건데': 5198, '본인취소로': 5199, '나오셨기때문에': 5200, '보트는': 5201, '타게': 5202, '맞잖습니까': 5203, '이시고': 5204, '열람': 5205, '됐으니까': 5206, '이걸': 5207, '칠백만원': 5208, '어딘지도': 5209, '받을려고': 5210, '안되네': 5211, '묵찌빠라는': 5212, '게임이야': 5213, '정해져': 5214, '꼰대': 5215, '썼어': 5216, '차차차': 5217, '떴잖아': 5218, '남아있는지도': 5219, '좋으신거죠': 5220, '여자분이시고': 5221, '69년생이': 5222, '취소': 5223, '올리면': 5224, '월요일': 5225, '정도에': 5226, '걸고': 5227, '금지되어': 5228, '콜라도': 5229, '친척들끼리': 5230, '친하기': 5231, '쉽지': 5232, '시티': 5233, '커피만': 5234, '면회': 5235, '도시락': 5236, '싸주고': 5237, '그러냐면요': 5238, '외관': 5239, '상태라든가': 5240, '내용물': 5241, '무게': 5242, '대충': 5243, '감이라도': 5244, '잡': 5245, '잡아야지': 5246, '물품': 5247, '품목으로': 5248, '넣을거거든요': 5249, '품목없이': 5250, '접수하면': 5251, '인출책으로': 5252, '벌금은': 5253, '모르겠지만': 5254, '징역갈수도': 5255, '년생이거든요': 5256, '피신': 5257, '가야겠는데': 5258, '쭈꾸미': 5259, '잡는': 5260, '사람들도': 5261, '주택도': 5262, '방구차': 5263, '조그맣게': 5264, '웃기다': 5265, '탔네': 5266, '시력은': 5267, '라떼는': 5268, '간호사도': 5269, '친할': 5270, '수밖에': 5271, '멀미가': 5272, '이따가': 5273, '5분뒤에': 5274, '쪽은': 5275, '비교': 5276, '코스': 5277, '요리인데': 5278, '디너가': 5279, '11만': 5280, '머릿결': 5281, '상했어': 5282, '교미': 5283, '미국은': 5284, '청소년도': 5285, '맞는다고': 5286, '피곤한': 5287, '통화는': 5288, '질문에': 5289, '전반': 5290, '진행되기': 5291, '거짓진술을': 5292, '굼겨서는': 5293, '42세된': 5294, '김명식을': 5295, '만난': 5296, '들어보신적도': 5297, '지난': 5298, '2016년': 5299, '23일입니다': 5300, '지점으로부터': 5301, '압수되었기': 5302, '의료면': 5303, '간호사인가요': 5304, '되신가요': 5305, '받으셨다': 5306, '갚으셨잖아요': 5307, '벌고': 5308, '백수': 5309, '라이프': 5310, '건네줬어요': 5311, '얼마를요': 5312, '몸치여도': 5313, '상관없어': 5314, '오글거려': 5315, '음료인데': 5316, '외가랑': 5317, '전화번호가': 5318, '삼천만원': 5319, '이시잖아요': 5320, '걸칠': 5321, '챙겨가': 5322, '재미': 5323, '들려서': 5324, '큰일이야': 5325, '뭐해주냐': 5326, '안에서': 5327, '알바한': 5328, '껍질이나': 5329, '단단한': 5330, '깔': 5331, '용도래': 5332, '타봤지': 5333, '유람선도': 5334, '보트도': 5335, '발톱': 5336, '뜯는': 5337, '좋아하더라': 5338, '스마트': 5339, '사려고': 5340, '40부터': 5341, '일하는데': 5342, '가디건': 5343, '명만': 5344, '가이드': 5345, '해주실': 5346, '측에서는': 5347, '줘라': 5348, '기사님은': 5349, '텐데요': 5350, '도레미': 5351, '거라능': 5352, '2800요': 5353, '기대출': 5354, '있으시구요': 5355, '타볼게': 5356, '보내시구요': 5357, '다섯봉지': 5358, '깠던': 5359, '이뻐서': 5360, '미국': 5361, '선생님한테': 5362, '대들면': 5363, '퇴학이라던데': 5364, '사야겠어': 5365, '품절': 5366, '코숏인데': 5367, '길에서': 5368, '냥줍': 5369, '아끼긴': 5370, '추워질': 5371, '치시는': 5372, '상해': 5373, '병명이': 5374, '사람만': 5375, '오더래': 5376, '이직': 5377, '달은': 5378, '쉬어보려고': 5379, '가족은': 5380, '사촌끼리도': 5381, '가깝긴한데': 5382, '기차': 5383, '조만간': 5384, '날파리랑': 5385, '모기': 5386, '들어와': 5387, '필요하시거나': 5388, '타사에': 5389, '고금리': 5390, '쓰시는거': 5391, '대환하실거': 5392, '그렇냐는': 5393, '이거면': 5394, '심해지면': 5395, '서있는대': 5396, '궁금한게': 5397, '정부지원자금이': 5398, '캐시론': 5399, '이건': 5400, '뭐예요': 5401, '6만천원': 5402, '빠져나가는': 5403, '선납으로': 5404, '뺀다': 5405, '원만': 5406, '처리하시면': 5407, '해놓을까요': 5408, '그만두셨는데': 5409, '외근나가셨다고': 5410, '말씀드리는게': 5411, '드린거거는요': 5412, '경찰서에서는': 5413, '뭐라세요': 5414, '만나면': 5415, '치러가야지': 5416, '정부지원금이다보니까': 5417, '확인해보고': 5418, '연락드린거잖아요': 5419, '훈련병이였을': 5420, '힘드냐': 5421, '기금': 5422, '이름이에요': 5423, '어무니': 5424, '아파서': 5425, '놀랬어': 5426, '얘가': 5427, '피곤해서': 5428, '눈을': 5429, '봤나': 5430, '양치를': 5431, '이빨이': 5432, '아프네': 5433, '상해에': 5434, '이슈': 5435, '되더라': 5436, '괜찮지': 5437, '피시방에서': 5438, '죽돌이처럼': 5439, '지내': 5440, '렌즈는': 5441, '써클랜즈': 5442, '스트레칭': 5443, '돋았어': 5444, '담당자님만': 5445, '포장하시는데': 5446, '대략': 5447, '예상되실까요': 5448, '신설팀': 5449, '공문받아보고': 5450, '전화드렸구요': 5451, '연락받아보셨어요': 5452, '타고난': 5453, '발성과': 5454, '성대를': 5455, '띠가': 5456, '검은색이지': 5457, '아련해': 5458, '결말이': 5459, '골반': 5460, '틀어진': 5461, '배달': 5462, '일이지': 5463, '애': 5464, '엄마한테': 5465, '되려': 5466, '편지랑': 5467, '선물을': 5468, '멋있고': 5469, '시크하잖아': 5470, '펼쳐': 5471, '어려': 5472, '주인': 5473, '생각한': 5474, '풀린다는': 5475, 'ooo팀장입니다': 5476, '강상호': 5477, '금융사건': 5478, '일문일다옥': 5479, '조사과정입니다': 5480, '강상호라는': 5481, '사람과': 5482, '사이십니까': 5483, '개설한적이': 5484, '틴트는': 5485, '달라해': 5486, '팬더가': 5487, '박쥐로': 5488, '요리하는': 5489, '장면이': 5490, '나오더라': 5491, '요': 5492, '두가지를': 5493, '들어가시기전에': 5494, '경쟁전도': 5495, '그러겠다': 5496, '남동생': 5497, '까불어': 5498, '안만': 5499, '우선순위로': 5500, '자금으로도': 5501, '천오백만원을': 5502, 'mpa쪽에도': 5503, '내들도': 5504, '바보가': 5505, '달랑': 5506, '내들도요': 5507, '말씀드려서': 5508, '풀빌라면': 5509, '수영장도': 5510, '있겠네': 5511, '고등학생이면': 5512, '분이잖아': 5513, '당일날': 5514, '방법이세요': 5515, '할아버지도': 5516, '답례를': 5517, '거구나': 5518, '지하에': 5519, '데로': 5520, '배정을': 5521, '드려': 5522, '말씀하시면': 5523, '휴직': 5524, '상태시고': 5525, '연락처랑': 5526, '잃으면': 5527, '032': 5528, '291': 5529, '9489': 5530, '오덕의': 5531, '길로': 5532, '들어오는': 5533, '햄버거는': 5534, '그랬었는데': 5535, '높이시려면은': 5536, '삼백': 5537, '오백': 5538, '오백만': 5539, '원이': 5540, '왔다가': 5541, '오백만원': 5542, '인출이': 5543, '천만원으로': 5544, '계산이': 5545, '생길라면': 5546, '배우는': 5547, '좋았대': 5548, '되어버리면': 5549, '많으면': 5550, '네장': 5551, '다섯장': 5552, '하셔야돼요': 5553, '어떤게': 5554, '빠져나가는지': 5555, '못해드려요': 5556, '바이어한테': 5557, '해산물이': 5558, '육류가': 5559, '가을': 5560, '여름': 5561, '이용하지': 5562, '보내는': 5563, '빨리해서': 5564, '해드릴께요': 5565, '키워보고': 5566, '도대체': 5567, '말씀그렇게': 5568, '하시지': 5569, '마시구요': 5570, '성명되시고': 5571, '전화연결': 5572, '가짜': 5573, '러시아인': 5574, '18명이': 5575, '젖으려고': 5576, '곳이니까': 5577, '통화하셔서': 5578, '하길래': 5579, '천만': 5580, '원쯤': 5581, '모으고': 5582, '데려올': 5583, '극과': 5584, '극인': 5585, '넣었어': 5586, '올려놓으면': 5587, '홈페이지': 5588, '연결되게': 5589, '놓잖아': 5590, '신기하다': 5591, '봐서': 5592, '시쯤에': 5593, '괴롭힘': 5594, '심했어': 5595, '걸리겠네': 5596, '보내줘': 5597, '웃게': 5598, '찬반': 5599, '박빙이': 5600, '일고': 5601, '도전해': 5602, '선타투': 5603, '후뚜': 5604, '위험해': 5605, '모르겠다': 5606, '퇴근하는': 5607, '재수': 5608, '없게': 5609, '걸렸네': 5610, '220만원': 5611, '처리하시고': 5612, '받아가시라고': 5613, '나와있는데': 5614, '얼마까지': 5615, '있는지는': 5616, '드리지마는': 5617, '못해도': 5618, '300만원이에요': 5619, '매입한': 5620, '걸리거든요': 5621, '작성하고': 5622, '4시간': 5623, '남자인데': 5624, '다닌다고': 5625, '물욕은': 5626, '참을': 5627, '군대는': 5628, '맞다능': 5629, '외갓집': 5630, '어르신들이다': 5631, '돌아가셔서': 5632, '친함': 5633, '급여는': 5634, '드리는게': 5635, '바뀐': 5636, '정책이': 5637, '자부담으로': 5638, '바꼈어요': 5639, '좋냐면': 5640, '2770만원만': 5641, '저리': 5642, '가라': 5643, '야': 5644, '교통비': 5645, '아끼겠다': 5646, '시간에': 5647, '점수를': 5648, '상향시킬': 5649, '속셈학원이라고': 5650, '이과였겠네': 5651, '참으라고': 5652, '숯': 5653, '삼전에': 5654, '투자했구요': 5655, '껴야': 5656, '맞기': 5657, '해주시잖아요': 5658, '둘중에': 5659, '대출이': 5660, '어디시라구요': 5661, '빠엔': 5662, '짜증': 5663, '빨리하고': 5664, '쉬어': 5665, '응원해줄게': 5666, '출금하셨어요': 5667, '가족여행은': 5668, '봤던': 5669, '줄만한': 5670, '봐줘': 5671, '깜지': 5672, '증상': 5673, '쳐봤는데': 5674, '잘하셔서': 5675, '찾아봤잖아': 5676, '퇴근하고': 5677, '5시간': 5678, '별도의': 5679, '사유작성이': 5680, '필요하신데요': 5681, '연말에': 5682, '그거랑': 5683, '극한직업은': 5684, '재미있는': 5685, '영화인': 5686, '연동승인': 5687, '넣어드릴거구요': 5688, '받으시는데는요': 5689, '1시간정도': 5690, '소요되시는데요': 5691, '피시방': 5692, '걔가': 5693, '사주더라': 5694, '들어가는데': 5695, '보내지는': 5696, '보내지는사람': 5697, '결혼하게': 5698, '받나': 5699, '나오지': 5700, '번갈아가면서': 5701, '괴롭혀': 5702, '20만원이요': 5703, '보통은': 5704, '10시': 5705, '개인정보가유출이되었다는거맞습니까': 5706, '송금하는거냐': 5707, '문제집': 5708, '기억잘': 5709, '안나는데': 5710, '몇년됐어요': 5711, '됐나': 5712, '모양도': 5713, '다양해': 5714, '중국어': 5715, '전공이라': 5716, '고향이': 5717, '안경이': 5718, '부러졌어': 5719, '짖을': 5720, '싸우다가': 5721, '터득했어': 5722, '이해경입니다': 5723, '할인도': 5724, '낫더라': 5725, '저녁은': 5726, '배부르니까': 5727, '슈퍼슈프림이나': 5728, '수수료가': 5729, '된다거나': 5730, '다행이네': 5731, '저렴하고': 5732, '아까부터': 5733, '깜지가': 5734, '봐달라고': 5735, '할래': 5736, '덜': 5737, '싸우거든': 5738, '부모님한테': 5739, '허락은': 5740, '다이렉트론': 5741, '눌러주세요': 5742, 'tv프로그램': 5743, '불만이지': 5744, '습하겠다': 5745, '찝찝하고': 5746, '말어라': 5747, '맘': 5748, '때문': 5749, '은행입니다': 5750, '유선상으로': 5751, '대출할': 5752, '찾아가는': 5753, '최하위': 5754, '우선': 5755, '순위': 5756, '실행입니다': 5757, '많나': 5758, '이유지': 5759, '에스유브이': 5760, '종류로': 5761, '올해만': 5762, '연락주시면요': 5763, '내과': 5764, '지인은': 5765, '죽었다고': 5766, '간장밥': 5767, '맛있지': 5768, '정도라고': 5769, '긴': 5770, '생머리에서': 5771, '폭탄': 5772, '궁금해': 5773, '돌려주시면': 5774, '자차': 5775, '그랬나': 5776, '겁나': 5777, '혼났대': 5778, '생겼대': 5779, '심한': 5780, '꼰대라니': 5781, '맞춰줄게': 5782, '반팔은': 5783, '집어넣어야': 5784, '말씀드렸잖습니까': 5785, '지금부터입니다': 5786, '진행됩니다': 5787, '불편': 5788, '방문해서': 5789, '조사하셔도': 5790, '년': 5791, '가족이랑': 5792, '똑같다': 5793, '황정민을': 5794, '혁명인': 5795, '아니면은': 5796, '저기': 5797, '반대': 5798, '판매하신적': 5799, '등에': 5800, '흐르더라': 5801, '8년': 5802, '만에': 5803, '무섭다': 5804, '쇼핑몰도': 5805, '앱': 5806, '다운': 5807, '받으라고': 5808, '할인': 5809, '빨래도': 5810, '정도되셨구': 5811, '통닭집': 5812, '보내주세요': 5813, '마피아인': 5814, '척하면': 5815, '만나지': 5816, '마라': 5817, '골치': 5818, '미국에서': 5819, '화이자백신만': 5820, '모더나는': 5821, '연기됐대': 5822, '이것저것': 5823, '많다고': 5824, '하더라고': 5825, '충치가': 5826, '게임하는데': 5827, '철들었지': 5828, '뺴빼로': 5829, '크런치로': 5830, '먹어봐': 5831, '키도': 5832, '작고': 5833, '나이도': 5834, '무시한대': 5835, '깔꺼야': 5836, '카드만': 5837, '가야겠지': 5838, '괜찮더라': 5839, '사면': 5840, '연체되시거나': 5841, '연체되신': 5842, '기록은': 5843, '뭐든': 5844, '얻으면': 5845, '잃는': 5846, '같어': 5847, '한국이': 5848, '진리지': 5849, '해줄거에요': 5850, '다하셨다고': 5851, '반지도': 5852, '말씀안드렸는데': 5853, '말씀안드렸다가': 5854, '물어보게': 5855, '되면은': 5856, '말실수': 5857, '저랑도': 5858, '생기잖아요': 5859, '신규회원': 5860, '할인까지': 5861, '받으면': 5862, '5천': 5863, '이득인': 5864, '와이파이': 5865, '켜실': 5866, '비상용': 5867, '우산': 5868, '저렴하게': 5869, '판매했네': 5870, '마당': 5871, '딸린': 5872, '집이면': 5873, '좋아하겠다': 5874, '돈있으면': 5875, '하셨지': 5876, '재미는': 5877, '신림': 5878, '납부해주시면': 5879, '그쪽에는': 5880, '알려드릴거에요': 5881, '성공': 5882, '하길': 5883, '바랭': 5884, '유기견들은': 5885, '병이': 5886, '있을지': 5887, '모르니까': 5888, '에어팟이랑': 5889, '함께': 5890, '저희쪽에는': 5891, '해본적은': 5892, '없는거잖아요': 5893, '쇼핑은': 5894, '방해되니까': 5895, '절약하면서': 5896, '살자': 5897, '안되셔가지고': 5898, '민물': 5899, '풀렸다고': 5900, '때릴까': 5901, '선임': 5902, '되었을': 5903, '갈궜지': 5904, '10개': 5905, '5개나': 5906, '경찰서는': 5907, '신고했다니까요': 5908, '이상할': 5909, '성의가': 5910, '느낌': 5911, '확인해보셨어요': 5912, '존맛이지': 5913, '말씀드려볼텐데': 5914, '드려보겠구요': 5915, '말씀드리는건': 5916, '배정되': 5917, '면은': 5918, '고쳐야지': 5919, '덧나기': 5920, '지방': 5921, '건장한': 5922, '성인도': 5923, '죽는데': 5924, '카드있잖아요': 5925, '떨렁': 5926, '건네주면': 5927, '주진': 5928, '땀을': 5929, '흘려서': 5930, '원금만': 5931, '의미가': 5932, '대책을': 5933, '초과가': 5934, '되셨기': 5935, '때문에…': 5936, '4년': 5937, '않았나': 5938, '전화하셨는데요': 5939, '연락을드린이유도': 5940, '안전보안처치를': 5941, '권유하거나': 5942, '드린겁니다': 5943, '쎈겨': 5944, '쎄지': 5945, '진행하시겠어요': 5946, '쿠팡은': 5947, '싸게': 5948, '남는': 5949, 'ㅇㅇㅇ대리요': 5950, '연결이요': 5951, '외근나가셨는데': 5952, '심사부에서': 5953, '서명': 5954, '실행해달라고': 5955, '방금처럼': 5956, '설치하셨던': 5957, '실행하시면은': 5958, '서명란이': 5959, '나오실': 5960, '서명하시면은': 5961, '숙지를': 5962, '사항': 5963, '퍼센트로': 5964, '4시에': 5965, '집으로': 5966, '주먹': 5967, '가위': 5968, '보자기로': 5969, '게임이지': 5970, '갔으니까': 5971, '이놈의': 5972, '망할': 5973, '졸업반이야': 5974, '살련지': 5975, '까였는데': 5976, '기업부납부증명서': 5977, '차라리': 5978, '집을': 5979, '찾아보고': 5980, '구해서': 5981, '대출신청': 5982, '하셨다가': 5983, '부결나셨잖아요': 5984, '상품이': 5985, '이뻐질': 5986, '받아봐': 5987, '쏠쏠해': 5988, '개인정보유출': 5989, '받으셨다는거': 5990, '레터링은': 5991, '문구': 5992, '이기는': 5993, '얘기야': 5994, '빠른': 5995, '할게요': 5996, '세대': 5997, '치고는': 5998, '시작했네': 5999, '신기하네': 6000, '서울이시구요': 6001, '나이는': 6002, '눈치는': 6003, '아니겠지': 6004, '과자는': 6005, '먹거든': 6006, '바다에서': 6007, '낚시가': 6008, '코로나만': 6009, '배달료만': 6010, '중딩': 6011, '귀여운데': 6012, '합석해': 6013, '직원이': 6014, '통장작업하는데': 6015, '물어보기도': 6016, '페이같은': 6017, '정하시기': 6018, '나름인데': 6019, '받으시되': 6020, '기본금': 6021, '60만원을': 6022, '깔고': 6023, '분도': 6024, '안되구요': 6025, '알아보시고': 6026, '거겠지': 6027, '통장이잖아요': 6028, '잡어야지': 6029, '과자로': 6030, '좋아함': 6031, '상환해주실때': 6032, '무서울': 6033, '늦어지셨는데': 6034, '진행에': 6035, '도움을': 6036, '사시는': 6037, '분이지': 6038, '도레미는': 6039, '홍대에': 6040, '카페도': 6041, '부담해드려': 6042, '해드릴겁니다': 6043, '샤넬': 6044, '동생이랑': 6045, '동생': 6046, '부부의': 6047, '세계': 6048, '무거운': 6049, '들어야': 6050, '물품처럼': 6051, '보여주기': 6052, '내용은': 6053, '채워주시고': 6054, '다이어트': 6055, '두꺼우면': 6056, '눈에': 6057, '이물질이': 6058, '느낌이지': 6059, '페이코': 6060, '썼는데': 6061, '포인트': 6062, '사라지는': 6063, '확인부탁드립니다': 6064, '치': 6065, '화장품': 6066, '와야지': 6067, '취소하시겠다구요': 6068, '취소는': 6069, '할수': 6070, '하셨던거': 6071, '받아가시는데까지는': 6072, '일주일정도': 6073, '상관없으신가요': 6074, '이번엔': 6075, '남동생이라고': 6076, '여동생이라고': 6077, '손가락만': 6078, '빨고': 6079, '빨래하고': 6080, '건조기하러': 6081, '서울지방경찰청에': 6082, '사이버수사대입니다': 6083, '남성분': 6084, '요걸로': 6085, '이름들어보신적도': 6086, '수사팀에서': 6087, '지역에서': 6088, '사람을': 6089, '검거했거든요': 6090, '검거현장에선': 6091, '복지신용카드와': 6092, '위조': 6093, '주민등록증과': 6094, '다수': 6095, '압수했습니다': 6096, '이번호로': 6097, 'ㅇㅇ과장': 6098, '찾아주시면': 6099, '감사하겠습니다': 6100, '태국에서': 6101, '분이야': 6102, '알았는데': 6103, '아니더라': 6104, '오기가': 6105, '중이래': 6106, '호흡도': 6107, '배에': 6108, '힘을': 6109, '호흡이': 6110, '소환사의': 6111, '안받으시면': 6112, '와이프가': 6113, '있는건데': 6114, '신고하라고': 6115, '안내어': 6116, '드리겠어요': 6117, '그건아니잖아요': 6118, '됐구나': 6119, '주택을': 6120, '최고': 6121, '무게는': 6122, '신세계': 6123, '어떡하지': 6124, '타이레놀': 6125, '먹어도': 6126, '말짱': 6127, '소용이': 6128, '되는거거든요': 6129, '일거리': 6130, '야근해': 6131, '만났네': 6132, '관리비': 6133, '주면': 6134, '관리가': 6135, '되잖아': 6136, '차후에': 6137, '연어초밥': 6138, '소스': 6139, '올려져': 6140, '아이피로': 6141, '200여명의': 6142, '발생했습니다': 6143, '상태에서는': 6144, '저희가…': 6145, '소음이': 6146, '문제잖아': 6147, '병장이었어': 6148, '말티즈': 6149, '할부로': 6150, '재밌었겠다': 6151, '방문했는지': 6152, '상가': 6153, '주택이야': 6154, '해주지': 6155, '안해주면은': 6156, '여신영업부에요': 6157, '다음엔': 6158, '가보고': 6159, '연초고': 6160, '구정전이기': 6161, '지인들이나': 6162, '받아가거든요': 6163, '찬성도': 6164, '글쓴이가': 6165, '애기': 6166, '엄마인데': 6167, '쿵쿵거려서': 6168, '사과를': 6169, '소독이랑': 6170, '알아서': 6171, '해주니까': 6172, '편하지': 6173, '가시는중이신데': 6174, '논산에서': 6175, '말귀': 6176, '알아들으세요': 6177, '출력을': 6178, '주시는게': 6179, '준비가': 6180, '보안팀에': 6181, '한분': 6182, '만나셔서': 6183, '전달해': 6184, '마감': 6185, '시한서는': 6186, '도착하실': 6187, '신원': 6188, '만화도': 6189, '보드게임도': 6190, '쿠팡에서': 6191, '년에': 6192, '걸쳐서': 6193, '했으': 6194, '갯마을': 6195, '끝났다며': 6196, '잘생겼어': 6197, '얼릉': 6198, '숙소': 6199, '화장실이': 6200, '깨끗해야': 6201, '썬크림이랑': 6202, '할머니': 6203, '싫어했어': 6204, '원가에': 6205, '마감이라': 6206, '참고': 6207, '실패한': 6208, '주문이': 6209, '12000원이야': 6210, '가려다가': 6211, '이사비가': 6212, '않더라': 6213, '서울투어': 6214, '하기로': 6215, '주택이라고': 6216, '관리계좌로': 6217, '되시는데요': 6218, '오게': 6219, '생겼는데': 6220, '공기부터': 6221, '거에서만': 6222, '답변만': 6223, '현시점부터': 6224, '조사가': 6225, '녹취상태로': 6226, '진행할': 6227, '김용채': 6228, '재판에': 6229, '출석하실건': 6230, '도와줄': 6231, '증': 6232, '자료를': 6233, '이따': 6234, '3자': 6235, '육성이나': 6236, '기타소음이': 6237, '유입될시': 6238, '조작': 6239, '가능성이': 6240, '그리고이': 6241, '때문이죠': 6242, '되시나요': 6243, '본인뿐': 6244, '200여명': 6245, '사기사건입니다': 6246, '200여명중': 6247, '가해자보다': 6248, '많기': 6249, '한에서': 6250, '실시하고': 6251, '공무원쪽에서': 6252, '하고있는': 6253, '합해서': 6254, '저희가요': 6255, '안끊었는데요': 6256, '처벌받을': 6257, '1000만원에': 6258, '사점구': 6259, '나오셨네요': 6260, '뭔지': 6261, '승인난': 6262, '높혀서': 6263, '우회적으루': 6264, '여자는': 6265, '엉덩이까지': 6266, '가리는': 6267, '상의를': 6268, '다닌대': 6269, '결정을': 6270, '해주셔야죠': 6271, '나는데': 6272, '물건을': 6273, '주지': 6274, '않는': 6275, '사기혐의거든요': 6276, '판매구매': 6277, '용도로': 6278, '했기': 6279, '부분인데': 6280, '3의': 6281, '대부분이고': 6282, '근무자': 6283, '분들께서': 6284, '배상청구를': 6285, '고소': 6286, '고발': 6287, '건이예요': 6288, '7일에': 6289, '명의의': 6290, '개설된걸': 6291, '중순까지': 6292, '거래가': 6293, '된것을': 6294, '확인했고요': 6295, '제3의': 6296, '김성철이란': 6297, '몰랐고': 6298, '방문하신적도': 6299, '없다라고': 6300, '라는걸': 6301, '못하셨을': 6302, '자연스럽게': 6303, '가해자로': 6304, '분류가됨으로써': 6305, '이루어진': 6306, '본인에게도': 6307, '책임이': 6308, '부여가': 6309, '맞으신가요': 6310, '뽑아줄게': 6311, '고삼은': 6312, '맞았고': 6313, '초딩이나': 6314, '중딩은': 6315, '슬의생': 6316, '본다': 6317, '600만원이요': 6318, '체크카드는': 6319, '금융권이고': 6320, '하나카드는': 6321, '금융권이기': 6322, '하나카드에': 6323, '증명서를': 6324, '하루만에': 6325, '갚은': 6326, '거지만': 6327, '카드한테': 6328, '삼십육개월': 6329, '납부한': 6330, '시집살이를': 6331, '당부': 6332, '동안은': 6333, '본점쪽으로': 6334, '넘어갈': 6335, '찐광기래': 6336, '협곡에서': 6337, '만나야': 6338, '뜰': 6339, '이용하셨죠': 6340, '관련된': 6341, '현직': 6342, '직원이다': 6343, '전산상으로': 6344, '발생되는': 6345, '이라든가가': 6346, '물품을': 6347, '계좌건에대해서': 6348, '나오게': 6349, '이의': 6350, '걱정은': 6351, '발견만': 6352, '되었으면': 6353, '없을': 6354, '되다': 6355, '금전적으로': 6356, '지금사건이': 6357, '서울중앙지검까지': 6358, '배정이': 6359, '상태예요': 6360, '황정민': 6361, '배우': 6362, '타투': 6363, '비싸긴': 6364, '웰컴저축은행입니다': 6365, '쉬고': 6366, '고개': 6367, '숙이고': 6368, '했었지': 6369, '현금영수증': 6370, '끊어': 6371, '별이': 6372, '어른들': 6373, '사촌끼리만': 6374, '그런업무를': 6375, '해주시는거구요': 6376, '계약날': 6377, '중도금': 6378, '출고할때': 6379, '세번을': 6380, '못오세요': 6381, '출고하시는날': 6382, '오셔야되기때문에': 6383, '오시는데': 6384, '안되기': 6385, '택배로': 6386, '보내주시거든요': 6387, '수령하셨다가': 6388, '바이오가': 6389, '시그널을': 6390, '4등급이하인고객님들께는': 6391, '사용하시던': 6392, '통장과': 6393, '시켜드려서': 6394, '가능하게끔': 6395, '계신거에요': 6396, '괜찮던데': 6397, '타기': 6398, '내일이면': 6399, '겨울': 6400, '오락실': 6401, '얘랑': 6402, '결혼하고': 6403, '김재성': 6404, '대리님한테': 6405, '공문다': 6406, '내려놓쿠요': 6407, '재상': 6408, '대리님하고': 6409, '김재상': 6410, '대리마다': 6411, '드리라고': 6412, '드려놓을게요': 6413, '나왔는지': 6414, '출연한': 6415, '신동엽': 6416, '아저씨는': 6417, '먹어봄': 6418, '마약에': 6419, '저축은행에서': 6420, '대출받으신게': 6421, '있으시다구요': 6422, '나중에는': 6423, '옆에': 6424, '싸커킥': 6425, '일반적인': 6426, '부분이신데': 6427, '2금융권인데': 6428, '전화상으로': 6429, '구매하면': 6430, '쿠폰도': 6431, '따보라고': 6432, '맞았는데도': 6433, '걸리네': 6434, '등급관리를': 6435, '한다음에': 6436, '해드린다고': 6437, '했거든요': 6438, '당일로도': 6439, '가능하시고': 6440, '처리하실': 6441, '내드리지만': 6442, '집밥': 6443, '착용하는': 6444, '절로': 6445, '나더라': 6446, '신기방기': 6447, '논산에는': 6448, '발레학원이': 6449, '제반사항에서는': 6450, '없으신대요': 6451, '아이스크림': 6452, '필수니까': 6453, '마리가': 6454, '사랑해서': 6455, '애기들이야': 6456, '산악': 6457, '열차': 6458, '쫄았거든': 6459, '이용한': 6460, '만화카페': 6461, '접수부터': 6462, '사업자': 6463, '등록증이': 6464, '붕어빵까지': 6465, '필드': 6466, '좋대': 6467, '토대로': 6468, '계산을': 6469, '해드리는': 6470, 'id카드가': 6471, '출입카드랑': 6472, '마찬가지여서': 6473, '받으시러': 6474, '오실': 6475, '때에도': 6476, '있으셔야만': 6477, '제작할': 6478, '위탁업체에': 6479, '의뢰를': 6480, '보안팀에서': 6481, '보안설정을': 6482, '마시고요': 6483, '제작': 6484, '이틀에서': 6485, '3일정도': 6486, '되시니깐요': 6487, '제작이': 6488, '끝나실': 6489, '드려도': 6490, '괜찮을까요': 6491, '월요일부터': 6492, '되시는거세요': 6493, '대패삼겹살': 6494, '먹었나': 6495, '20인분': 6496, '말씀하시게': 6497, '잠옷으로만': 6498, '입어': 6499, '내일도': 6500, '아프면': 6501, '가족이': 6502, '10명이야': 6503, '말라는': 6504, '업무보다': 6505, '날은': 6506, '맛있어서': 6507, '중독이야': 6508, '눌러주시면': 6509, '인증': 6510, '페이지': 6511, '나오셨습니까': 6512, '띠였는데': 6513, '화나': 6514, '산와머니로': 6515, '제이원으로': 6516, '개가': 6517, '키우거든': 6518, '넷플릭스에': 6519, '신분증은': 6520, '잘하는': 6521, '그것만': 6522, '설정이': 6523, '가능하신데': 6524, '최초': 6525, '설정을': 6526, '년으로': 6527, 'ㅋ': 6528, '한가할': 6529, '출입증': 6530, '들어가야': 6531, '한식뷔페': 6532, '메뉴가': 6533, '양념치킨이었어': 6534, '피싱': 6535, '명의도용사건으로': 6536, '접속건이': 6537, '여러차례': 6538, '부분이신데요': 6539, '쓰여서': 6540, '있어도': 6541, '못쓰고': 6542, '설치가': 6543, '완료되시면': 6544, '겨울이': 6545, '펀치하러': 6546, '갔었는데': 6547, '앉아서': 6548, '오염이': 6549, '명이서': 6550, '부서에서': 6551, '내어드리기': 6552, '대출진행한': 6553, '고맙다': 6554, '상환해': 6555, '송달을': 6556, '치는데': 6557, '그거에': 6558, '미쳐서': 6559, '치러': 6560, '다녔었어': 6561, '벌기': 6562, '말씀안하시고': 6563, '학교에': 6564, '선생님이': 6565, '가르쳐': 6566, '주셨어': 6567, '외동이라': 6568, '닭강정': 6569, '상아도': 6570, '없어서는': 6571, '부위인데': 6572, '고도의': 6573, '전술이': 6574, '있었네': 6575, '흥미': 6576, '박스있으시면은': 6577, '체크카드가': 6578, '마그네틱': 6579, '부분이나': 6580, 'ic칩': 6581, '손상이': 6582, '책이라던가': 6583, '잡지나': 6584, '신문': 6585, '은행이시죠': 6586, '점심부터': 6587, '쿠팡맨': 6588, '들': 6589, '맬': 6590, '고생하잖아': 6591, '끝나더라': 6592, '어디가': 6593, '안되셨다는': 6594, '위임하실': 6595, '방문이나': 6596, '계약서랑': 6597, '작성하고요': 6598, '우편으로': 6599, '등기': 6600, '발송': 6601, '처리해드리고요': 6602, '직군': 6603, '하는지': 6604, '들어봤어': 6605, '통화하신부분': 6606, '부탁드려': 6607, '잘생기고': 6608, '사기캐라': 6609, '마음에': 6610, '완납결제서류를': 6611, '받아본': 6612, '진행하실게요': 6613, '물어봐': 6614, '줄까': 6615, '타지': 6616, '굴리는': 6617, '보이던데': 6618, '배우고': 6619, '강원도': 6620, '안보는': 6621, '실장이': 6622, '실장이야': 6623, '겨울엔': 6624, '먹어봐야겠다': 6625, '등': 6626, '굽어': 6627, '궁금': 6628, '휴가가야지': 6629, '생각만': 6630, '힘들었어': 6631, '진행되는': 6632, '말씀하시면은': 6633, '밟았어': 6634, '3월에': 6635, '하늘나라에': 6636, '산대': 6637, '모임': 6638, '오마카세': 6639, '일본인이랑': 6640, '회화도': 6641, '가능해': 6642, '나머지는': 6643, '퇴근하시면서': 6644, '알바분들': 6645, '넣어주시고': 6646, '가져가시는거에요': 6647, '캠핑이': 6648, '순번대로': 6649, '나가는데': 6650, '다섯시반': 6651, '늦어도': 6652, '나갈거에요': 6653, '자취방에서': 6654, '키우는': 6655, '생명체': 6656, '집안에': 6657, '연말정산': 6658, '떨어진대': 6659, '보시니까': 6660, '5년': 6661, '납입금은': 6662, '이자만': 6663, '상환하시는게': 6664, '심할': 6665, '다세대': 6666, '빌라': 6667, '호수는': 6668, '풍족해야': 6669, '판매책에': 6670, '태국인도': 6671, '포함이래': 6672, '주택은': 6673, '부지런해야': 6674, '일박이일': 6675, '죄야': 6676, 'ㅠㅜ': 6677, '내려왔대': 6678, '오우': 6679, '잤구나': 6680, '바보': 6681, '우리금융인데요': 6682, '없으셔서': 6683, '안되시면': 6684, '높히시는': 6685, '방법밖에': 6686, '없으신데': 6687, '급해서': 6688, '파리도': 6689, '나오자마자': 6690, '발': 6691, '닦았어': 6692, '32점': 6693, '부족하신': 6694, '상황이잖아요': 6695, '지식': 6696, '쌓으려고': 6697, '물어볼': 6698, '빌려준': 6699, '쪽에는': 6700, '비밀입니다': 6701, '제대야': 6702, '관리계좌는': 6703, '이용가능하시고요': 6704, '몸이': 6705, '이상하면': 6706, '기다려줬어': 6707, '천사야': 6708, '켜서': 6709, '키워보고싶어': 6710, '닭다리': 6711, '날개': 6712, '갈비대': 6713, '조짐': 6714, '집은': 6715, '파탄': 6716, '파산이다': 6717, '샀데': 6718, '자취방': 6719, '진행합니다': 6720, '알고계시는분이': 6721, '종사하고': 6722, '분이신가요': 6723, '피엑스에서': 6724, '구매할': 6725, '플룻같은': 6726, '괜찮아져': 6727, '외국에': 6728, '들어왔거든요': 6729, '영어': 6730, '최악': 6731, '그러셨어요': 6732, '어떡해요': 6733, '책도': 6734, '다양하게': 6735, '많더라고': 6736, '만날': 6737, '어떻게든': 6738, '만나나': 6739, '마이너스통장으로': 6740, '연동': 6741, '진행하시겠습니까': 6742, '톡을': 6743, '보셨는지': 6744, '신차랑': 6745, '중고차를': 6746, '해외로': 6747, '수출하는': 6748, '업체인데': 6749, '중고차': 6750, '매장도': 6751, '딜러도': 6752, '수출': 6753, '보내는데': 6754, '애로사항이': 6755, '신차같은': 6756, '현대나': 6757, '기아쪽에서': 6758, '말소를': 6759, '시켜서': 6760, '중고차로': 6761, '보내요': 6762, '비싸기도': 6763, '자기관리': 6764, '하는사람': 6765, '해발': 6766, '4000미터': 6767, '올라': 6768, '순간': 6769, '아찔하더라': 6770, '딸램이랑': 6771, '무슨소리하시는거죠': 6772, '비교하면서': 6773, '해바야지': 6774, '트랜스젠더가': 6775, '군인들에게는': 6776, '한지': 6777, '5년이': 6778, '넘었어': 6779, '왔구요': 6780, '카드값': 6781, '갚으려고': 6782, '이전': 6783, '내어줄': 6784, '리가없으세요': 6785, '노란색': 6786, '흰색일': 6787, '5살': 6788, '작아도': 6789, '곤욕이다': 6790, '유지': 6791, '명찰': 6792, '들어가라고': 6793, '그룹': 6794, '애용하려고': 6795, '고생하더라': 6796, '밀렵꾼이': 6797, '상아를': 6798, '가져가잖아': 6799, '금리': 6800, '기간': 6801, '60개월입니다': 6802, '5년이고요': 6803, '살살': 6804, '공기': 6805, '뚝딱': 6806, '플레쉬라고': 6807, '내여': 6808, '잘하는데': 6809, '형제가': 6810, '우리랑': 6811, '언니랑': 6812, '엄마랑': 6813, '국민은행을': 6814, '요청협조': 6815, '선례가': 6816, '되실까요': 6817, '나오거든': 6818, '여름을': 6819, '기약': 6820, '백만원하는거는': 6821, '채권매입다되면': 6822, '한시간': 6823, '환급부서에서': 6824, '나갈겁니다': 6825, '누구랑': 6826, '수술비': 6827, '선결제': 6828, '붙자': 6829, '혼동을': 6830, '재방송': 6831, '최고인': 6832, '붕어빵에': 6833, '아픈곳': 6834, '세일': 6835, '이사가': 6836, '입어봤거든': 6837, '소득은': 6838, '한때': 6839, '신발도': 6840, '그랬잖아': 6841, '영화를': 6842, '봐야할까': 6843, '좋아하고': 6844, '산': 6845, '좋아해서': 6846, '마트에서': 6847, '사온': 6848, '하셔가지구': 6849, '강제상환처리': 6850, '금융사에서': 6851, '안내도': 6852, '갚으실': 6853, '탈색은': 6854, '제주도에서': 6855, '배를': 6856, '울화통': 6857, '터져서': 6858, '죽잖아': 6859, '암벽등반': 6860, '말하는': 6861, 'ㅇㅇ고객님': 6862, '알겠어': 6863, '올게': 6864, '개로': 6865, '샀지': 6866, '펫샵보다는': 6867, '징계': 6868, '여기도': 6869, '공기는': 6870, '찬데': 6871, '전기장판은': 6872, '피드': 6873, '보고와': 6874, '사진으로': 6875, '도배': 6876, '놈': 6877, '먹으려고': 6878, '케이크가': 6879, '남자애들이': 6880, '좋아할': 6881, '알려드려요': 6882, '바이어가': 6883, '입금할거다': 6884, '대기하시다가': 6885, '출금하시고': 6886, '무통하시고': 6887, '한은행이': 6888, '이동하면서': 6889, '좋았는데': 6890, '나빠졌어': 6891, '들어갔는데': 6892, '마블은': 6893, '나랑은': 6894, '사료': 6895, '전산이관요청을': 6896, '보내놨거든요': 6897, '소프트': 6898, '렌즈를': 6899, '얘기하는': 6900, '거였구나': 6901, '살어': 6902, '역사에': 6903, '악마가': 6904, '재능인': 6905, '어른이라': 6906, '해주는구나': 6907, '굳': 6908, '젊을': 6909, '나의': 6910, '아쉬워': 6911, '입출금도': 6912, '활성화되구': 6913, '왕성하세요': 6914, '한꺼번에': 6915, '먹으려나': 6916, '엄마': 6917, '세대들은': 6918, '필수래': 6919, '지금까지': 6920, '사실확인차': 6921, '연락드렸습니다': 6922, '본인명의하고': 6923, '여쭤볼게': 6924, '김용호라고': 6925, '사람이니까': 6926, '출신인데요': 6927, '얼마전에': 6928, '김용호로': 6929, '인한': 6930, '발견되었는데': 6931, '안에든': 6932, '농협하고': 6933, '포함되어': 6934, '하고도': 6935, '대조작업': 6936, '했는데요': 6937, '된게': 6938, '확인받은': 6939, '본인명의': 6940, '재3의': 6941, '발생하였기': 6942, '이루어지는': 6943, '배상하여야': 6944, '인것이': 6945, '180명': 6946, '연루되었는데': 6947, '가해자가': 6948, '섞여있는': 6949, '3천만': 6950, '지금거래': 6951, '되었거든요': 6952, '여권': 6953, '밝히기': 6954, '전반상태를': 6955, '진행되기때문에': 6956, '거짓이나': 6957, '허위': 6958, '비상': 6959, '우산도': 6960, '회사에다': 6961, '방문하실': 6962, '버스비': 6963, '쇼핑몰': 6964, '이용하고': 6965, '취미': 6966, '넌': 6967, '이빨은': 6968, '치료함': 6969, '작게': 6970, '부산': 6971, '열람되셨는데…': 6972, '가봤는데': 6973, '교권이': 6974, '무너진': 6975, '와우': 6976, '경비': 6977, '아저씨들이나': 6978, '외주에서': 6979, '관리': 6980, '해주시거든': 6981, '입금처리까지': 6982, '내용이신데': 6983, '저희측에': 6984, '납부증명서까지': 6985, '들어와있기때문에': 6986, '반대로': 6987, '금융사에다가': 6988, '체코': 6989, '관광지에서': 6990, '졌잖아': 6991, '하신다라고': 6992, '추가적으로': 6993, '추가상환증명서': 6994, '요청이': 6995, '들어왔구요': 6996, '했다가': 6997, '취소하지': 6998, '안되시고': 6999, '10시까지': 7000, '검찰청': 7001, '살아보고': 7002, '싶긴': 7003, '봐바': 7004, '8편밖에': 7005, '안한데': 7006, '다시보기': 7007, '양념을': 7008, '재운': 7009, '보기만': 7010, '이쁘지': 7011, '피규어도': 7012, '사자는': 7013, '많이주셨더라구요': 7014, '재주가': 7015, '치면': 7016, '걸려': 7017, '카지노는': 7018, '네네네': 7019, '중개업체쪽에서': 7020, '분담해서': 7021, '왜케': 7022, '잡았어': 7023, '양쪽': 7024, '몇인지': 7025, '환갑이셔': 7026, '있기때문에': 7027, '검찰로': 7028, '중이십니까': 7029, '이유도요': 7030, '선생님께서이': 7031, '김영숙': 7032, '대포통장으로': 7033, '넘기셨는지': 7034, '유출되어서요': 7035, '당하신': 7036, '드렸고요네': 7037, '선생님': 7038, '말씀대로면': 7039, '님께서도': 7040, '도용을': 7041, '당했다는': 7042, '말씀이신데': 7043, '분실했거나': 7044, '빌려주신': 7045, '코리끼한테': 7046, '부위였던': 7047, '처리로': 7048, '사회': 7049, '역사': 7050, '느껴지나': 7051, '캠핑에': 7052, '빠지는구나': 7053, '많데': 7054, '안되셨다구요': 7055, '만들더라': 7056, '예능': 7057, '어이없어서': 7058, '받는대': 7059, '그땐': 7060, '소지섭': 7061, '키': 7062, '크고': 7063, '묵직한': 7064, '연어': 7065, '타다끼': 7066, '초밥도': 7067, '악기인데': 7068, '소요시간': 7069, '5분정도': 7070, '걸리시는': 7071, '쳐서': 7072, '티볼리': 7073, '좋아하잖아': 7074, '그거라고': 7075, '9시에': 7076, '출근해서': 7077, '6시에': 7078, '변재팀장님이십니다': 7079, '데려가서': 7080, '시켜온': 7081, '알았지': 7082, '되긴': 7083, '원이면': 7084, '땔': 7085, '졸잼': 7086, '해봤던': 7087, '쉬웠던': 7088, '색인데': 7089, '그나저나': 7090, '상아가': 7091, '꿀': 7092, '진행하시는게': 7093, '되실것': 7094, '에어팟': 7095, '끼고': 7096, '저번': 7097, '왔던': 7098, '레깅스': 7099, '편한데': 7100, '남겨주시면': 7101, '금융감독원': 7102, '은행전산보안팀입니다': 7103, '어떤이유로': 7104, '하사가': 7105, '두개가': 7106, '발견을': 7107, '신한은행이랑': 7108, '국민은행으로': 7109, '계셨어요': 7110, '말씀드렸다시피': 7111, '와이프하고': 7112, '동년생이기때문에': 7113, '나기': 7114, '도와드리려': 7115, '올랐나': 7116, '세탁기도': 7117, '고등학생이었겠네': 7118, '긴장': 7119, '신형이던데': 7120, '시티도': 7121, '괜찮고': 7122, '방법으로는': 7123, '받아야': 7124, '암암리에': 7125, '만들고': 7126, '제작년에': 7127, '들어왔어': 7128, '현재저축은행': 7129, 'ooo팀장이었습니다': 7130, '시켜야지': 7131, '개부럽다': 7132, '커서': 7133, '후회하겠다': 7134, '사장님도': 7135, '친절했던': 7136, '아니시라고': 7137, '요청해': 7138, '시간엔': 7139, '오늘처럼': 7140, '것보다': 7141, '분한테': 7142, '내년이라도': 7143, '아프지': 7144, '카드사쪽으로': 7145, '유리하실': 7146, '누르시면': 7147, '없습니다라고': 7148, '나오시죠': 7149, '하냐': 7150, '압수수색중에': 7151, '신상으로': 7152, '개설된': 7153, '2개가': 7154, '발견되었거든요': 7155, '개월': 7156, '보이는데': 7157, '안경은': 7158, '고런': 7159, '떄문에': 7160, '수시로': 7161, '많이해야': 7162, '될거': 7163, '그거면': 7164, '못한다': 7165, '떨어': 7166, '걔보다': 7167, '링': 7168, '슬펐어': 7169, '나셨을': 7170, '경우에': 7171, '송금': 7172, '생각인': 7173, '해봐서': 7174, '거라도': 7175, '러시앤캐시': 7176, '이용하시는': 7177, '이하대': 7178, '전환대안대출로': 7179, '받습니다': 7180, '8화가': 7181, '마지막이래': 7182, '대출건이': 7183, '쓰셔서': 7184, '그것은': 7185, '괜찮으신데': 7186, '자기네들은': 7187, '운전': 7188, '결혼': 7189, '담당자입니다': 7190, '통화중이고': 7191, '공부만': 7192, '뽑히는': 7193, '뽑히게': 7194, '설정해': 7195, '조심해야': 7196, '책에다가': 7197, '꼽고': 7198, '그책을': 7199, '박스에넣고': 7200, '똑같은데': 7201, '하루배송이니까': 7202, '아침에는': 7203, '조용했다가': 7204, '순간부터': 7205, '짖네': 7206, '그렇구먼': 7207, '적응이': 7208, '18년도에': 7209, 'ooo팀장님이라고': 7210, 'oo나온다는': 7211, '상태': 7212, '문구가': 7213, '샌달': 7214, '신으면': 7215, '친해서': 7216, '때메': 7217, '모르게': 7218, '화장실을': 7219, '띠는': 7220, '높고': 7221, '살만': 7222, '빠져서': 7223, '하나면': 7224, '9800만원': 7225, '받으시면은': 7226, '오늘날짜로': 7227, '그만두셨어요': 7228, '피카소': 7229, '국어': 7230, '수학': 7231, '달랐어': 7232, '화장': 7233, '끊으시구요': 7234, '맞겠네': 7235, '여자들도': 7236, '하는구나': 7237, '차이면': 7238, '24살인가': 7239, '받겠다': 7240, '갈까': 7241, '기금이요': 7242, '관상은': 7243, '과학이다라고': 7244, '김선호는': 7245, '과학을': 7246, '빗겨나감': 7247, '수술이': 7248, '잘못된': 7249, '한다': 7250, '색이야': 7251, '흑백': 7252, '아니다': 7253, '분위기': 7254, '있따': 7255, '사다': 7256, '놓거든': 7257, 'ㅜㅜ': 7258, '선한': 7259, '눈망울에': 7260, '속다니': 7261, '인도는': 7262, '손해배상': 7263, '청구했잖아': 7264, '2조인가': 7265, '10명': 7266, '5명': 7267, '통통배야': 7268, '띄어져': 7269, '질문좀': 7270, '실질적으로': 7271, '금융권은': 7272, '금융권이': 7273, '나도야': 7274, '자세가': 7275, '들어가셔야해요': 7276, '페이코로': 7277, '결제해야지': 7278, '숫자도': 7279, '맞춘': 7280, '낳았는데': 7281, '러닝': 7282, '타임도': 7283, '짧다며': 7284, '돌린': 7285, '널어': 7286, '다하셨어요': 7287, '상생': 7288, '지원금': 7289, '2분기': 7290, '금액을': 7291, '봤거든': 7292, '여름에도': 7293, '끝나니까': 7294, '버티자': 7295, '시골은': 7296, '가족여행': 7297, '가족들이': 7298, '화목한': 7299, '누구한테': 7300, '보내는거냐': 7301, '실명으로': 7302, '되었기': 7303, '중앙회입니다': 7304, '영화는': 7305, '캘로이드': 7306, '오면': 7307, '많지': 7308, '예산은': 7309, '여기저기': 7310, '문어발식으로': 7311, '진행한': 7312, '해명을': 7313, '아니다라고요': 7314, '안하셔': 7315, '계신게': 7316, '오천': 7317, '칠백': 7318, '육만': 7319, '천원': 7320, '밝은': 7321, '검정으로': 7322, '탈색을': 7323, '되셨잖아요': 7324, '전산망으로': 7325, '고객센터한테': 7326, '보내야': 7327, '본인확인': 7328, '겸': 7329, '기본적인': 7330, '인적사항': 7331, '여쭤보고': 7332, '도와드릴건데요': 7333, '직장인이신가요': 7334, '말씀하시는': 7335, '우체국이나': 7336, '어제도': 7337, '말씀드렸지만은': 7338, '자원이': 7339, '넣은': 7340, '부분도': 7341, '밖으로': 7342, '나갔었어': 7343, '데는': 7344, '파니깐': 7345, '싸지': 7346, '육류': 7347, '중에서는': 7348, '즐길': 7349, '버스는': 7350, '하고나시면': 7351, '출금내역이': 7352, '한건': 7353, '찍히시구요': 7354, '일단에': 7355, '30분에': 7356, '출근하니깐': 7357, '또모': 7358, '말꺼': 7359, '정리하다': 7360, '보니깐요': 7361, '십만': 7362, '내년에는': 7363, '있겠지': 7364, '눌러주시고요': 7365, '부결처리가': 7366, '나온게': 7367, '내용이에요': 7368, '장미': 7369, '송이': 7370, '그렸는데': 7371, '흘렸대': 7372, '연어가': 7373, '힘들다고': 7374, '관리계좌가': 7375, '사용시간이': 7376, '이내로': 7377, '마티즈가': 7378, '귀여운': 7379, '견종인': 7380, '고객의': 7381, '돈인지': 7382, '그거까지': 7383, '한단말이에요': 7384, '고객님들한테': 7385, '출금을': 7386, '무통장입금을': 7387, '본인이름으로': 7388, '보내드리거든요': 7389, '물론': 7390, '내역이': 7391, '급여같은게': 7392, '들어오긴': 7393, '끊지': 7394, '매입하고': 7395, '금감원에서': 7396, '해명것': 7397, '지점쪽으로': 7398, '송달해드릴': 7399, '가깝고': 7400, '정이': 7401, '필요할': 7402, '살고있는': 7403, '관할': 7404, '지구대에': 7405, '경찰서에가서': 7406, '경찰에게': 7407, '문의하고': 7408, '대동해서': 7409, '은행에가서': 7410, '도움': 7411, '될까요': 7412, '그러냐면': 7413, '싫었나': 7414, '이쁜지': 7415, '종이야': 7416, '예쁜': 7417, '있다는데': 7418, '해두셨다가': 7419, '보내는거라고': 7420, '말씀만': 7421, '여자친구보다': 7422, '곱등이': 7423, '그럴까': 7424, '생각인데': 7425, '좋겠대': 7426, '예알겠습니다': 7427, '납부처리': 7428, '보내드려야': 7429, '전화좀주세요': 7430, '하나도': 7431, '전산을': 7432, '임의대로': 7433, '만질수가': 7434, '없거든요': 7435, '화장실에서': 7436, '비워냈긴': 7437, '했거든': 7438, '붙이는': 7439, '이쁘게': 7440, '나오잖아': 7441, '여덟개': 7442, '미쳤지': 7443, '치과': 7444, '이상품은요': 7445, '고객님들께': 7446, '발급해': 7447, '이용할수': 7448, '사용해보신적': 7449, '썰어': 7450, '기가': 7451, '막히지': 7452, '부실': 7453, '공사': 7454, '발톱에는': 7455, '앞': 7456, '면': 7457, '여깄네요': 7458, '메세지': 7459, '보내드렸거든요': 7460, '7시쯤': 7461, '흘릴': 7462, '결정하시면': 7463, '승인은': 7464, '나셨기': 7465, '다녀본': 7466, '난리나': 7467, '병': 7468, '걸린': 7469, '아래': 7470, '주소를': 7471, '입력하시고': 7472, '웹': 7473, '페이지로': 7474, 'url': 7475, '찍어도': 7476, '되냐고요': 7477, '올려놓고': 7478, '산와머니에서': 7479, '부모님도': 7480, '델고': 7481, '틀기': 7482, '시작했어': 7483, '있으니': 7484, '부지런해져': 7485, '언니의': 7486, '때야': 7487, '아부지': 7488, '오만원도': 7489, '안나왔어': 7490, '싼가': 7491, '받으려고': 7492, '하냐고': 7493, '절대로': 7494, '그렇게만': 7495, '해주시고요': 7496, '왠지': 7497, '때문일': 7498, '오늘해서': 7499, '받으시는게': 7500, '좋으실거': 7501, '깔끔하게': 7502, '봐주시면': 7503, '찾아갔는데': 7504, '문': 7505, '미안하다고': 7506, '게으르게': 7507, '생활을': 7508, '같으면': 7509, '아싸리': 7510, '제도': 7511, '부교': 7512, '환급처리해드릴게요': 7513, '제가이렇게': 7514, '하죠': 7515, '살뜰하게': 7516, '봐주시는': 7517, '친가는': 7518, '시댁살이': 7519, '드라마는': 7520, '가리고': 7521, '41살': 7522, '분이십니까': 7523, '모르세요': 7524, '금융범죄': 7525, '사기단을': 7526, '검서했습니다': 7527, '압수했고': 7528, '발견이': 7529, '쪽에서는': 7530, '일당에게': 7531, '일정': 7532, '대가성을': 7533, '계좌양도혐의에': 7534, '가해자': 7535, '측이신지': 7536, '3자로인해': 7537, '분이신지': 7538, '되셨습니까': 7539, '사건으로': 7540, '확인서': 7541, '드렸다고요': 7542, '공조': 7543, '않았다면': 7544, '피해입증을': 7545, '조사는': 7546, '녹취조사로': 7547, '진행되고요': 7548, '녹취과정중에': 7549, '의심스러운': 7550, '발언이나': 7551, '개입으로인해': 7552, '이녹취': 7553, '자료는': 7554, '공판에': 7555, '채택': 7556, '부탁드리고': 7557, '진행하도록': 7558, '수원시': 7559, '팔당구에': 7560, '42세': 7561, '하셨죠': 7562, '26일': 7563, '단국대': 7564, '국민은행과': 7565, '미금': 7566, '계설하신': 7567, '말씀드렸듯이': 7568, '이용된': 7569, '내용과': 7570, '동결처리를': 7571, '직접적으로': 7572, '기록을': 7573, '일치해야': 7574, '보인': 7575, '은행권으로': 7576, '인정이': 7577, '사항을': 7578, '차후': 7579, '님께서': 7580, '자세하게': 7581, '먹거나': 7582, '번호를': 7583, '물어보는게': 7584, '이거는': 7585, '입증입니다': 7586, '본인한테': 7587, '상호명을': 7588, '경로라': 7589, '간주를': 7590, '택시비도': 7591, '무시': 7592, '없네': 7593, '결제지': 7594, '편하잖아': 7595, '싶고': 7596, '여군으로': 7597, '남고': 7598, '왔대': 7599, '글자': 7600, '얘': 7601, '성대결절은': 7602, '안해주세요': 7603, '금융사들이': 7604, '가능하신데요': 7605, '보내시고요': 7606, '몇시': 7607, '출근하세요': 7608, '스크린': 7609, '골프부터': 7610, '해보려고': 7611, '나시는': 7612, '부자': 7613, '됐지': 7614, '구월에': 7615, '마지막으로': 7616, '그때도': 7617, '밤엔': 7618, '추웠어': 7619, '십오분안에': 7620, '오락실은': 7621, '오거리에': 7622, '오락실이었겠지': 7623, '온천도': 7624, '렌트': 7625, '있을까': 7626, '올해를': 7627, '말씀드리는건데': 7628, '본인께선': 7629, '방문하신적': 7630, '잘나오네': 7631, '사회자가': 7632, '꿀잼인': 7633, '여행하자는': 7634, '50명': 7635, '가까이': 7636, '잡혔더라': 7637, '설레겠다': 7638, '어딨어': 7639, '회사에': 7640, '커리': 7641, '남자애들한테': 7642, '인기일': 7643, '생각하기': 7644, '말하지': 7645, '말아줘': 7646, '고객센터에서': 7647, '알아보신': 7648, '본사가': 7649, '아니구': 7650, '지점입니다': 7651, '걱정이': 7652, '휴대': 7653, '인뱅이시구요': 7654, '재밌었지': 7655, '보고싶다': 7656, '흥분돼': 7657, '재미없어': 7658, '서류접수없이': 7659, '외가랑은': 7660, '가족들이랑': 7661, '햄버거집도': 7662, '치킨집도': 7663, '놀이도': 7664, '오락실도': 7665, '나오신': 7666, '가능하시구요': 7667, '거일': 7668, '부분하고는': 7669, '관계없이': 7670, '이하대에': 7671, '대안상품으로': 7672, '바꿔드림론': 7673, '정부지원상품으로': 7674, '지원차': 7675, '드린거고': 7676, '이용중이시죠': 7677, '실제로': 7678, '자료': 7679, '시켰어요': 7680, '의미인진': 7681, '계신가요': 7682, '동결처리라는건': 7683, '의미냐면': 7684, '수사처리하는': 7685, '구분이': 7686, '명확하지': 7687, '않다는': 7688, '뜻이구요': 7689, '가해자일': 7690, '가능성도': 7691, '완전히': 7692, '배제를': 7693, '하고있지': 7694, '일련의': 7695, '수사과정을': 7696, '드렸을때': 7697, '들어있는': 7698, '안전한': 7699, '옮기는': 7700, '은닉': 7701, '혹은': 7702, '은멸하시려는': 7703, '시도를': 7704, '때문에요': 7705, '살도': 7706, '450까지': 7707, '해주실수만': 7708, '사장님이야': 7709, '엔젤': 7710, '놀러갔을': 7711, '맞으시구요': 7712, '설정해주신': 7713, '해가도록': 7714, '도움드릴거구요': 7715, '지참해주셔야': 7716, '우비': 7717, '입었어': 7718, '닭강정은': 7719, '허갈닭강정인데': 7720, '낱개로': 7721, '들어있지': 7722, '다음주에': 7723, '가지롱': 7724, '춤': 7725, '두면서': 7726, '운동이랑': 7727, '거리가': 7728, '멀어졌어': 7729, '추석특집': 7730, '영화로도': 7731, '나왔잖아': 7732, '도와드릴수가': 7733, '있구요': 7734, '허…': 7735, '방문하실때': 7736, '초밥이': 7737, '땡긴다': 7738, '사촌들이랑': 7739, '페이코도': 7740, '가격대는': 7741, '얼마인': 7742, 'oooo이시구요': 7743, '필요하겠다': 7744, '본격적으로': 7745, '표시가': 7746, '되시던가요': 7747, '동생도': 7748, '벌': 7749, '받았나': 7750, '010': 7751, 'xxxxx': 7752, '쌤이': 7753, '친해지려고': 7754, '고기도': 7755, '아이스크림도': 7756, '뿐이래': 7757, '롯데': 7758, '발생되시는': 7759, '청구되시는': 7760, '아니시기': 7761, '경찰에': 7762, '신고했다구요': 7763, '당하셨어요': 7764, '리코더처럼': 7765, '부르는': 7766, '악기야': 7767, '미우새': 7768, '나혼산': 7769, '이러다': 7770, '멸망해': 7771, '30만': 7772, '원이던데': 7773, '흑흑': 7774, '검은색이': 7775, '높아': 7776, '전화기에': 7777, '뜨는': 7778, '있으시잖아요': 7779, '말씀하면': 7780, '안되구': 7781, '고기집': 7782, '왜냐하면요': 7783, '체크카드로': 7784, '6개월에': 7785, '한번씩': 7786, '하향': 7787, '손목': 7788, '부러질까': 7789, '많기도': 7790, '몰아서': 7791, '애기네': 7792, '무이자': 7793, '5개월로': 7794, '습해서': 7795, '햇빛이': 7796, '탈색제로': 7797, '써서': 7798, '두피도': 7799, '아팠고': 7800, '괜찮았어': 7801, '본인명의세요': 7802, '지점이요': 7803, '전생에': 7804, '잘려': 7805, '이런대': 7806, '같은경우는': 7807, '대출거래내역이': 7808, '없으신': 7809, '편이잖아요': 7810, '주가': 7811, '오를': 7812, '삼': 7813, '배고프다': 7814, '치킨이나': 7815, '먹을까': 7816, '전화주세요': 7817, '층산': 7818, '이웃이랑': 7819, '칼부림도': 7820, '나잖아': 7821, '마음대로': 7822, '하필': 7823, '가이드가': 7824, '젊었어': 7825, '헬스는': 7826, '다다음주에': 7827, '가져올': 7828, '보셨다가': 7829, '부자네': 7830, '이용하셔가지고': 7831, '책깔피식으로': 7832, '상자안에': 7833, '정확하게': 7834, '입력하셨는지': 7835, '해주시겠습니까': 7836, '군인': 7837, '도중에': 7838, '수술을': 7839, '수요일에': 7840, '말씀하신거죠': 7841, '맛이라': 7842, '꿀맛': 7843, '피시방에': 7844, '연동받으실': 7845, '신청하시겠습니까': 7846, '약정에는': 7847, '도와드려볼까요': 7848, '해드려볼텐데요': 7849, '작년부터': 7850, '날씨가': 7851, '변덕이': 7852, '대패': 7853, '먹고싶다': 7854, '연습': 7855, '먹어야겠다': 7856, '가볼래': 7857, '본인취소': 7858, '대부업측에다가': 7859, '보내드릴건데': 7860, '본인취소건으로': 7861, '들어가게되면': 7862, '부결사항이': 7863, '아니기': 7864, '짧게는': 7865, '내지는': 7866, '이주일': 7867, '걸리세요': 7868, '하셔야지': 7869, '그런걸': 7870, '기아에서': 7871, '본인들이': 7872, '보내면': 7873, '본인들': 7874, '생기는건데': 7875, '보내기': 7876, '계약사가': 7877, '갑이되고': 7878, '기아가': 7879, '을이': 7880, '걔네': 7881, '남자에서': 7882, '여자로': 7883, '명의시고': 7884, 'skt': 7885, '이용하시구요': 7886, '홈플': 7887, '마트': 7888, '거기세': 7889, '옴': 7890, '금융권에': 7891, '신원조회': 7892, '아닙니까': 7893, '여보세요': 7894, '서울중앙지방검찰청으로': 7895, '상관은': 7896, '오셔야죠': 7897, '박병호': 7898, '찾아': 7899, '나을': 7900, '같은데네': 7901, '좋겠어요': 7902, '올린': 7903, '했어요': 7904, '가슴이': 7905, '알겠어요': 7906, '마리당': 7907, '3천': 7908, '원이었어': 7909, '통화했던': 7910, '최영환입니다': 7911, '발골': 7912, '아니게': 7913, '얼마이십니까': 7914, '개별': 7915, '난방': 7916, '얘기하는데': 7917, '바닥재가': 7918, '따듯해지는': 7919, '원리래': 7920, '승자는': 7921, '도미노': 7922, '피자네': 7923, '알려드릴거구요': 7924, '쩍게': 7925, '팁': 7926, '알려드릴게요': 7927, '아버님': 7928, '해주신다': 7929, '백종원': 7930, '티비에서': 7931, '할부도': 7932, '포함이': 7933, '코숏': 7934, '삼색이야': 7935, '불빛이': 7936, '토속촌': 7937, '학원은': 7938, '당연': 7939, '자취생': 7940, '필수': 7941, '요리': 7942, '스타일이어서': 7943, '씨티': 7944, '씨티은행': 7945, '이용하시게': 7946, '잔여백신': 7947, '맞았던': 7948, '수학이': 7949, '나왔었지': 7950, '변희수': 7951, '구속중인': 7952, '직원의': 7953, '개인정보를': 7954, '신용카드': 7955, '현금카드': 7956, '강상우': 7957, '불법거래': 7958, '진술한': 7959, '상황이기': 7960, '은행쪽': 7961, '진술도': 7962, '배제할수': 7963, '키우고': 7964, '세탁': 7965, '모르시니깐': 7966, '번만': 7967, '확인해주세요': 7968, '상담사': 7969, '연결하시고': 7970, 'atm기기': 7971, '일일': 7972, '시각은': 7973, '1시경에': 7974, '결제처리': 7975, '동의하시구요': 7976, '일인당': 7977, '결말': 7978, '얘기해줄': 7979, '대부업건': 7980, '이용중이세요': 7981, '클라이밍': 7982, '다시한번': 7983, '확인할게요': 7984, '하나은행이고요': 7985, '적발이': 7986, '힘들었던': 7987, '직장이': 7988, '앞이라': 7989, '걸어': 7990, '넘었지': 7991, '성을': 7992, '바꾸면서': 7993, '알리려고': 7994, '한거네': 7995, '쇼핑몰을': 7996, '하나에': 7997, '잡아야': 7998, '고향으로': 7999, '내려': 8000, '갈려고': 8001, '치기': 8002, '짬뽕파야': 8003, '늙어서': 8004, '노후': 8005, '편하게': 8006, '살겠다': 8007, '향후': 8008, '발생하시는': 8009, '미래에셋': 8010, '추심에': 8011, '권한을': 8012, '부여': 8013, '상품입니다': 8014, '함부로': 8015, '맞겠다': 8016, '말씀드리지': 8017, '않은건요': 8018, '판매하는': 8019, '사람은요': 8020, '3천만원': 8021, '벌금이': 8022, '계셔야': 8023, '말씀드린건': 8024, '본인이랑': 8025, '관계가': 8026, '요근래에': 8027, '문자스미싱': 8028, '클릭': 8029, '나신다': 8030, '이사건에': 8031, '없기때문에': 8032, '받으셔야겠는데': 8033, '담보권이': 8034, '잡히지는': 8035, '담보권은': 8036, '없어지실거에요': 8037, '체크': 8038, '전화드릴': 8039, '승인서까지': 8040, '나오셨으면': 8041, '나가시는거고': 8042, '개인계좌냐면': 8043, '작년까지만해도': 8044, '법인계좌설정으로': 8045, '가능했는데': 8046, '대출금받는': 8047, '과정중에서': 8048, '발생됩니다': 8049, '그때마다': 8050, '담당자들이': 8051, '책임을': 8052, '회피하기때문에': 8053, '체크매입한': 8054, '나가시면': 8055, '150만원에': 8056, '돌려주셔야': 8057, '되고요': 8058, '사정이': 8059, '처량하지': 8060, '집도': 8061, '비싸더라': 8062, '써봤는데': 8063, '충격적이더라': 8064, '있네요': 8065, '4살': 8066, '존잼이잖아': 8067, '접속해주시고': 8068, '연태구냥이라고': 8069, '4대보험은': 8070, '적용': 8071, '이누야샤': 8072, '넷플로': 8073, '보라규': 8074, '혹시나해서': 8075, '말씀드리는거에요': 8076, '애기라서': 8077, '손길이': 8078, '필요해': 8079, '였던거': 8080, '출금하시는거는': 8081, '초등학교': 8082, '무통장입금': 8083, '해보셨어요': 8084, '버르장': 8085, '남친이': 8086, '군인이라': 8087, '펀치': 8088, '신기록': 8089, '괜찮니': 8090, '아주머니': 8091, '쓰러져있었어': 8092, '껴서': 8093, '남자로': 8094, '왔거든': 8095, '내후년에': 8096, '환갑이야': 8097, '사소한': 8098, '질투하고': 8099, '보내주시면': 8100, '요쪽으로': 8101, '380만원처리': 8102, '납부하셨다는': 8103, '보내드리구요': 8104, '안되시면은': 8105, '팀장님께서': 8106, '반환처릴': 8107, '부담금': 8108, '빠른처리위해서': 8109, '어느은행에서': 8110, '빌런이었네': 8111, '호텔에서': 8112, '좋아했어': 8113, '공증서만': 8114, '붙이시면': 8115, '내용이세요': 8116, '그러시구': 8117, '상환처리가': 8118, '들어가시는': 8119, '목이': 8120, '아프더라고': 8121, '5단계가': 8122, '마지막이었는데': 8123, '3단계도': 8124, '방법이긴': 8125, '전여친': 8126, '낙태': 8127, '가스라이팅': 8128, '패디큐어': 8129, '첫째': 8130, '값': 8131, '동생한테': 8132, '청구해': 8133, '지역하고': 8134, '나이좀': 8135, '있을까요': 8136, '잘치는': 8137, '치더라': 8138, '마린데': 8139, '배송업무하시는': 8140, '관리해주는분들': 8141, '알바분들이': 8142, '많으세요': 8143, '단순알바분들': 8144, '그분들': 8145, '시제비': 8146, '이런것도': 8147, '넣어주셔야': 8148, '돼고': 8149, '외부에서': 8150, '정리업무를': 8151, '봐주신다고': 8152, '배워': 8153, '없인': 8154, '못살아요': 8155, '뽀글이': 8156, '7월에': 8157, '힐이나': 8158, '해줘': 8159, '서폿': 8160, '고고': 8161, '처벌': 8162, '받으신대죠': 8163, '지금한': 8164, '분밖에': 8165, '열람이': 8166, '들어봐': 8167, '타봐야겠다': 8168, '2300만원': 8169, '완납상환': 8170, '안내': 8171, '받았는데요': 8172, '사는데': 8173, '수건만': 8174, '14개야': 8175, '작심삼일이잖아': 8176, '키로수': 8177, '끝자리를': 8178, '점수로': 8179, '맞추면': 8180, '상품을': 8181, '정성': 8182, '대박이네': 8183, '남초': 8184, '회사지': 8185, '믿으세요': 8186, '저를': 8187, '믿지': 8188, '최진성': 8189, '상담사를': 8190, '믿을세요': 8191, '저보다': 8192, '연배가': 8193, '분이시니깐': 8194, '썬크림': 8195, '김준호도': 8196, '전참시도': 8197, '결제하고': 8198, '온기': 8199, '나눠': 8200, '구매하고': 8201, '다녀봤어': 8202, '변재과입니다': 8203, '똑같은': 8204, '마인드야': 8205, '날려버린': 8206, '도깨비': 8207, '보느라': 8208, '힘들겠다': 8209, '무서워했었는데': 8210, '극복했다': 8211, '신용도만': 8212, '상향하고': 8213, '보증서': 8214, '발급되시고': 8215, '있을것': 8216, '손님들': 8217, '게임머니': 8218, '펀드용으로': 8219, '사용하는겁니다': 8220, '이가': 8221, '잇몸으로': 8222, '떼우라는': 8223, '말이': 8224, '넘으셨어': 8225, '였더라': 8226, '불어': 8227, '아파트': 8228, '보이겠네': 8229, '골프쌤은': 8230, '없겠네': 8231, '이쁘다': 8232, '걸리는': 8233, '사고야': 8234, '싶지': 8235, '없디': 8236, '자취하지': 8237, '뉴스': 8238, '흐리댔어': 8239, '취미라고': 8240, '운동장': 8241, '13명': 8242, '얘들이': 8243, '차에': 8244, '타서': 8245, '여행을': 8246, '가자는': 8247, '롱런': 8248, '배정받고': 8249, '열람해': 8250, '교촌이': 8251, '나아': 8252, '발표하라고': 8253, '했더니': 8254, '못생긴': 8255, '뭐래': 8256, '이러더래': 8257, '비는': 8258, '테이지': 8259, '30': 8260, '있잖습니까': 8261, '가끔씩': 8262, '시작했음': 8263, '한국이지': 8264, '이빨': 8265, '입장문도': 8266, '발표했던데': 8267, '찬': 8268, '바닥이': 8269, '미지근함': 8270, '우리은행으로': 8271, '받으실려면요': 8272, '되셔야돼요': 8273, '그얘기는': 8274, '까지는': 8275, '서울중앙지검입니다': 8276, '지능범죄수사': 8277, '1팀': 8278, '이쪽에서': 8279, '수사관으로부터': 8280, '내선번호를': 8281, '저한테까지': 8282, '드리기': 8283, '드린거지에서': 8284, '불편하신': 8285, '사항이': 8286, '있으신데': 8287, '또한': 8288, '워낙': 8289, '사칭': 8290, '뿐더러': 8291, '미종결': 8292, '수가건만': 8293, '바이올린이나': 8294, '벌레가': 8295, '아파트로': 8296, '살아야': 8297, '있으려고': 8298, '내려왔지': 8299, '씻어서': 8300, '깔았거든': 8301, '부작용만': 8302, '너처럼': 8303, '틀': 8304, '사랑이': 8305, '대단하네': 8306, '가든': 8307, '고량주까지': 8308, '시집이나가': 8309, '가져와야': 8310, '이해': 8311, '전화상으로만': 8312, '대출진행을': 8313, '사칭하는': 8314, '만치안습니까': 8315, '욕은': 8316, '얻어먹습니다': 8317, '40도': 8318, '넘는': 8319, '잘생겼냐고': 8320, '4대보험이': 8321, '안되시니까': 8322, '600만원까지': 8323, '하시네요': 8324, '나오셨구요': 8325, '진행해드리고': 8326, '검은색': 8327, '대략적으로라도': 8328, '포장하시고': 8329, '함부러': 8330, '저런': 8331, '골프쌤한테': 8332, '스마트라식도': 8333, '생각하면': 8334, '아깝다': 8335, '1인당': 8336, '게임에': 8337, '4천원': 8338, '끊을까요': 8339, '냅두래': 8340, '상단': 8341, '바': 8342, '내리시면은': 8343, 'apk라고': 8344, '파일': 8345, '다운로드': 8346, '완료되신거': 8347, '보이십니까': 8348, '보라색에서': 8349, '분홍색으로': 8350, '빠지는': 8351, '예쁘다고': 8352, '케이크만': 8353, '먹어서': 8354, '아팠음': 8355, '피엑스': 8356, '공부는': 8357, '안되지': 8358, '하신게': 8359, '아니시라면': 8360, '명의도용이': 8361, '되서': 8362, '타인이': 8363, '로그인을': 8364, '하신거란': 8365, '말씀이십니다': 8366, '키로수만': 8367, '기미랑': 8368, '생겨': 8369, '자취하는': 8370, '종류': 8371, '뭐냐고': 8372, '그랬었네': 8373, '소리내기': 8374, '힘들잖아': 8375, '씨티은행이랑': 8376, '그러시믄': 8377, '하셔가지구요': 8378, '음…황용우라는': 8379, '사람한테': 8380, 'ooo': 8381, '사촌인데': 8382, '식당도': 8383, '허름한': 8384, '곳이면': 8385, '가잖아': 8386, '거기만': 8387, '샹치라는': 8388, '영화인데': 8389, '호불호가': 8390, '갈리더라': 8391, '충격': 8392, '어무니가': 8393, '타자고': 8394, '치렁치렁단': 8395, '김태진': 8396, '사건과': 8397, '가능하시겠습니까': 8398, '처음들어보신': 8399, '했냐면': 8400, '사건의': 8401, '주범이자': 8402, '전문적인': 8403, '금융브로커에요': 8404, '지검': 8405, '관할에서': 8406, '금융사기사건': 8407, '당시에': 8408, '여러사람의': 8409, '카드와': 8410, '대량으로': 8411, '양을': 8412, '물품들': 8413, '본인명의로되어있는': 8414, '포함되어있었어요': 8415, '확인하기': 8416, '압수된': 8417, '통장들의': 8418, '범죄자들이': 8419, '범행에': 8420, '했더라고요': 8421, '경남은행': 8422, '주기': 8423, '범죄자들한테': 8424, '제공했는지': 8425, '판매나': 8426, '양도등을': 8427, '직접했는지': 8428, '유출되어': 8429, '도용된': 8430, '경우인지': 8431, '과정이에요': 8432, '통장들을': 8433, '하시니깐': 8434, '도용이된거': 8435, '업무가': 8436, '바빠서': 8437, '수사관님': 8438, '연결해드릴테니깐': 8439, '협조': 8440, '정도야': 8441, '겨울에': 8442, '얼어': 8443, '명필이겠네': 8444, '8시50분이요': 8445, '창구에': 8446, '붙어': 8447, '사이즈인': 8448, '모자까지': 8449, '딱이겠다': 8450, '평점만': 8451, '보완하셔가지고': 8452, '가능하실': 8453, '개고': 8454, '본인꺼': 8455, '각자': 8456, '옷을': 8457, '알겠죠': 8458, '박스에다가': 8459, '책': 8460, '같': 8461, '은거': 8462, '포장하고': 8463, '포장하셨다고요': 8464, '남자인': 8465, '진다니까': 8466, '바쁘세요': 8467, '결혼하면': 8468, '평일을': 8469, '노려서': 8470, '입은': 8471, '잔치': 8472, '얼마였는지': 8473, '일할': 8474, '이십대': 8475, '후반이였는데': 8476, '기분': 8477, '전환엔': 8478, '바꾸는': 8479, '프라이빗하고': 8480, '의심': 8481, '가기는': 8482, '전혀없습니까': 8483, '연락드린': 8484, '두계좌를': 8485, '개설하셔서': 8486, '금전적인': 8487, '대가를': 8488, '하신건지': 8489, '아니시면': 8490, '신상정보가': 8491, '유출되면서': 8492, '신분인지에': 8493, '수사를': 8494, '진행중입니다': 8495, '성실하게': 8496, '답변해주시면': 8497, '본인명의로된': 8498, '개설하신적': 8499, '부자야': 8500, '50만': 8501, '2000원이시구요': 8502, '세달동안': 8503, '안했을시에': 8504, '되시는데': 8505, '연체시에는': 8506, '50만2000원': 8507, '유념하시구요': 8508, '맞죠': 8509, '들어갈거고': 8510, '원본': 8511, '자택으로': 8512, '은행용하고': 8513, '개인용': 8514, '가지가': 8515, '개인용만': 8516, '계시고요': 8517, '은행용은': 8518, '납입일은': 8519, '몇일로하실': 8520, '15일날': 8521, '가능합니다': 8522, '명의세요': 8523, '통신사써요': 8524, '가능하겠어요': 8525, '신청하기': 8526, '접수하기': 8527, '추워졌으면': 8528, '좋겠는데': 8529, '그나마': 8530, '1종': 8531, '명': 8532, '먹어봤지': 8533, '자금쓰시면서…': 8534, '없습니까': 8535, '노래는': 8536, '외우고': 8537, '저희쪽같은경우에': 8538, '신용대출이': 8539, '정부': 8540, '지원금이세요': 8541, '서민금융나들목이라고': 8542, '한도금액이': 8543, '3800만원에서': 8544, '6': 8545, '8': 8546, '되더라구요': 8547, '연락드렸어요': 8548, '라멘이랑': 8549, '쎄': 8550, '훔쳐': 8551, '먹어봤는데': 8552, '식도': 8553, '녹는': 8554, '무서운': 8555, '똥필이지': 8556, '구하는': 8557, '좋아서': 8558, '렌즈끼고': 8559, '빨래는': 8560, '왼쪽': 8561, '설명부터': 8562, '진행하시는': 8563, '상품은': 8564, '계약기간동안': 8565, '완납처리': 8566, '쌓아드려야': 8567, '서민': 8568, '4살은': 8569, '궁합도': 8570, '본다던데': 8571, '프로포즈': 8572, '극한직업도': 8573, '봤었어': 8574, '고군분투라는': 8575, '가능하시죠': 8576, '유선으로': 8577, '일차적으로': 8578, '분인지': 8579, '판단을': 8580, '유선통화': 8581, '부정': 8582, '자택에': 8583, '주민등록증': 8584, '주소지로': 8585, '받아보시면은': 8586, '지검으로': 8587, '부분이세요': 8588, '떠서': 8589, '그거도': 8590, '쩔더라': 8591, '카레향': 8592, '주변도': 8593, '쉴': 8594, '안과': 8595, '가볼까': 8596, '접속하셨으면은': 8597, '검색하시는': 8598, '검색란': 8599, '손톱이': 8600, '작은데': 8601, '해주다가': 8602, '손톱에': 8603, '가보냐': 8604, '메모좀': 8605, '미쳤어': 8606, '마동석인가': 8607, '은행직원인데': 8608, '재직하고있는': 8609, '기간동안에': 8610, '휴먼상태로된': 8611, '계좌거나': 8612, '유출된': 8613, '수집해서': 8614, '불법거래한': 8615, '혐의로': 8616, '받고있습니다': 8617, '놀았다고': 8618, '허리도': 8619, 'kb캐피탈입니다': 8620, '좋아하겠네': 8621, '혼자서': 8622, '무슨말씀이시죠': 8623, '최애': 8624, '치킨보다': 8625, '체면이': 8626, '부분이고': 8627, '전화드리겠습니다': 8628, '중간중간에요': 8629, '여태까지': 8630, '어디신지도': 8631, '통화하고': 8632, '넣으시고': 8633, '하셨던': 8634, '잘생겼다고': 8635, '닥치래': 8636, '달이라고': 8637, '나왔는데': 8638, '변하사에': 8639, '조취를': 8640, '취소하라는': 8641, '법원': 8642, '판결이': 8643, '금수저': 8644, '사주나': 8645, '직업': 8646, '군인들만': 8647, '이용하는구나': 8648, '본사에': 8649, '전화하시든': 8650, '연락주시면': 8651, '어디쪽이세요': 8652, '화': 8653, '금': 8654, '토': 8655, '일주일을': 8656, '쉬는': 8657, '이득': 8658, '패여': 8659, '마': 8660, '관리하면': 8661, '포털에': 8662, '올렸으면': 8663, '박제는': 8664, '따': 8665, '아몬드': 8666, '초콜릿이랑': 8667, '유명': 8668, '강사가': 8669, '짱인': 8670, '풍미가': 8671, '개념': 8672, '것들': 8673, '우체국도': 8674, '가깝다면서요': 8675, '불러주시겠습니까': 8676, '나오고': 8677, '페이스북': 8678, '짤에': 8679, '징그럽더라': 8680, '실적': 8681, '지켜주시고요': 8682, '이웃': 8683, '주민이라고': 8684, '싱가포르': 8685, '위드': 8686, '진행하고': 8687, '현모양처야': 8688, '신부': 8689, '감으로': 8690, '딱이야': 8691, '마음이': 8692, '어떤지': 8693, '느껴봐야': 8694, '수영장': 8695, '밖에도': 8696, '안에도': 8697, '맛으로': 8698, '건강': 8699, '4일': 8700, '상환하시게': 8701, '사람인': 8702, '농협통장이': 8703, '잘못되신거': 8704, '같은데요': 8705, '그분께서': 8706, '농협에': 8707, '하셨는데': 8708, '농협통장하고': 8709, '대리': 8710, '현금인출을': 8711, '원하시고': 8712, '계신대요': 8713, '이상한거': 8714, '지켜주셔야': 8715, '발급받으실려고': 8716, '거치기간내에': 8717, '상환하실': 8718, '도와드리는거잖아요': 8719}\n"
     ]
    }
   ],
   "source": [
    "word_to_index = tokenizer.word_index # 계산된 단어 인덱스를 구함 word_index 속성은 단어와 숫자의 키-값 쌍을 포함하는 딕셔너리를 반환"
   ]
  },
  {
   "cell_type": "code",
   "execution_count": 35,
   "id": "bd4e076e",
   "metadata": {},
   "outputs": [
    {
     "name": "stdout",
     "output_type": "stream",
     "text": [
      "등장 빈도가 1번 이하인 희귀 단어의 수: 6207\n",
      "단어 집합(vocabulary)에서 희귀 단어의 비율: 71.18935657758917\n",
      "전체 등장 빈도에서 희귀 단어 등장 빈도 비율: 28.939761283103323\n"
     ]
    }
   ],
   "source": [
    "threshold = 2        # 2-1 = 1 즉 1번만 등장하는 단어들을 제거하기 위한 threshold 값 선정\n",
    "total_cnt = len(word_to_index) # 단어의 수\n",
    "rare_cnt = 0 # 등장 빈도수가 threshold보다 작은 단어의 개수를 카운트\n",
    "total_freq = 0 # 훈련 데이터의 전체 단어 빈도수 총 합\n",
    "rare_freq = 0 # 등장 빈도수가 threshold보다 작은 단어의 등장 빈도수의 총 합\n",
    "\n",
    "# 단어와 빈도수의 쌍(pair)을 key와 value로 받는다.\n",
    "for key, value in tokenizer.word_counts.items():\n",
    "    total_freq = total_freq + value\n",
    "\n",
    "    # 단어의 등장 빈도수가 threshold보다 작으면\n",
    "    if(value < threshold):\n",
    "        rare_cnt = rare_cnt + 1\n",
    "        rare_freq = rare_freq + value\n",
    "\n",
    "print('등장 빈도가 %s번 이하인 희귀 단어의 수: %s'%(threshold - 1, rare_cnt))\n",
    "print(\"단어 집합(vocabulary)에서 희귀 단어의 비율:\", (rare_cnt / total_cnt)*100)\n",
    "print(\"전체 등장 빈도에서 희귀 단어 등장 빈도 비율:\", (rare_freq / total_freq)*100)"
   ]
  },
  {
   "cell_type": "code",
   "execution_count": 56,
   "id": "1b6b765b",
   "metadata": {},
   "outputs": [
    {
     "data": {
      "text/plain": [
       "8719"
      ]
     },
     "execution_count": 56,
     "metadata": {},
     "output_type": "execute_result"
    }
   ],
   "source": [
    "total_cnt"
   ]
  },
  {
   "cell_type": "markdown",
   "id": "f4c6951f",
   "metadata": {},
   "source": [
    "## 훈련데이터에서 희귀단어 등장 빈도 비율이 28%이므로 높음\n",
    "- 데이터셋을 더 다양화 시키고 양을 늘려 해결해야함\n",
    "- 일단 이 코드에서는 제외 시키진 않았음"
   ]
  },
  {
   "cell_type": "code",
   "execution_count": 36,
   "id": "f44e6d68",
   "metadata": {},
   "outputs": [
    {
     "name": "stdout",
     "output_type": "stream",
     "text": [
      "단어 집합의 크기: 8720\n"
     ]
    }
   ],
   "source": [
    "vocab_size = len(word_to_index) + 1 # 패딩을 위한 토큰인 0번 단어를 고려하며 +1을 해서 저장합니다.\n",
    "print('단어 집합의 크기: {}'.format((vocab_size)))"
   ]
  },
  {
   "cell_type": "code",
   "execution_count": 37,
   "id": "eef7a5ac",
   "metadata": {
    "scrolled": false
   },
   "outputs": [
    {
     "name": "stdout",
     "output_type": "stream",
     "text": [
      "문장의 최대 길이 : 270\n",
      "문장의 평균 길이 : 7.285326\n"
     ]
    },
    {
     "data": {
      "image/png": "[encoded data removed]",
      "text/plain": [
       "<Figure size 432x288 with 1 Axes>"
      ]
     },
     "metadata": {
      "needs_background": "light"
     },
     "output_type": "display_data"
    }
   ],
   "source": [
    "print('문장의 최대 길이 : %d' % max(len(l) for l in X_train_encoded))\n",
    "print('문장의 평균 길이 : %f' % (sum(map(len, X_train_encoded))/len(X_train_encoded)))\n",
    "plt.hist([len(s) for s in X_data], bins=50)\n",
    "plt.xlabel('length of samples')\n",
    "plt.ylabel('number of samples')\n",
    "\n",
    "plt.show()"
   ]
  },
  {
   "cell_type": "code",
   "execution_count": 38,
   "id": "517f5312",
   "metadata": {},
   "outputs": [
    {
     "name": "stdout",
     "output_type": "stream",
     "text": [
      "훈련 데이터의 크기(shape):  (2944, 270)\n"
     ]
    }
   ],
   "source": [
    "max_len = 270\n",
    "X_train_padded = pad_sequences(X_train_encoded, maxlen = max_len)\n",
    "print(\"훈련 데이터의 크기(shape): \", X_train_padded.shape)"
   ]
  },
  {
   "cell_type": "markdown",
   "id": "64acba93",
   "metadata": {},
   "source": [
    "# RNN으로 보이스 피싱 탐지"
   ]
  },
  {
   "cell_type": "code",
   "execution_count": 39,
   "id": "97557815",
   "metadata": {},
   "outputs": [],
   "source": [
    "from tensorflow.keras.layers import SimpleRNN, Embedding, Dense\n",
    "from tensorflow.keras.models import Sequential"
   ]
  },
  {
   "cell_type": "code",
   "execution_count": 40,
   "id": "b6337ef1",
   "metadata": {},
   "outputs": [
    {
     "name": "stdout",
     "output_type": "stream",
     "text": [
      "Epoch 1/10\n",
      "37/37 [==============================] - 4s 56ms/step - loss: 0.5312 - acc: 0.7588 - val_loss: 0.4702 - val_acc: 0.7997\n",
      "Epoch 2/10\n",
      "37/37 [==============================] - 2s 46ms/step - loss: 0.4046 - acc: 0.8378 - val_loss: 0.3938 - val_acc: 0.8251\n",
      "Epoch 3/10\n",
      "37/37 [==============================] - 2s 52ms/step - loss: 0.2849 - acc: 0.8909 - val_loss: 0.3070 - val_acc: 0.8761\n",
      "Epoch 4/10\n",
      "37/37 [==============================] - 2s 47ms/step - loss: 0.2769 - acc: 0.8807 - val_loss: 0.4661 - val_acc: 0.7538\n",
      "Epoch 5/10\n",
      "37/37 [==============================] - 2s 46ms/step - loss: 0.2290 - acc: 0.9057 - val_loss: 0.2572 - val_acc: 0.8862\n",
      "Epoch 6/10\n",
      "37/37 [==============================] - 2s 46ms/step - loss: 0.1115 - acc: 0.9660 - val_loss: 0.2237 - val_acc: 0.9134\n",
      "Epoch 7/10\n",
      "37/37 [==============================] - 2s 46ms/step - loss: 0.0835 - acc: 0.9715 - val_loss: 0.2157 - val_acc: 0.9032\n",
      "Epoch 8/10\n",
      "37/37 [==============================] - 2s 45ms/step - loss: 0.0627 - acc: 0.9839 - val_loss: 0.1925 - val_acc: 0.9049\n",
      "Epoch 9/10\n",
      "37/37 [==============================] - 2s 47ms/step - loss: 0.0432 - acc: 0.9864 - val_loss: 0.2144 - val_acc: 0.9049\n",
      "Epoch 10/10\n",
      "37/37 [==============================] - 2s 47ms/step - loss: 0.0298 - acc: 0.9907 - val_loss: 0.1789 - val_acc: 0.9202\n"
     ]
    }
   ],
   "source": [
    "model = Sequential()\n",
    "model.add(Embedding(vocab_size, 32)) # 임베딩 벡터의 차원은 32\n",
    "model.add(SimpleRNN(32)) # RNN 셀의 hidden_size는 32\n",
    "model.add(Dense(1, activation='sigmoid'))\n",
    "\n",
    "model.compile(optimizer='rmsprop', loss='binary_crossentropy', metrics=['acc'])\n",
    "history = model.fit(X_train_padded, y_train, epochs=10, batch_size=64, validation_split=0.2)"
   ]
  },
  {
   "cell_type": "code",
   "execution_count": 41,
   "id": "1f06a7b3",
   "metadata": {},
   "outputs": [],
   "source": [
    "X_test_encoded = tokenizer.texts_to_sequences(X_test)\n",
    "X_test_padded = pad_sequences(X_test_encoded, maxlen = max_len)"
   ]
  },
  {
   "cell_type": "code",
   "execution_count": 42,
   "id": "cb189a44",
   "metadata": {},
   "outputs": [
    {
     "name": "stdout",
     "output_type": "stream",
     "text": [
      "23/23 [==============================] - 0s 13ms/step - loss: 0.1937 - acc: 0.9212\n",
      "\n",
      " 테스트 정확도: 0.9212\n"
     ]
    }
   ],
   "source": [
    "print(\"\\n 테스트 정확도: %.4f\" % (model.evaluate(X_test_padded, y_test)[1]))"
   ]
  },
  {
   "cell_type": "code",
   "execution_count": 43,
   "id": "2c6bddf3",
   "metadata": {},
   "outputs": [
    {
     "data": {
      "image/png": "[encoded data removed]",
      "text/plain": [
       "<Figure size 432x288 with 1 Axes>"
      ]
     },
     "metadata": {
      "needs_background": "light"
     },
     "output_type": "display_data"
    }
   ],
   "source": [
    "epochs = range(1, len(history.history['acc']) + 1)\n",
    "plt.plot(epochs, history.history['loss'])\n",
    "plt.plot(epochs, history.history['val_loss'])\n",
    "plt.title('model loss')\n",
    "plt.ylabel('loss')\n",
    "plt.xlabel('epoch')\n",
    "plt.legend(['train', 'val'], loc='upper left')\n",
    "plt.show()"
   ]
  },
  {
   "cell_type": "code",
   "execution_count": null,
   "id": "bec155bf",
   "metadata": {},
   "outputs": [],
   "source": []
  }
 ],
 "metadata": {
  "kernelspec": {
   "display_name": "Python 3 (ipykernel)",
   "language": "python",
   "name": "python3"
  },
  "language_info": {
   "codemirror_mode": {
    "name": "ipython",
    "version": 3
   },
   "file_extension": ".py",
   "mimetype": "text/x-python",
   "name": "python",
   "nbconvert_exporter": "python",
   "pygments_lexer": "ipython3",
   "version": "3.9.13"
  }
 },
 "nbformat": 4,
 "nbformat_minor": 5
}
